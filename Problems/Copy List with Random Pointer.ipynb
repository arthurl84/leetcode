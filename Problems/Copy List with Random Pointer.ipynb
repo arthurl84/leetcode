{
 "cells": [
  {
   "cell_type": "markdown",
   "source": [
    "## Copy List with Random Pointer  "
   ],
   "metadata": {}
  },
  {
   "cell_type": "code",
   "execution_count": 2,
   "source": [
    "class Node:\r\n",
    "    def __init__(self, x: int, next: 'Node'=None, random: 'Node'=None):\r\n",
    "        self.val = int(x)\r\n",
    "        self.next = next\r\n",
    "        self.random = random"
   ],
   "outputs": [],
   "metadata": {}
  },
  {
   "cell_type": "code",
   "execution_count": 3,
   "source": [
    "def copyRandomList(head: 'Node') -> 'Node':\r\n",
    "    curr = head\r\n",
    "    while curr:\r\n",
    "        next_node = curr.next\r\n",
    "        copy = Node(curr.val)\r\n",
    "        curr.next = copy\r\n",
    "        copy.next = next_node\r\n",
    "        curr = next_node\r\n",
    "\r\n",
    "    curr = head\r\n",
    "    while curr:\r\n",
    "        if curr.random:\r\n",
    "            curr.next.random = curr.random.next\r\n",
    "        curr = curr.next.next\r\n",
    "\r\n",
    "    curr = head\r\n",
    "    pseudo_head = Node(0)\r\n",
    "    copy_curr = pseudo_head\r\n",
    "    while curr:\r\n",
    "        next_node = curr.next.next\r\n",
    "        copy = curr.next\r\n",
    "        copy_curr.next = copy\r\n",
    "        copy_curr = copy\r\n",
    "        curr = next_node\r\n",
    "\r\n",
    "    return pseudo_head.next"
   ],
   "outputs": [],
   "metadata": {}
  },
  {
   "cell_type": "code",
   "execution_count": null,
   "source": [],
   "outputs": [],
   "metadata": {}
  }
 ],
 "metadata": {
  "orig_nbformat": 4,
  "language_info": {
   "name": "python",
   "version": "3.8.3",
   "mimetype": "text/x-python",
   "codemirror_mode": {
    "name": "ipython",
    "version": 3
   },
   "pygments_lexer": "ipython3",
   "nbconvert_exporter": "python",
   "file_extension": ".py"
  },
  "kernelspec": {
   "name": "python3",
   "display_name": "Python 3.8.3 64-bit ('base': conda)"
  },
  "interpreter": {
   "hash": "0dec37722eda255af3ca978d4fa44bb649fa9ba4c84e73cb2ab12a24b81d7aa7"
  }
 },
 "nbformat": 4,
 "nbformat_minor": 2
}