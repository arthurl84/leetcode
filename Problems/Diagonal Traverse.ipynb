{
 "metadata": {
  "language_info": {
   "codemirror_mode": {
    "name": "ipython",
    "version": 3
   },
   "file_extension": ".py",
   "mimetype": "text/x-python",
   "name": "python",
   "nbconvert_exporter": "python",
   "pygments_lexer": "ipython3",
   "version": "3.8.3"
  },
  "orig_nbformat": 2,
  "kernelspec": {
   "name": "python383jvsc74a57bd00dec37722eda255af3ca978d4fa44bb649fa9ba4c84e73cb2ab12a24b81d7aa7",
   "display_name": "Python 3.8.3 64-bit ('base': conda)"
  }
 },
 "nbformat": 4,
 "nbformat_minor": 2,
 "cells": [
  {
   "source": [
    "## Diagonal Traverse  \n",
    "\n",
    "Given an m x n matrix mat, return an array of all the elements of the array in a diagonal order.  \n"
   ],
   "cell_type": "markdown",
   "metadata": {}
  },
  {
   "cell_type": "code",
   "execution_count": 5,
   "metadata": {},
   "outputs": [],
   "source": [
    "class Solution(object):\n",
    "    def findDiagonalOrder(self, mat):\n",
    "\n",
    "        if not mat or not mat[0]:\n",
    "            return []\n",
    "\n",
    "        N, M = len(mat), len(mat[0])\n",
    "        result, intermediate = [], []\n",
    "\n",
    "        for d in range(N + M - 1):\n",
    "            intermediate.clear()\n",
    "\n",
    "            r, c = 0 if d < M else d - M + 1, d if d < M else M - 1\n",
    "\n",
    "            while r < N and c > -1:\n",
    "                intermediate.append(mat[r][c])\n",
    "                r += 1\n",
    "                c -= 1\n",
    "\n",
    "            if d % 2 == 0:\n",
    "                result.extend(intermediate[::-1])\n",
    "            else:\n",
    "                result.extend(intermediate)\n",
    "\n",
    "        return result\n",
    "\n",
    "    def findDiagonalOrder2(self, mat):\n",
    "\n",
    "        if not mat or not mat[0]:\n",
    "            return []\n",
    "\n",
    "        N, M = len(mat), len(mat[0])\n",
    "        r, c = 0, 0\n",
    "\n",
    "        direction = 1\n",
    "        result = []\n",
    "\n",
    "        while r < N and c < M:\n",
    "            result.append(mat[r][c])\n",
    "\n",
    "            new_r = r + (-1 if direction else 1)\n",
    "            new_c = c + (1 if direction else -1)\n",
    "\n",
    "            if new_r < 0 or new_r == N or new_c < 0 or new_c == M:\n",
    "                if direction:\n",
    "                    r += (c == M - 1)\n",
    "                    c += (c < M - 1)\n",
    "                else:\n",
    "                    c += (r == N - 1)\n",
    "                    r += (r < N - 1)\n",
    "\n",
    "                direction = 1 - direction\n",
    "            else:\n",
    "                r = new_r\n",
    "                c = new_c\n",
    "\n",
    "        return result"
   ]
  },
  {
   "cell_type": "code",
   "execution_count": 6,
   "metadata": {},
   "outputs": [
    {
     "output_type": "execute_result",
     "data": {
      "text/plain": [
       "[1, 2, 4, 7, 5, 3, 6, 8, 9]"
      ]
     },
     "metadata": {},
     "execution_count": 6
    }
   ],
   "source": [
    "sol = Solution()\n",
    "sol.findDiagonalOrder([[1,2,3],[4,5,6],[7,8,9]])"
   ]
  },
  {
   "cell_type": "code",
   "execution_count": 7,
   "metadata": {},
   "outputs": [
    {
     "output_type": "execute_result",
     "data": {
      "text/plain": [
       "[1, 2, 4, 7, 5, 3, 6, 8, 9]"
      ]
     },
     "metadata": {},
     "execution_count": 7
    }
   ],
   "source": [
    "sol.findDiagonalOrder2([[1,2,3],[4,5,6],[7,8,9]])"
   ]
  },
  {
   "cell_type": "code",
   "execution_count": null,
   "metadata": {},
   "outputs": [],
   "source": []
  }
 ]
}