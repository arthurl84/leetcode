{
 "cells": [
  {
   "cell_type": "markdown",
   "source": [
    "## Perfect Squares  "
   ],
   "metadata": {}
  },
  {
   "cell_type": "code",
   "execution_count": 1,
   "source": [
    "import math\r\n",
    "\r\n",
    "def numSquares(n: int) -> int:\r\n",
    "    \r\n",
    "    square_nums = [i**2 for i in range(1, int(math.sqrt(n)) + 1)]\r\n",
    "\r\n",
    "    level = 0\r\n",
    "    queue = {n}\r\n",
    "    while queue:\r\n",
    "        level += 1\r\n",
    "        next_queue = set()\r\n",
    "        for remainder in queue:\r\n",
    "            for square in square_nums:\r\n",
    "                if remainder == square:\r\n",
    "                    return level\r\n",
    "                elif remainder < square:\r\n",
    "                    break\r\n",
    "                else:\r\n",
    "                    next_queue.add(remainder - square)\r\n",
    "        queue = next_queue\r\n",
    "    return level"
   ],
   "outputs": [],
   "metadata": {}
  },
  {
   "cell_type": "code",
   "execution_count": 2,
   "source": [
    "numSquares(12)"
   ],
   "outputs": [
    {
     "output_type": "execute_result",
     "data": {
      "text/plain": [
       "3"
      ]
     },
     "metadata": {},
     "execution_count": 2
    }
   ],
   "metadata": {}
  },
  {
   "cell_type": "code",
   "execution_count": null,
   "source": [],
   "outputs": [],
   "metadata": {}
  }
 ],
 "metadata": {
  "orig_nbformat": 4,
  "language_info": {
   "name": "python",
   "version": "3.8.3",
   "mimetype": "text/x-python",
   "codemirror_mode": {
    "name": "ipython",
    "version": 3
   },
   "pygments_lexer": "ipython3",
   "nbconvert_exporter": "python",
   "file_extension": ".py"
  },
  "kernelspec": {
   "name": "python3",
   "display_name": "Python 3.8.3 64-bit ('base': conda)"
  },
  "interpreter": {
   "hash": "0dec37722eda255af3ca978d4fa44bb649fa9ba4c84e73cb2ab12a24b81d7aa7"
  }
 },
 "nbformat": 4,
 "nbformat_minor": 2
}