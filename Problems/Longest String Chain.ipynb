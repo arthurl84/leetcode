{
 "metadata": {
  "language_info": {
   "codemirror_mode": {
    "name": "ipython",
    "version": 3
   },
   "file_extension": ".py",
   "mimetype": "text/x-python",
   "name": "python",
   "nbconvert_exporter": "python",
   "pygments_lexer": "ipython3",
   "version": "3.8.3"
  },
  "orig_nbformat": 4,
  "kernelspec": {
   "name": "python3",
   "display_name": "Python 3.8.3 64-bit ('base': conda)"
  },
  "interpreter": {
   "hash": "0dec37722eda255af3ca978d4fa44bb649fa9ba4c84e73cb2ab12a24b81d7aa7"
  }
 },
 "nbformat": 4,
 "nbformat_minor": 2,
 "cells": [
  {
   "source": [
    "## Longest String Chain  "
   ],
   "cell_type": "markdown",
   "metadata": {}
  },
  {
   "cell_type": "code",
   "execution_count": 1,
   "metadata": {},
   "outputs": [],
   "source": [
    "class Solution:\n",
    "    def longestStrChain(self, words):\n",
    "\n",
    "        wordsPresent = set(words)\n",
    "        memo = {}\n",
    "\n",
    "        def dfs(currentWord):\n",
    "            \n",
    "            if currentWord in memo:\n",
    "                return memo[currentWord]\n",
    "\n",
    "            maxLen = 1\n",
    "            for i in range(len(currentWord)):\n",
    "                newWord = currentWord[:i] + currentWord[i + 1:]\n",
    "                if newWord in wordsPresent:\n",
    "                    currentLen = dfs(newWord) + 1\n",
    "                    maxLen = max(maxLen, currentLen)\n",
    "\n",
    "            memo[currentWord] = maxLen\n",
    "            return maxLen\n",
    "\n",
    "        maxLength = 0\n",
    "        for word in wordsPresent:\n",
    "            maxLength = max(maxLength, dfs(word))\n",
    "\n",
    "        return maxLength\n",
    "\n",
    "    def longestStrChain2(self, words):\n",
    "        \n",
    "        map = {}\n",
    "        words.sort(key=len)\n",
    "        \n",
    "        longestWordSequenceLength = 1\n",
    "        for word in words:\n",
    "            presentLength = 1\n",
    "            for i in range(len(word)):\n",
    "                predecessor = word[:i] + word[i + 1:]\n",
    "                previousLength = map.get(predecessor, 0)\n",
    "                presentLength = max(presentLength, previousLength + 1)\n",
    "            map[word] = presentLength\n",
    "            longestWordSequenceLength = max(longestWordSequenceLength, presentLength)\n",
    "        \n",
    "        print(map)\n",
    "        return longestWordSequenceLength"
   ]
  },
  {
   "cell_type": "code",
   "execution_count": 2,
   "metadata": {},
   "outputs": [],
   "source": [
    "sol = Solution()"
   ]
  },
  {
   "cell_type": "code",
   "execution_count": 3,
   "metadata": {},
   "outputs": [
    {
     "output_type": "stream",
     "name": "stdout",
     "text": [
      "{'a': 1, 'b': 1, 'ba': 2, 'bca': 3, 'bda': 3, 'bdca': 4}\n"
     ]
    },
    {
     "output_type": "execute_result",
     "data": {
      "text/plain": [
       "4"
      ]
     },
     "metadata": {},
     "execution_count": 3
    }
   ],
   "source": [
    "sol.longestStrChain2([\"a\",\"b\",\"ba\",\"bca\",\"bda\",\"bdca\"])"
   ]
  },
  {
   "cell_type": "code",
   "execution_count": 4,
   "metadata": {},
   "outputs": [
    {
     "output_type": "stream",
     "name": "stdout",
     "text": [
      "{'xb': 1, 'xbc': 2, 'cxbc': 3, 'pcxbc': 4, 'pcxbcf': 5}\n"
     ]
    },
    {
     "output_type": "execute_result",
     "data": {
      "text/plain": [
       "5"
      ]
     },
     "metadata": {},
     "execution_count": 4
    }
   ],
   "source": [
    "sol.longestStrChain2([\"xbc\",\"pcxbcf\",\"xb\",\"cxbc\",\"pcxbc\"])"
   ]
  },
  {
   "cell_type": "code",
   "execution_count": 5,
   "metadata": {},
   "outputs": [
    {
     "output_type": "stream",
     "name": "stdout",
     "text": [
      "{'abcd': 1, 'dbqca': 1}\n"
     ]
    },
    {
     "output_type": "execute_result",
     "data": {
      "text/plain": [
       "1"
      ]
     },
     "metadata": {},
     "execution_count": 5
    }
   ],
   "source": [
    "sol.longestStrChain2([\"abcd\",\"dbqca\"])"
   ]
  },
  {
   "cell_type": "code",
   "execution_count": null,
   "metadata": {},
   "outputs": [],
   "source": []
  }
 ]
}