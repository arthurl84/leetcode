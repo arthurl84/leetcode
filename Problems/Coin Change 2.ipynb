{
 "metadata": {
  "language_info": {
   "codemirror_mode": {
    "name": "ipython",
    "version": 3
   },
   "file_extension": ".py",
   "mimetype": "text/x-python",
   "name": "python",
   "nbconvert_exporter": "python",
   "pygments_lexer": "ipython3",
   "version": "3.8.3"
  },
  "orig_nbformat": 2,
  "kernelspec": {
   "name": "python383jvsc74a57bd00dec37722eda255af3ca978d4fa44bb649fa9ba4c84e73cb2ab12a24b81d7aa7",
   "display_name": "Python 3.8.3 64-bit ('base': conda)"
  }
 },
 "nbformat": 4,
 "nbformat_minor": 2,
 "cells": [
  {
   "source": [
    "### Coin Change 2  \n",
    "You are given an integer array coins representing coins of different denominations and an integer amount representing a total amount of money.  \n",
    "Return the number of combinations that make up that amount. If that amount of money cannot be made up by any combination of the coins, return 0.  \n",
    "You may assume that you have an infinite number of each kind of coin.  \n",
    "The answer is guaranteed to fit into a signed 32-bit integer."
   ],
   "cell_type": "markdown",
   "metadata": {}
  },
  {
   "cell_type": "code",
   "execution_count": 1,
   "metadata": {},
   "outputs": [],
   "source": [
    "def change(amount, coins):\n",
    "    dp = [0] * (amount + 1)\n",
    "    dp[0] = 1\n",
    "    for c in coins:\n",
    "        for j in range(1, amount + 1):\n",
    "            if j >= c:\n",
    "                dp[j] += dp[j - c]\n",
    "    print(dp)\n",
    "    return dp[amount]"
   ]
  },
  {
   "cell_type": "code",
   "execution_count": 2,
   "metadata": {},
   "outputs": [
    {
     "output_type": "stream",
     "name": "stdout",
     "text": [
      "[1, 1, 2, 2, 3, 4]\n4\n"
     ]
    }
   ],
   "source": [
    "print(change(5, [1,2,5]))"
   ]
  },
  {
   "cell_type": "code",
   "execution_count": null,
   "metadata": {},
   "outputs": [],
   "source": []
  }
 ]
}