{
 "cells": [
  {
   "cell_type": "markdown",
   "metadata": {},
   "source": [
    "### Find Purchased Users Data  "
   ]
  },
  {
   "cell_type": "code",
   "execution_count": 1,
   "metadata": {},
   "outputs": [],
   "source": [
    "completed_purchase_user_ids = [\"3123122444\", \"234111110\", \"8321125440\", \"99911063\"]"
   ]
  },
  {
   "cell_type": "code",
   "execution_count": 2,
   "metadata": {},
   "outputs": [],
   "source": [
    "ad_clicks = [\n",
    "    #\"IP_Address,Time,Ad_Text\",\n",
    "    \"122.121.0.1,2016-11-03 11:41:19,Buy wool coats for your pets\",\n",
    "    \"96.3.199.11,2016-10-15 20:18:31,2017 Pet Mittens\",\n",
    "    \"122.121.0.250,2016-11-01 06:13:13,The Best Hollywood Coats\",\n",
    "    \"82.1.106.8,2016-11-12 23:05:14,Buy wool coats for your pets\",\n",
    "    \"92.130.6.144,2017-01-01 03:18:55,Buy wool coats for your pets\",\n",
    "    \"122.121.0.155,2017-01-01 03:18:55,Buy wool coats for your pets\",\n",
    "    \"92.130.6.145,2017-01-01 03:18:55,2017 Pet Mittens\",\n",
    "]"
   ]
  },
  {
   "cell_type": "code",
   "execution_count": 3,
   "metadata": {},
   "outputs": [],
   "source": [
    "all_user_ips = [\n",
    "    #\"User_ID,IP_Address\",\n",
    "    \"2339985511,122.121.0.155\",\n",
    "    \"234111110,122.121.0.1\",\n",
    "    \"3123122444,92.130.6.145\",\n",
    "    \"39471289472,2001:0db8:ac10:fe01:0000:0000:0000:0000\",\n",
    "    \"8321125440,82.1.106.8\",\n",
    "    \"99911063,92.130.6.144\"\n",
    "]"
   ]
  },
  {
   "cell_type": "code",
   "execution_count": 4,
   "metadata": {},
   "outputs": [],
   "source": [
    "from typing import List, Set\n",
    "from collections import defaultdict\n",
    "\n",
    "def getPurchasedCount(usersWhoClicked: List[str], usersWhoMadePurchases: Set[str]) -> int:\n",
    "    count = 0\n",
    "    for user in usersWhoClicked:\n",
    "        if user in usersWhoMadePurchases:\n",
    "            count += 1\n",
    "    return count"
   ]
  },
  {
   "cell_type": "code",
   "execution_count": 5,
   "metadata": {},
   "outputs": [],
   "source": [
    "def findPurchasedUsersData(completed_purchase_user_ids: List[str], ad_clicks: List[str], all_user_ips: List[str]) -> List[str]:\n",
    "    \n",
    "    res = []\n",
    "    hashmap = defaultdict(list) # <adText, List[userId]>\n",
    "    ipUserMap = {}\n",
    "    usersWhoMadePurchases = set(completed_purchase_user_ids)\n",
    "    \n",
    "    for userIp in all_user_ips:\n",
    "        user, ip = userIp.split(',')\n",
    "        ipUserMap[ip] = user\n",
    "    \n",
    "    for adClick in ad_clicks:\n",
    "        ip, time, adText = adClick.split(',')\n",
    "        user = ipUserMap.get(ip, '')\n",
    "        hashmap[adText].append(user)\n",
    "        \n",
    "    for adText, usersWhoClicked in hashmap.items():\n",
    "        totalClicks = len(usersWhoClicked)\n",
    "        purchasedCount = getPurchasedCount(usersWhoClicked, usersWhoMadePurchases)\n",
    "        res.append('{} of {} {}'.format(purchasedCount, totalClicks, adText))\n",
    "\n",
    "    return res"
   ]
  },
  {
   "cell_type": "code",
   "execution_count": 6,
   "metadata": {},
   "outputs": [
    {
     "data": {
      "text/plain": [
       "['3 of 4 Buy wool coats for your pets',\n",
       " '1 of 2 2017 Pet Mittens',\n",
       " '0 of 1 The Best Hollywood Coats']"
      ]
     },
     "execution_count": 6,
     "metadata": {},
     "output_type": "execute_result"
    }
   ],
   "source": [
    "findPurchasedUsersData(completed_purchase_user_ids, ad_clicks, all_user_ips)"
   ]
  },
  {
   "cell_type": "code",
   "execution_count": null,
   "metadata": {},
   "outputs": [],
   "source": []
  }
 ],
 "metadata": {
  "interpreter": {
   "hash": "0dec37722eda255af3ca978d4fa44bb649fa9ba4c84e73cb2ab12a24b81d7aa7"
  },
  "kernelspec": {
   "display_name": "Python 3.8.3 64-bit ('base': conda)",
   "language": "python",
   "name": "python3"
  },
  "language_info": {
   "codemirror_mode": {
    "name": "ipython",
    "version": 3
   },
   "file_extension": ".py",
   "mimetype": "text/x-python",
   "name": "python",
   "nbconvert_exporter": "python",
   "pygments_lexer": "ipython3",
   "version": "3.8.3"
  },
  "orig_nbformat": 4
 },
 "nbformat": 4,
 "nbformat_minor": 2
}
