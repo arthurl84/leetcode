{
 "metadata": {
  "language_info": {
   "codemirror_mode": {
    "name": "ipython",
    "version": 3
   },
   "file_extension": ".py",
   "mimetype": "text/x-python",
   "name": "python",
   "nbconvert_exporter": "python",
   "pygments_lexer": "ipython3",
   "version": "3.8.3"
  },
  "orig_nbformat": 2,
  "kernelspec": {
   "name": "python383jvsc74a57bd00dec37722eda255af3ca978d4fa44bb649fa9ba4c84e73cb2ab12a24b81d7aa7",
   "display_name": "Python 3.8.3 64-bit ('base': conda)"
  }
 },
 "nbformat": 4,
 "nbformat_minor": 2,
 "cells": [
  {
   "source": [
    "## Course Schedule  \n",
    "\n",
    "There are a total of numCourses courses you have to take, labeled from 0 to numCourses - 1. You are given an array prerequisites where prerequisites[i] = [ai, bi] indicates that you must take course bi first if you want to take course ai.  \n",
    "\n",
    "For example, the pair [0, 1], indicates that to take course 0 you have to first take course 1.  \n",
    "Return true if you can finish all courses. Otherwise, return false.  \n"
   ],
   "cell_type": "markdown",
   "metadata": {}
  },
  {
   "cell_type": "code",
   "execution_count": 1,
   "metadata": {},
   "outputs": [],
   "source": [
    "class GNode(object):\n",
    "    def __init__(self):\n",
    "        self.inDegrees = 0\n",
    "        self.outNodes = []"
   ]
  },
  {
   "cell_type": "code",
   "execution_count": 6,
   "metadata": {},
   "outputs": [],
   "source": [
    "from collections import defaultdict, deque"
   ]
  },
  {
   "cell_type": "code",
   "execution_count": 7,
   "metadata": {},
   "outputs": [],
   "source": [
    "class Solution(object):\n",
    "    def canFinish(self, numCourses, prerequisites):\n",
    "        graph = defaultdict(GNode)\n",
    "        \n",
    "        totalDeps = 0\n",
    "        for nextCourse, prevCourse in prerequisites:\n",
    "            graph[prevCourse].outNodes.append(nextCourse)\n",
    "            graph[nextCourse].inDegrees += 1\n",
    "            totalDeps += 1\n",
    "\n",
    "        nodepCourses = deque()\n",
    "        for index, node in graph.items():\n",
    "            if node.inDegrees == 0:\n",
    "                nodepCourses.append(index)\n",
    "        \n",
    "        removedEdges = 0\n",
    "        while nodepCourses:\n",
    "            course = nodepCourses.pop()\n",
    "\n",
    "            for nextCourse in graph[course].outNodes:\n",
    "                graph[nextCourse].inDegrees -= 1\n",
    "                removedEdges += 1\n",
    "\n",
    "                if graph[nextCourse].inDegrees == 0:\n",
    "                    nodepCourses.append(nextCourse)\n",
    "\n",
    "        return removedEdges == totalDeps"
   ]
  },
  {
   "cell_type": "code",
   "execution_count": 8,
   "metadata": {},
   "outputs": [
    {
     "output_type": "execute_result",
     "data": {
      "text/plain": [
       "False"
      ]
     },
     "metadata": {},
     "execution_count": 8
    }
   ],
   "source": [
    "sol = Solution()\n",
    "sol.canFinish(2, [[1,0],[0,1]])"
   ]
  },
  {
   "cell_type": "code",
   "execution_count": null,
   "metadata": {},
   "outputs": [],
   "source": []
  }
 ]
}