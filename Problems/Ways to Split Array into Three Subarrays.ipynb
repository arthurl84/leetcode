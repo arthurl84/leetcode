{
 "metadata": {
  "language_info": {
   "codemirror_mode": {
    "name": "ipython",
    "version": 3
   },
   "file_extension": ".py",
   "mimetype": "text/x-python",
   "name": "python",
   "nbconvert_exporter": "python",
   "pygments_lexer": "ipython3",
   "version": "3.8.3"
  },
  "orig_nbformat": 4,
  "kernelspec": {
   "name": "python3",
   "display_name": "Python 3.8.3 64-bit ('base': conda)"
  },
  "interpreter": {
   "hash": "0dec37722eda255af3ca978d4fa44bb649fa9ba4c84e73cb2ab12a24b81d7aa7"
  }
 },
 "nbformat": 4,
 "nbformat_minor": 2,
 "cells": [
  {
   "source": [
    "## Ways to Split Array Into Three Subarrays  \n",
    "\n",
    "A split of an integer array is good if:  \n",
    "\n",
    "- The array is split into three non-empty contiguous subarrays - named left, mid, right respectively from left to right.  \n",
    "- The sum of the elements in left is less than or equal to the sum of the elements in mid, and the sum of the elements in mid is less than or equal to the sum of the elements in right.  \n",
    "\n",
    "Given nums, an array of non-negative integers, return the number of good ways to split nums. As the number may be too large, return it modulo 109 + 7.  \n"
   ],
   "cell_type": "markdown",
   "metadata": {}
  },
  {
   "cell_type": "code",
   "execution_count": 16,
   "metadata": {},
   "outputs": [],
   "source": [
    "class Solution:\n",
    "    def waysToSplit(self, nums):\n",
    "\n",
    "        prefix = [0]\n",
    "        for x in nums:\n",
    "            prefix.append(x + prefix[-1])\n",
    "        \n",
    "        ans = j = k = 0\n",
    "        res = []\n",
    "        for i in range(1, len(nums)):\n",
    "            j = max(j, i + 1)\n",
    "            while j < len(nums) and prefix[i] > prefix[j] - prefix[i]:\n",
    "                j += 1\n",
    "            k = max(k, j)\n",
    "            while k < len(nums) and prefix[k] - prefix[i] <= prefix[-1] - prefix[k]:\n",
    "                k += 1\n",
    "            ans += k - j\n",
    "            for t in range(j, k):\n",
    "                pri = '{0} {1} {2}'.format(nums[:i], nums[i:t], nums[t:])\n",
    "                res.append([nums[:i], nums[i:t], nums[t:]])\n",
    "                print('{0} {1} {2}'.format(nums[:i], nums[i:t], nums[t:]))\n",
    "        return ans % 1_000_000_007"
   ]
  },
  {
   "cell_type": "code",
   "execution_count": 17,
   "metadata": {},
   "outputs": [],
   "source": [
    "sol = Solution()"
   ]
  },
  {
   "cell_type": "code",
   "execution_count": 18,
   "metadata": {},
   "outputs": [
    {
     "output_type": "stream",
     "name": "stdout",
     "text": [
      "[1] [2] [2, 2, 5, 0]\n[1] [2, 2] [2, 5, 0]\n[1, 2] [2, 2] [5, 0]\n"
     ]
    },
    {
     "output_type": "execute_result",
     "data": {
      "text/plain": [
       "3"
      ]
     },
     "metadata": {},
     "execution_count": 18
    }
   ],
   "source": [
    "sol.waysToSplit([1,2,2,2,5,0])"
   ]
  },
  {
   "cell_type": "code",
   "execution_count": null,
   "metadata": {},
   "outputs": [],
   "source": []
  }
 ]
}