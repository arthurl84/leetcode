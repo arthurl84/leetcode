{
 "cells": [
  {
   "cell_type": "markdown",
   "metadata": {},
   "source": [
    "### Design Browser History  "
   ]
  },
  {
   "cell_type": "code",
   "execution_count": 2,
   "metadata": {},
   "outputs": [],
   "source": [
    "class BrowserHistory:\n",
    "\n",
    "    def __init__(self, homepage: str) -> None:\n",
    "        # two stacks\n",
    "        self.history = [homepage]\n",
    "        self.future = [] # reset the forward stack\n",
    "\n",
    "    def visit(self, url: str) -> None:\n",
    "        self.history.append(url)\n",
    "        self.future = [] # reset the forward stack\n",
    "\n",
    "    def back(self, steps: int) -> str:\n",
    "        while steps > 0 and len(self.history) > 1: # always keep at least one element in the stack\n",
    "            self.future.append(self.history[-1])\n",
    "            self.history.pop()\n",
    "            steps -= 1\n",
    "        return self.history[-1]\n",
    "\n",
    "    def forward(self, steps: int) -> str:\n",
    "        while steps > 0 and self.future:\n",
    "            self.history.append(self.future[-1])\n",
    "            self.future.pop()\n",
    "            steps -= 1\n",
    "        return self.history[-1]"
   ]
  },
  {
   "cell_type": "code",
   "execution_count": 3,
   "metadata": {},
   "outputs": [],
   "source": [
    "class BrowserHistory2:\n",
    "\n",
    "    def __init__(self, homepage: str) -> None:\n",
    "        # list\n",
    "        self.history = [homepage] # using list\n",
    "        self.curr = 0 # current index of the list\n",
    "\n",
    "    def visit(self, url: str) -> None:\n",
    "        self.curr += 1\n",
    "        while self.curr < len(self.history):\n",
    "            self.history.pop() # clear all forward history\n",
    "        self.history.append(url)\n",
    "\n",
    "    def back(self, steps: int) -> str:\n",
    "        self.curr = max(self.curr - steps, 0)\n",
    "        return self.history[self.curr]\n",
    "\n",
    "    def forward(self, steps: int) -> str:\n",
    "        self.curr = min(self.curr + steps, len(self.history) - 1)\n",
    "        return self.history[self.curr]"
   ]
  },
  {
   "cell_type": "code",
   "execution_count": null,
   "metadata": {},
   "outputs": [],
   "source": []
  }
 ],
 "metadata": {
  "interpreter": {
   "hash": "0dec37722eda255af3ca978d4fa44bb649fa9ba4c84e73cb2ab12a24b81d7aa7"
  },
  "kernelspec": {
   "display_name": "Python 3.8.3 64-bit ('base': conda)",
   "language": "python",
   "name": "python3"
  },
  "language_info": {
   "codemirror_mode": {
    "name": "ipython",
    "version": 3
   },
   "file_extension": ".py",
   "mimetype": "text/x-python",
   "name": "python",
   "nbconvert_exporter": "python",
   "pygments_lexer": "ipython3",
   "version": "3.8.3"
  },
  "orig_nbformat": 4
 },
 "nbformat": 4,
 "nbformat_minor": 2
}
