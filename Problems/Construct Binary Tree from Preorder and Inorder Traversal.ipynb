{
 "metadata": {
  "language_info": {
   "codemirror_mode": {
    "name": "ipython",
    "version": 3
   },
   "file_extension": ".py",
   "mimetype": "text/x-python",
   "name": "python",
   "nbconvert_exporter": "python",
   "pygments_lexer": "ipython3",
   "version": "3.8.3"
  },
  "orig_nbformat": 4,
  "kernelspec": {
   "name": "python3",
   "display_name": "Python 3.8.3 64-bit ('base': conda)"
  },
  "interpreter": {
   "hash": "0dec37722eda255af3ca978d4fa44bb649fa9ba4c84e73cb2ab12a24b81d7aa7"
  }
 },
 "nbformat": 4,
 "nbformat_minor": 2,
 "cells": [
  {
   "source": [
    "## Construct Binary Tree from Preorder and Inorder Traversal  \n",
    "Given two integer arrays preorder and inorder where preorder is the preorder traversal of a binary tree and inorder is the inorder traversal of the same tree, construct and return the binary tree.  "
   ],
   "cell_type": "markdown",
   "metadata": {}
  },
  {
   "cell_type": "code",
   "execution_count": 1,
   "metadata": {},
   "outputs": [],
   "source": [
    "from collections import deque"
   ]
  },
  {
   "cell_type": "code",
   "execution_count": 2,
   "metadata": {},
   "outputs": [],
   "source": [
    "class TreeNode:\n",
    "    def __init__(self, val=0, left=None, right=None):\n",
    "        self.val = val\n",
    "        self.left = left\n",
    "        self.right = right"
   ]
  },
  {
   "cell_type": "code",
   "execution_count": 4,
   "metadata": {},
   "outputs": [],
   "source": [
    "class Solution:\n",
    "    def buildTree(self, preorder, inorder):\n",
    "        \n",
    "        if len(preorder) == 0 or len(inorder) == 0:\n",
    "            return None\n",
    "        \n",
    "        idx = {}\n",
    "        for i, val in enumerate(inorder):\n",
    "            idx[val] = i\n",
    "            \n",
    "        # preorder = deque(preorder)\n",
    "        def BinarySearch(low, high):\n",
    "            \n",
    "            nonlocal i\n",
    "            if low > high:\n",
    "                return None\n",
    "            \n",
    "            x = TreeNode(preorder.pop(0))\n",
    "            \n",
    "            mid = idx[x.val]\n",
    "            x.left = BinarySearch(low, mid - 1)\n",
    "            x.right = BinarySearch(mid + 1, high)\n",
    "            \n",
    "            return x\n",
    "        \n",
    "        return BinarySearch(0, len(inorder) - 1)"
   ]
  },
  {
   "cell_type": "code",
   "execution_count": 5,
   "metadata": {},
   "outputs": [],
   "source": [
    "sol = Solution()"
   ]
  },
  {
   "cell_type": "code",
   "execution_count": 6,
   "metadata": {},
   "outputs": [],
   "source": [
    "head = sol.buildTree([3,9,20,15,7], [9,3,15,20,7])"
   ]
  },
  {
   "cell_type": "code",
   "execution_count": null,
   "metadata": {},
   "outputs": [],
   "source": []
  }
 ]
}