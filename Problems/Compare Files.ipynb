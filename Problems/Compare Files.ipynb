{
 "cells": [
  {
   "cell_type": "code",
   "execution_count": 13,
   "metadata": {},
   "outputs": [],
   "source": [
    "import os\n",
    "from typing import List\n",
    "\n",
    "def getFiles(path: str) -> List[str]:\n",
    "    \n",
    "    filelist = []\n",
    "    for root, dirs, files in os.walk(path):\n",
    "        for file in files:\n",
    "            filelist.append(os.path.join(root, file))\n",
    "\n",
    "    return filelist"
   ]
  },
  {
   "cell_type": "code",
   "execution_count": 14,
   "metadata": {},
   "outputs": [],
   "source": [
    "import hashlib\n",
    "\n",
    "def compute_md5(file_name: str) -> str:\n",
    "    hash_md5 = hashlib.md5()\n",
    "    with open(file_name, \"rb\") as f:\n",
    "        for chunk in iter(lambda: f.read(4096), b\"\"):\n",
    "            hash_md5.update(chunk)\n",
    "    return hash_md5.hexdigest()"
   ]
  },
  {
   "cell_type": "code",
   "execution_count": 16,
   "metadata": {},
   "outputs": [],
   "source": [
    "from collections import defaultdict\n",
    "\n",
    "def groupFiles(path: str) -> List[List[str]]:\n",
    "\n",
    "    contentDict = defaultdict(list)\n",
    "    for name in getFiles(path):\n",
    "        key = compute_md5(name)\n",
    "        contentDict[key].append(name)\n",
    "\n",
    "    return contentDict.values()"
   ]
  },
  {
   "cell_type": "code",
   "execution_count": 18,
   "metadata": {},
   "outputs": [],
   "source": [
    "import filecmp\n",
    "\n",
    "file1 = \"C:/Users/arthu/CloudStation/Jobs/Interviews/Amazon/SDE Prep/Amazon SDE Interview Prep 2021.pdf\"\n",
    "file2 = \"C:/Users/arthu/CloudStation/Jobs/Interviews/Amazon/Amazon SDE Interview Prep.pdf\"\n",
    "\n",
    "check = filecmp.cmp(file1, file2)"
   ]
  },
  {
   "cell_type": "code",
   "execution_count": 20,
   "metadata": {},
   "outputs": [
    {
     "name": "stdout",
     "output_type": "stream",
     "text": [
      "False\n"
     ]
    }
   ],
   "source": [
    "print(check)"
   ]
  },
  {
   "cell_type": "code",
   "execution_count": 8,
   "metadata": {},
   "outputs": [],
   "source": [
    "import enum\n",
    "\n",
    "class Typ(enum.Enum):\n",
    "    txt = 1\n",
    "    csv = 2\n",
    "    xml = 3\n",
    "    json = 4"
   ]
  },
  {
   "cell_type": "code",
   "execution_count": 9,
   "metadata": {},
   "outputs": [],
   "source": [
    "from dataclasses import dataclass\n",
    "\n",
    "@dataclass\n",
    "class File:\n",
    "    name: str\n",
    "    size: int\n",
    "    typ: Typ\n",
    "    isFile: bool"
   ]
  },
  {
   "cell_type": "code",
   "execution_count": 4,
   "metadata": {},
   "outputs": [],
   "source": [
    "from abc import ABC, abstractmethod\n",
    "\n",
    "class Filter(ABC):\n",
    "\n",
    "    @abstractmethod\n",
    "    def apply(self, file: File):\n",
    "        pass"
   ]
  },
  {
   "cell_type": "code",
   "execution_count": 15,
   "metadata": {},
   "outputs": [],
   "source": [
    "class TypeFilter(Filter):\n",
    "    def __init__(self, typ: Typ) -> None:\n",
    "        self.typ = typ\n",
    "\n",
    "    def apply(self, file: File) -> bool:\n",
    "        return file.typ == self.typ"
   ]
  },
  {
   "cell_type": "code",
   "execution_count": 14,
   "metadata": {},
   "outputs": [],
   "source": [
    "class MinSizeFilter(Filter):\n",
    "    def __init__(self, minSize: int) -> None:\n",
    "        self.minSize = minSize\n",
    "\n",
    "    def apply(self, file: File) -> bool:\n",
    "        return file.size > self.minSize"
   ]
  },
  {
   "cell_type": "code",
   "execution_count": 13,
   "metadata": {},
   "outputs": [],
   "source": [
    "class NameFilter(Filter):\n",
    "    def __init__(self, name: str) -> None:\n",
    "        self.name = name\n",
    "\n",
    "    def apply(self, file: File) -> bool:\n",
    "        return self.name in file.name"
   ]
  },
  {
   "cell_type": "code",
   "execution_count": 18,
   "metadata": {},
   "outputs": [],
   "source": [
    "import os\n",
    "from typing import List\n",
    "\n",
    "class FindCommand:\n",
    "\n",
    "    @staticmethod\n",
    "    def getFiles(path: str) -> List[str]:\n",
    "        \n",
    "        fileList = []\n",
    "        for root, dirs, files in os.walk(path):\n",
    "            for file in files:\n",
    "                fileList.append(os.path.join(root, file))\n",
    "\n",
    "        return fileList\n",
    "\n",
    "    @staticmethod\n",
    "    def findWithFilters(path: str, filters: List[Filter]) -> List[File]:\n",
    "        \n",
    "        output = []\n",
    "        files = getFiles(path)\n",
    "\n",
    "        for file in files:\n",
    "            selectFile = True\n",
    "            for filter in filters:\n",
    "                if not filter.apply(file):\n",
    "                    selectFile = False\n",
    "            if selectFile:\n",
    "                output.append(file)\n",
    "\n",
    "        return output"
   ]
  },
  {
   "cell_type": "code",
   "execution_count": 21,
   "metadata": {},
   "outputs": [],
   "source": [
    "def findWithFilters(path: str, filters: List[Filter]) -> List[File]:\n",
    "\n",
    "    files = []\n",
    "\n",
    "    def getFiles(path: str) -> None:\n",
    "        for directory in path.getDirectory():\n",
    "            if directory.isFile():\n",
    "                files.append(directory)\n",
    "            elif directory.isFolder():\n",
    "                getFiles(directory)\n",
    "    \n",
    "    output = []\n",
    "\n",
    "    for file in getFiles(path):\n",
    "        selectFile = True\n",
    "        for filter in filters:\n",
    "            if not filter.apply(file):\n",
    "                selectFile = False\n",
    "        if selectFile:\n",
    "            output.append(file)\n",
    "\n",
    "    return output"
   ]
  },
  {
   "cell_type": "code",
   "execution_count": null,
   "metadata": {},
   "outputs": [],
   "source": []
  }
 ],
 "metadata": {
  "interpreter": {
   "hash": "0dec37722eda255af3ca978d4fa44bb649fa9ba4c84e73cb2ab12a24b81d7aa7"
  },
  "kernelspec": {
   "display_name": "Python 3.8.3 64-bit ('base': conda)",
   "name": "python3"
  },
  "language_info": {
   "codemirror_mode": {
    "name": "ipython",
    "version": 3
   },
   "file_extension": ".py",
   "mimetype": "text/x-python",
   "name": "python",
   "nbconvert_exporter": "python",
   "pygments_lexer": "ipython3",
   "version": "3.8.3"
  },
  "orig_nbformat": 4
 },
 "nbformat": 4,
 "nbformat_minor": 2
}
