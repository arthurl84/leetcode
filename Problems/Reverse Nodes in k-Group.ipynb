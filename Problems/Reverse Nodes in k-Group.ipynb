{
 "cells": [
  {
   "cell_type": "markdown",
   "source": [
    "## Reverse Nodes in k-Group  "
   ],
   "metadata": {}
  },
  {
   "cell_type": "code",
   "execution_count": 1,
   "source": [
    "class ListNode:\r\n",
    "    def __init__(self, val=0, next=None):\r\n",
    "        self.val = val\r\n",
    "        self.next = next"
   ],
   "outputs": [],
   "metadata": {}
  },
  {
   "cell_type": "code",
   "execution_count": 2,
   "source": [
    "def reverseLinedList(head: ListNode, k: int) -> ListNode:\r\n",
    "    prev, curr = None, head\r\n",
    "    while k:\r\n",
    "        next_node = curr.next\r\n",
    "        curr.next = prev\r\n",
    "        prev = curr\r\n",
    "        curr = next_node\r\n",
    "        k -= 1\r\n",
    "    return prev"
   ],
   "outputs": [],
   "metadata": {}
  },
  {
   "cell_type": "code",
   "execution_count": 3,
   "source": [
    "def reverseKGroup(head: ListNode, k: int) -> ListNode:\r\n",
    "    new_head, curr = None, head\r\n",
    "    ktail = None\r\n",
    "    while curr:\r\n",
    "        count = 0\r\n",
    "        curr = head\r\n",
    "        while curr and count < k:\r\n",
    "            curr = curr.next\r\n",
    "            count += 1\r\n",
    "        if count == k:\r\n",
    "            reversed_head = reverseLinedList(head, k)\r\n",
    "            if not new_head:\r\n",
    "                new_head = reversed_head\r\n",
    "            if ktail:\r\n",
    "                ktail.next = reversed_head\r\n",
    "            ktail = head\r\n",
    "            head = curr\r\n",
    "    if ktail:\r\n",
    "        ktail.next = head\r\n",
    "    return new_head if new_head else head"
   ],
   "outputs": [],
   "metadata": {}
  },
  {
   "cell_type": "code",
   "execution_count": null,
   "source": [],
   "outputs": [],
   "metadata": {}
  }
 ],
 "metadata": {
  "orig_nbformat": 4,
  "language_info": {
   "name": "python",
   "version": "3.8.3",
   "mimetype": "text/x-python",
   "codemirror_mode": {
    "name": "ipython",
    "version": 3
   },
   "pygments_lexer": "ipython3",
   "nbconvert_exporter": "python",
   "file_extension": ".py"
  },
  "kernelspec": {
   "name": "python3",
   "display_name": "Python 3.8.3 64-bit ('base': conda)"
  },
  "interpreter": {
   "hash": "0dec37722eda255af3ca978d4fa44bb649fa9ba4c84e73cb2ab12a24b81d7aa7"
  }
 },
 "nbformat": 4,
 "nbformat_minor": 2
}