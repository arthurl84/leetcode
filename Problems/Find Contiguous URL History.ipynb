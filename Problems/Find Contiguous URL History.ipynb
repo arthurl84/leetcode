{
 "cells": [
  {
   "cell_type": "markdown",
   "metadata": {},
   "source": [
    "### Find Contiguous URL History  \n",
    "We have some historical clickstream data gathered from our site anonymously using cookies. The histories contain URLs that users have visited in chronological order.  \n",
    "\n",
    "Write a function that takes two users' browsing histories as input and returns the longest contiguous sequence of URLs that appear in both.  \n",
    "\n",
    "For example, given the following two users' histories:  \n",
    "\n",
    "user1 = ['/home', '/register', '/login', '/user', '/one', '/two']  \n",
    "user2 = ['/home', '/red', '/login', '/user', '/one', '/pink']  \n",
    "\n",
    "You should return the following:  \n",
    "\n",
    "['/login', '/user', '/one']  \n",
    "\n",
    "See LC 718. Maximum Length of Repeated Subarray  "
   ]
  },
  {
   "cell_type": "markdown",
   "metadata": {},
   "source": []
  },
  {
   "cell_type": "code",
   "execution_count": 1,
   "metadata": {},
   "outputs": [],
   "source": [
    "from typing import List\n",
    "\n",
    "def findContiguousUrl(user1: List[str], user2: List[str]) -> List[str]:\n",
    "    l1, l2 = len(user1), len(user2)\n",
    "    dp = [[0] * (l2 + 1) for _ in range(l1 + 1)]\n",
    "    maxLenth, maxUser1Index = 0, -1\n",
    "    for i in range(1, len(user1) + 1):\n",
    "        for j in range(1, len(user2) + 1):\n",
    "            if user1[i - 1] == user2[j - 1]:\n",
    "                dp[i][j] = dp[i - 1][j - 1] + 1\n",
    "                if dp[i][j] > maxLenth:\n",
    "                    maxLenth = dp[i][j]\n",
    "                    maxUser1Index = i\n",
    "    return user1[maxUser1Index - maxLenth:maxUser1Index]"
   ]
  },
  {
   "cell_type": "code",
   "execution_count": 2,
   "metadata": {},
   "outputs": [],
   "source": [
    "user1 = ['/home', '/register', '/login', '/user', '/one', '/two']\n",
    "user2 = ['/home', '/red', '/login', '/user', '/one', '/pink']"
   ]
  },
  {
   "cell_type": "code",
   "execution_count": 3,
   "metadata": {},
   "outputs": [
    {
     "data": {
      "text/plain": [
       "['/login', '/user', '/one']"
      ]
     },
     "execution_count": 3,
     "metadata": {},
     "output_type": "execute_result"
    }
   ],
   "source": [
    "findContiguousUrl(user1, user2)"
   ]
  },
  {
   "cell_type": "code",
   "execution_count": null,
   "metadata": {},
   "outputs": [],
   "source": []
  }
 ],
 "metadata": {
  "interpreter": {
   "hash": "0dec37722eda255af3ca978d4fa44bb649fa9ba4c84e73cb2ab12a24b81d7aa7"
  },
  "kernelspec": {
   "display_name": "Python 3.8.3 64-bit ('base': conda)",
   "language": "python",
   "name": "python3"
  },
  "language_info": {
   "codemirror_mode": {
    "name": "ipython",
    "version": 3
   },
   "file_extension": ".py",
   "mimetype": "text/x-python",
   "name": "python",
   "nbconvert_exporter": "python",
   "pygments_lexer": "ipython3",
   "version": "3.8.3"
  },
  "orig_nbformat": 4
 },
 "nbformat": 4,
 "nbformat_minor": 2
}
