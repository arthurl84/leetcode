{
 "cells": [
  {
   "cell_type": "markdown",
   "metadata": {},
   "source": [
    "### Find Contiguous URL History  \n",
    "We have some historical clickstream data gathered from our site anonymously using cookies. The histories contain URLs that users have visited in chronological order.  \n",
    "\n",
    "Write a function that takes two users' browsing histories as input and returns the longest contiguous sequence of URLs that appear in both.  \n",
    "\n",
    "For example, given the following two users' histories:  \n",
    "\n",
    "user1 = ['/home', '/register', '/login', '/user', '/one', '/two']  \n",
    "user2 = ['/home', '/red', '/login', '/user', '/one', '/pink']  \n",
    "\n",
    "You should return the following:  \n",
    "\n",
    "['/login', '/user', '/one']  \n",
    "\n",
    "See LC 718. Maximum Length of Repeated Subarray  "
   ]
  },
  {
   "cell_type": "code",
   "execution_count": 1,
   "metadata": {},
   "outputs": [],
   "source": [
    "from typing import List\n",
    "\n",
    "def findContiguousUrl(user1: List[str], user2: List[str]) -> List[str]:\n",
    "    l1, l2 = len(user1), len(user2)\n",
    "    dp = [[0] * (l2 + 1) for _ in range(l1 + 1)]\n",
    "    maxLenth, maxUser1Index, maxUser2Index = 0, -1, -1\n",
    "    for i in range(1, len(user1) + 1):\n",
    "        for j in range(1, len(user2) + 1):\n",
    "            if user1[i - 1] == user2[j - 1]:\n",
    "                dp[i][j] = dp[i - 1][j - 1] + 1\n",
    "                if dp[i][j] > maxLenth:\n",
    "                    maxLenth = dp[i][j]\n",
    "                    maxUser1Index = i\n",
    "                    # maxUser2Index = j\n",
    "    return user1[maxUser1Index - maxLenth:maxUser1Index] \n",
    "    # return user2[maxUser2Index - maxLenth:maxUser2Index]"
   ]
  },
  {
   "cell_type": "code",
   "execution_count": null,
   "metadata": {},
   "outputs": [],
   "source": [
    "[\n",
    "    [0, 0, 1, 0, 0, 0], \n",
    "    [0, 1, 0, 0, 0, 0], \n",
    "    [3, 0, 0, 0, 0, 0], \n",
    "    [0, 2, 0, 0, 0, 0], \n",
    "    [0, 0, 1, 0, 0, 0], \n",
    "    [0, 0, 0, 0, 0, 0]\n",
    "]"
   ]
  },
  {
   "cell_type": "code",
   "execution_count": 2,
   "metadata": {},
   "outputs": [],
   "source": [
    "user1 = ['/home', '/register', '/login', '/user', '/one', '/two']\n",
    "user2 = ['/home', '/red', '/login', '/user', '/one', '/pink']"
   ]
  },
  {
   "cell_type": "code",
   "execution_count": 3,
   "metadata": {},
   "outputs": [
    {
     "data": {
      "text/plain": [
       "['/login', '/user', '/one']"
      ]
     },
     "execution_count": 3,
     "metadata": {},
     "output_type": "execute_result"
    }
   ],
   "source": [
    "findContiguousUrl(user1, user2)"
   ]
  },
  {
   "cell_type": "markdown",
   "metadata": {},
   "source": [
    "### Longest Common Subsequence  "
   ]
  },
  {
   "cell_type": "code",
   "execution_count": 8,
   "metadata": {},
   "outputs": [],
   "source": [
    "def longestCommonSubsequence(text1: str, text2: str) -> int:\n",
    "    # DP\n",
    "    # time = space = O(MN)\n",
    "\n",
    "    lcs = ''\n",
    "    dp = [[0] * (len(text2) + 1) for _ in range(len(text1) + 1)]\n",
    "    \n",
    "    for i in range(len(text1)):\n",
    "        for j in range(len(text2)):\n",
    "            if text1[i] == text2[j]:\n",
    "                dp[i + 1][j + 1] = dp[i][j] + 1\n",
    "                lcs += text1[i]\n",
    "            else:\n",
    "                dp[i + 1][j + 1] = max(dp[i][j + 1], dp[i + 1][j])\n",
    "\n",
    "    print(dp)\n",
    "    print('lcs = {}'.format(lcs))\n",
    "    return dp[len(text1)][len(text2)]"
   ]
  },
  {
   "cell_type": "code",
   "execution_count": 9,
   "metadata": {},
   "outputs": [
    {
     "name": "stdout",
     "output_type": "stream",
     "text": [
      "[[0, 0, 0, 0], [0, 1, 1, 1], [0, 1, 1, 1], [0, 1, 2, 2], [0, 1, 2, 2], [0, 1, 2, 3]]\n",
      "lcs = ace\n"
     ]
    },
    {
     "data": {
      "text/plain": [
       "3"
      ]
     },
     "execution_count": 9,
     "metadata": {},
     "output_type": "execute_result"
    }
   ],
   "source": [
    "longestCommonSubsequence(\"abcde\", \"ace\")"
   ]
  },
  {
   "cell_type": "code",
   "execution_count": null,
   "metadata": {},
   "outputs": [],
   "source": [
    "[\n",
    "    [0, 0, 0, 0], \n",
    "    [0, 1, 1, 1], \n",
    "    [0, 1, 1, 1], \n",
    "    [0, 1, 2, 2], \n",
    "    [0, 1, 2, 2], \n",
    "    [0, 1, 2, 3]\n",
    "]"
   ]
  },
  {
   "cell_type": "code",
   "execution_count": 6,
   "metadata": {},
   "outputs": [],
   "source": [
    "def longestCommonSubsequence2(text1: str, text2: str) -> int:\n",
    "    # DP\n",
    "    # time = O(MN), space = O(min(M, N))\n",
    "    \n",
    "    if len(text1) > len(text2):\n",
    "        text1, text2 = text2, text1\n",
    "\n",
    "    lcs = ''\n",
    "    prev = [0] * (len(text1) + 1)\n",
    "    curr = [0] * (len(text1) + 1)\n",
    "\n",
    "    for j in range(len(text2)):\n",
    "        for i in range(len(text1)):\n",
    "            if text1[i] == text2[j]:\n",
    "                curr[i + 1] = prev[i] + 1\n",
    "                lcs += text1[i]\n",
    "            else:\n",
    "                curr[i + 1] = max(prev[i + 1], curr[i])\n",
    "        prev, curr = curr, prev\n",
    "\n",
    "    print('lcs = {}'.format(lcs))\n",
    "    return prev[len(text1)]"
   ]
  },
  {
   "cell_type": "code",
   "execution_count": 7,
   "metadata": {},
   "outputs": [
    {
     "name": "stdout",
     "output_type": "stream",
     "text": [
      "lcs = ace\n"
     ]
    },
    {
     "data": {
      "text/plain": [
       "3"
      ]
     },
     "execution_count": 7,
     "metadata": {},
     "output_type": "execute_result"
    }
   ],
   "source": [
    "longestCommonSubsequence2(\"abcde\", \"ace\")"
   ]
  },
  {
   "cell_type": "code",
   "execution_count": null,
   "metadata": {},
   "outputs": [],
   "source": []
  }
 ],
 "metadata": {
  "interpreter": {
   "hash": "0dec37722eda255af3ca978d4fa44bb649fa9ba4c84e73cb2ab12a24b81d7aa7"
  },
  "kernelspec": {
   "display_name": "Python 3.8.3 64-bit ('base': conda)",
   "language": "python",
   "name": "python3"
  },
  "language_info": {
   "codemirror_mode": {
    "name": "ipython",
    "version": 3
   },
   "file_extension": ".py",
   "mimetype": "text/x-python",
   "name": "python",
   "nbconvert_exporter": "python",
   "pygments_lexer": "ipython3",
   "version": "3.8.3"
  },
  "orig_nbformat": 4
 },
 "nbformat": 4,
 "nbformat_minor": 2
}
