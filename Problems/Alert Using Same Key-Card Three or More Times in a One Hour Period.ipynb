{
 "cells": [
  {
   "cell_type": "markdown",
   "metadata": {},
   "source": [
    "### Alert Using Same Key-Card Three or More Times in a One Hour Period  "
   ]
  },
  {
   "cell_type": "code",
   "execution_count": 6,
   "metadata": {},
   "outputs": [],
   "source": [
    "badge_records = [\n",
    "  [\"Paul\", \"1355\"],\n",
    "  [\"Jennifer\", \"1910\"],\n",
    "  [\"Jose\", \"835\"],\n",
    "  [\"Jose\", \"830\"],\n",
    "  [\"Paul\", \"1315\"],\n",
    "  [\"Chloe\", \"0\"],\n",
    "  [\"Chloe\", \"1910\"],\n",
    "  [\"Jose\", \"1615\"],\n",
    "  [\"Jose\", \"1640\"],\n",
    "  [\"Paul\", \"1405\"],\n",
    "  [\"Jose\", \"855\"],\n",
    "  [\"Jose\", \"930\"],\n",
    "  [\"Jose\", \"915\"],\n",
    "  [\"Jose\", \"730\"],\n",
    "  [\"Jose\", \"940\"],\n",
    "  [\"Jennifer\", \"1335\"],\n",
    "  [\"Jennifer\", \"730\"],\n",
    "  [\"Jose\", \"1630\"],\n",
    "  [\"Jennifer\", \"5\"],\n",
    "  [\"Chloe\", \"1909\"],\n",
    "  [\"Zhang\", \"1\"],\n",
    "  [\"Zhang\", \"10\"],\n",
    "  [\"Zhang\", \"109\"],\n",
    "  [\"Zhang\", \"110\"],\n",
    "  [\"Amos\", \"1\"],\n",
    "  [\"Amos\", \"2\"],\n",
    "  [\"Amos\", \"400\"],\n",
    "  [\"Amos\", \"500\"],\n",
    "  [\"Amos\", \"503\"],\n",
    "  [\"Amos\", \"504\"],\n",
    "  [\"Amos\", \"601\"],\n",
    "  [\"Amos\", \"602\"],\n",
    "  [\"Paul\", \"1416\"],\n",
    "]"
   ]
  },
  {
   "cell_type": "code",
   "execution_count": 7,
   "metadata": {},
   "outputs": [],
   "source": [
    "from collections import defaultdict, deque\n",
    "\n",
    "def alert(badge_records):\n",
    "\n",
    "    name_to_times = defaultdict(list)\n",
    "    for name, time in badge_records:\n",
    "        time = int(time)\n",
    "        hour, minute = divmod(time, 100)\n",
    "        minutes = hour * 60 + minute\n",
    "        name_to_times[name].append(minutes)\n",
    "\n",
    "    names = defaultdict(list)\n",
    "    for name, times in name_to_times.items():\n",
    "        times.sort()\n",
    "        dq = deque()\n",
    "        for time in times:\n",
    "            dq.append(time)\n",
    "            while dq[-1] - dq[0] > 60:\n",
    "                if len(dq) <= 3:\n",
    "                    dq.popleft()\n",
    "                else:\n",
    "                    dq.pop()\n",
    "        if len(dq) >= 3:\n",
    "            for minutes in dq:\n",
    "                hour, minute = minutes // 60, minutes % 60\n",
    "                names[name].append(hour * 100 + minute)\n",
    "    \n",
    "    return names"
   ]
  },
  {
   "cell_type": "code",
   "execution_count": 8,
   "metadata": {},
   "outputs": [],
   "source": [
    "# Expected output (in any order)\n",
    "#    Paul: 1315 1355 1405\n",
    "#    Jose: 830 835 855 915 930\n",
    "#    Zhang: 10 109 110\n",
    "#    Amos: 500 503 504"
   ]
  },
  {
   "cell_type": "code",
   "execution_count": 9,
   "metadata": {},
   "outputs": [
    {
     "data": {
      "text/plain": [
       "defaultdict(list,\n",
       "            {'Paul': [1315, 1355, 1405],\n",
       "             'Jose': [830, 835, 855, 915, 930],\n",
       "             'Zhang': [10, 109, 110],\n",
       "             'Amos': [500, 503, 504]})"
      ]
     },
     "execution_count": 9,
     "metadata": {},
     "output_type": "execute_result"
    }
   ],
   "source": [
    "alert(badge_records)"
   ]
  },
  {
   "cell_type": "code",
   "execution_count": null,
   "metadata": {},
   "outputs": [],
   "source": []
  }
 ],
 "metadata": {
  "interpreter": {
   "hash": "0dec37722eda255af3ca978d4fa44bb649fa9ba4c84e73cb2ab12a24b81d7aa7"
  },
  "kernelspec": {
   "display_name": "Python 3.8.3 64-bit ('base': conda)",
   "language": "python",
   "name": "python3"
  },
  "language_info": {
   "codemirror_mode": {
    "name": "ipython",
    "version": 3
   },
   "file_extension": ".py",
   "mimetype": "text/x-python",
   "name": "python",
   "nbconvert_exporter": "python",
   "pygments_lexer": "ipython3",
   "version": "3.8.3"
  },
  "orig_nbformat": 4
 },
 "nbformat": 4,
 "nbformat_minor": 2
}
