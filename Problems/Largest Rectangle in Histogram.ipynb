{
 "metadata": {
  "language_info": {
   "codemirror_mode": {
    "name": "ipython",
    "version": 3
   },
   "file_extension": ".py",
   "mimetype": "text/x-python",
   "name": "python",
   "nbconvert_exporter": "python",
   "pygments_lexer": "ipython3",
   "version": "3.8.3"
  },
  "orig_nbformat": 4,
  "kernelspec": {
   "name": "python3",
   "display_name": "Python 3.8.3 64-bit ('base': conda)"
  },
  "interpreter": {
   "hash": "0dec37722eda255af3ca978d4fa44bb649fa9ba4c84e73cb2ab12a24b81d7aa7"
  }
 },
 "nbformat": 4,
 "nbformat_minor": 2,
 "cells": [
  {
   "source": [
    "## Largest Rectangle in Histogram  "
   ],
   "cell_type": "markdown",
   "metadata": {}
  },
  {
   "cell_type": "code",
   "execution_count": 3,
   "metadata": {},
   "outputs": [],
   "source": [
    "class Solution:\n",
    "    def largestRectangleArea(self, heights):\n",
    "        stack = [-1]\n",
    "        max_area = 0\n",
    "        for i in range(len(heights)):\n",
    "            while stack[-1] != -1 and heights[i] <= heights[stack[-1]]:\n",
    "                current_height = heights[stack.pop()]\n",
    "                current_width = i - 1 - stack[-1]\n",
    "                max_area = max(max_area, current_height * current_width)\n",
    "            stack.append(i)\n",
    "        \n",
    "        while stack[-1] != -1:\n",
    "            current_height = heights[stack.pop()]\n",
    "            current_width = len(heights) - 1 - stack[-1]\n",
    "            max_area = max(max_area, current_height * current_width)\n",
    "\n",
    "        return max_area"
   ]
  },
  {
   "cell_type": "code",
   "execution_count": 4,
   "metadata": {},
   "outputs": [],
   "source": [
    "sol = Solution()"
   ]
  },
  {
   "cell_type": "code",
   "execution_count": 5,
   "metadata": {},
   "outputs": [
    {
     "output_type": "execute_result",
     "data": {
      "text/plain": [
       "10"
      ]
     },
     "metadata": {},
     "execution_count": 5
    }
   ],
   "source": [
    "sol.largestRectangleArea([2,1,5,6,2,3])"
   ]
  },
  {
   "cell_type": "code",
   "execution_count": 6,
   "metadata": {},
   "outputs": [
    {
     "output_type": "execute_result",
     "data": {
      "text/plain": [
       "6"
      ]
     },
     "metadata": {},
     "execution_count": 6
    }
   ],
   "source": [
    "sol.largestRectangleArea([3,1,3,2,2])"
   ]
  },
  {
   "cell_type": "code",
   "execution_count": null,
   "metadata": {},
   "outputs": [],
   "source": []
  }
 ]
}