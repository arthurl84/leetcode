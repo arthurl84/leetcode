{
 "cells": [
  {
   "cell_type": "markdown",
   "metadata": {},
   "source": [
    "### Top k most traded stocks (by volume)  "
   ]
  },
  {
   "cell_type": "code",
   "execution_count": 1,
   "metadata": {},
   "outputs": [],
   "source": [
    "from typing import List\n",
    "import heapq\n",
    "from sortedcontainers import SortedDict # https://grantjenks.com/docs/sortedcontainers/sorteddict.html"
   ]
  },
  {
   "cell_type": "code",
   "execution_count": 2,
   "metadata": {},
   "outputs": [],
   "source": [
    "class Stock:\n",
    "    \n",
    "    def __init__(self, name: str=None, volume: int=0):\n",
    "        self.name = name\n",
    "        self.volume = volume"
   ]
  },
  {
   "cell_type": "code",
   "execution_count": 3,
   "metadata": {},
   "outputs": [],
   "source": [
    "class Trades:\n",
    "    \n",
    "    def __init__(self) -> None:\n",
    "        self.stocks = {} # name -> volume\n",
    "        self.sortedStocks = SortedDict() # -volume -> List[name]\n",
    "        \n",
    "    def insert(self, stock: Stock) -> None:\n",
    "        # time = O(logN) search BST\n",
    "        oldVolume = self.stocks.get(stock.name, 0)\n",
    "        newVolume = oldVolume + stock.volume\n",
    "        self.stocks[stock.name] = newVolume\n",
    "        if -oldVolume in self.sortedStocks:\n",
    "            if self.sortedStocks[-oldVolume] == set([stock.name]):\n",
    "                del self.sortedStocks[-oldVolume]\n",
    "            else:\n",
    "                self.sortedStocks[-oldVolume].remove(stock.name)\n",
    "        if -newVolume in self.sortedStocks:\n",
    "            self.sortedStocks[-newVolume].add(stock.name)\n",
    "        else:\n",
    "            self.sortedStocks[-newVolume] = set([stock.name])\n",
    "\n",
    "    def getMost(self, k: int) -> List[Stock]:\n",
    "        # time = O(K)\n",
    "        count = 0\n",
    "        res = []\n",
    "        for volume, names in self.sortedStocks.items():\n",
    "            for name in names:\n",
    "                res.append(Stock(name, -volume))\n",
    "                count += 1\n",
    "                if count == k:\n",
    "                    break\n",
    "            if count == k:\n",
    "                break\n",
    "        return res\n",
    "\n",
    "    def getMost2(self, k: int) -> List[Stock]:\n",
    "        # time = O(N.logK)\n",
    "        names = heapq.nlargest(k, self.stocks, key=self.stocks.get) # -> List[name]\n",
    "        res = []\n",
    "        for name in names:\n",
    "            res.append(Stock(name, self.stocks[name]))\n",
    "        return res"
   ]
  },
  {
   "cell_type": "code",
   "execution_count": 4,
   "metadata": {},
   "outputs": [
    {
     "name": "stdout",
     "output_type": "stream",
     "text": [
      "SortedDict({-2: {'y', 'x'}, -1: {'b', 'c', 'a'}})\n",
      "SortedDict({-2: {'y', 'x'}, -1: {'b', 'a'}})\n",
      "SortedDict({-2: {'y', 'x'}})\n"
     ]
    }
   ],
   "source": [
    "sortedDict = SortedDict()\n",
    "\n",
    "sortedDict[-1] = set(['a'])\n",
    "sortedDict[-1].add('b')\n",
    "sortedDict[-1].add('c')\n",
    "\n",
    "sortedDict[-2] = set(['x'])\n",
    "sortedDict[-2].add('y')\n",
    "\n",
    "print(sortedDict)\n",
    "\n",
    "sortedDict[-1].remove('c')\n",
    "\n",
    "print(sortedDict)\n",
    "\n",
    "del sortedDict[-1]\n",
    "\n",
    "print(sortedDict)"
   ]
  },
  {
   "cell_type": "code",
   "execution_count": 5,
   "metadata": {},
   "outputs": [
    {
     "name": "stdout",
     "output_type": "stream",
     "text": [
      "AMAT: 300\n",
      "AAPL: 300\n"
     ]
    }
   ],
   "source": [
    "trades = Trades()\n",
    "\n",
    "trades.insert(Stock('AAPL', 100))\n",
    "trades.insert(Stock('MSFT', 100))\n",
    "trades.insert(Stock('AAPL', 200))\n",
    "trades.insert(Stock('AMZN', 250))\n",
    "trades.insert(Stock('AMAT', 300))\n",
    "trades.insert(Stock('MSFT', 100))\n",
    "\n",
    "stocks = trades.getMost(2)\n",
    "for stock in stocks:\n",
    "    print('{}: {}'.format(stock.name, stock.volume))"
   ]
  },
  {
   "cell_type": "code",
   "execution_count": 6,
   "metadata": {},
   "outputs": [
    {
     "name": "stdout",
     "output_type": "stream",
     "text": [
      "AAPL: 300\n",
      "AMAT: 300\n"
     ]
    }
   ],
   "source": [
    "stocks2 = trades.getMost2(2)\n",
    "# print(type(stocks2))\n",
    "for stock in stocks2:\n",
    "    print('{}: {}'.format(stock.name, stock.volume))"
   ]
  },
  {
   "cell_type": "code",
   "execution_count": null,
   "metadata": {},
   "outputs": [],
   "source": []
  }
 ],
 "metadata": {
  "interpreter": {
   "hash": "0dec37722eda255af3ca978d4fa44bb649fa9ba4c84e73cb2ab12a24b81d7aa7"
  },
  "kernelspec": {
   "display_name": "Python 3.8.3 ('base')",
   "language": "python",
   "name": "python3"
  },
  "language_info": {
   "codemirror_mode": {
    "name": "ipython",
    "version": 3
   },
   "file_extension": ".py",
   "mimetype": "text/x-python",
   "name": "python",
   "nbconvert_exporter": "python",
   "pygments_lexer": "ipython3",
   "version": "3.8.3"
  },
  "orig_nbformat": 4
 },
 "nbformat": 4,
 "nbformat_minor": 2
}
