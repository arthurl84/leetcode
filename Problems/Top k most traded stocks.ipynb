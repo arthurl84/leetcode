{
 "cells": [
  {
   "cell_type": "markdown",
   "metadata": {},
   "source": [
    "### Top k most traded stocks (by volume)  "
   ]
  },
  {
   "cell_type": "code",
   "execution_count": 1,
   "metadata": {},
   "outputs": [],
   "source": [
    "from typing import List, Tuple\n",
    "import heapq\n",
    "from sortedcontainers import SortedDict # https://grantjenks.com/docs/sortedcontainers/sorteddict.html"
   ]
  },
  {
   "cell_type": "code",
   "execution_count": 2,
   "metadata": {},
   "outputs": [],
   "source": [
    "class Stock:\n",
    "    \n",
    "    def __init__(self, name: str=None, volume: int=0):\n",
    "        self.name = name\n",
    "        self.volume = volume"
   ]
  },
  {
   "cell_type": "code",
   "execution_count": 3,
   "metadata": {},
   "outputs": [],
   "source": [
    "class Trades:\n",
    "    \n",
    "    def __init__(self) -> None:\n",
    "        self.stocks = {} # name -> volume\n",
    "        self.sortedStocks = SortedDict() # -volume -> List[name]\n",
    "        \n",
    "    def insert(self, name: str, volume: int) -> None:\n",
    "        # time = O(logN) search BST\n",
    "        oldVolume = self.stocks.get(name, 0)\n",
    "        newVolume = oldVolume + volume\n",
    "        self.stocks[name] = newVolume\n",
    "        if -oldVolume in self.sortedStocks:\n",
    "            if self.sortedStocks[-oldVolume] == set([name]):\n",
    "                del self.sortedStocks[-oldVolume]\n",
    "            else:\n",
    "                self.sortedStocks[-oldVolume].remove(name)\n",
    "        if -newVolume in self.sortedStocks:\n",
    "            self.sortedStocks[-newVolume].add(name)\n",
    "        else:\n",
    "            self.sortedStocks[-newVolume] = set([name])\n",
    "\n",
    "    def getMost(self, k: int) -> List[Tuple[str, int]]:\n",
    "        # time = O(K)\n",
    "        count = 0\n",
    "        res = []\n",
    "        for volume, names in self.sortedStocks.items():\n",
    "            for name in names:\n",
    "                res.append((name, -volume))\n",
    "                count += 1\n",
    "                if count == k:\n",
    "                    break\n",
    "            if count == k:\n",
    "                break\n",
    "        return res\n",
    "\n",
    "    def getMost2(self, k: int) -> List[Tuple[str, int]]:\n",
    "        # time = O(N.logK)\n",
    "        return heapq.nlargest(k, self.stocks.items(), key=lambda item: (item[1], item[0]))"
   ]
  },
  {
   "cell_type": "code",
   "execution_count": 4,
   "metadata": {},
   "outputs": [
    {
     "name": "stdout",
     "output_type": "stream",
     "text": [
      "SortedDict({-2: {'x', 'y'}, -1: {'c', 'a', 'b'}})\n",
      "SortedDict({-2: {'x', 'y'}, -1: {'a', 'b'}})\n",
      "SortedDict({-2: {'x', 'y'}})\n"
     ]
    }
   ],
   "source": [
    "sortedDict = SortedDict()\n",
    "\n",
    "sortedDict[-1] = set(['a'])\n",
    "sortedDict[-1].add('b')\n",
    "sortedDict[-1].add('c')\n",
    "\n",
    "sortedDict[-2] = set(['x'])\n",
    "sortedDict[-2].add('y')\n",
    "\n",
    "print(sortedDict)\n",
    "\n",
    "sortedDict[-1].remove('c')\n",
    "\n",
    "print(sortedDict)\n",
    "\n",
    "del sortedDict[-1]\n",
    "\n",
    "print(sortedDict)"
   ]
  },
  {
   "cell_type": "code",
   "execution_count": 5,
   "metadata": {},
   "outputs": [],
   "source": [
    "trades = Trades()\n",
    "\n",
    "trades.insert('AAPL', 100)\n",
    "trades.insert('MSFT', 100)\n",
    "trades.insert('AAPL', 200)\n",
    "trades.insert('AMZN', 250)\n",
    "trades.insert('AMAT', 300)\n",
    "trades.insert('MSFT', 100)"
   ]
  },
  {
   "cell_type": "code",
   "execution_count": 6,
   "metadata": {},
   "outputs": [
    {
     "name": "stdout",
     "output_type": "stream",
     "text": [
      "[('AMAT', 300), ('AAPL', 300)]\n"
     ]
    }
   ],
   "source": [
    "stocks = trades.getMost(2)\n",
    "print(stocks)"
   ]
  },
  {
   "cell_type": "code",
   "execution_count": 7,
   "metadata": {},
   "outputs": [
    {
     "name": "stdout",
     "output_type": "stream",
     "text": [
      "[('AMAT', 300), ('AAPL', 300)]\n"
     ]
    }
   ],
   "source": [
    "stocks2 = trades.getMost2(2)\n",
    "print(stocks2)"
   ]
  },
  {
   "cell_type": "code",
   "execution_count": 8,
   "metadata": {},
   "outputs": [],
   "source": [
    "from sortedcontainers import SortedDict\n",
    "\n",
    "class Leaderboard:\n",
    "    # using a SortedDict\n",
    "    \n",
    "    def __init__(self):\n",
    "        self.scores = {} # playerId -> score\n",
    "        self.sortedScores = SortedDict() # -score -> num of players having this score, Binary Search Tree, small to large\n",
    "\n",
    "    def addScore(self, playerId: int, score: int) -> None:\n",
    "        # time = O(logN) search BST\n",
    "        if playerId not in self.scores:\n",
    "            self.scores[playerId] = score\n",
    "            self.sortedScores[-score] = self.sortedScores.get(-score, 0) + 1\n",
    "        else:\n",
    "            oldScore = self.scores[playerId]\n",
    "            if self.sortedScores[-oldScore] == 1:\n",
    "                del self.sortedScores[-oldScore]\n",
    "            else:\n",
    "                self.sortedScores[-oldScore] -= 1\n",
    "            newScore = oldScore + score\n",
    "            self.scores[playerId] = newScore\n",
    "            self.sortedScores[-newScore] = self.sortedScores.get(-newScore, 0) + 1\n",
    "\n",
    "    def top(self, K: int) -> int:\n",
    "        # time = O(K)\n",
    "        count, total = 0, 0\n",
    "        for score, num_players in self.sortedScores.items():\n",
    "            for _ in range(num_players):\n",
    "                total += -score\n",
    "                count += 1\n",
    "                if count == K:\n",
    "                    break\n",
    "            if count == K:\n",
    "                break\n",
    "        return total\n",
    "\n",
    "    def reset(self, playerId: int) -> None:\n",
    "        # time = O(logN) search BST\n",
    "        oldScore = self.scores[playerId]\n",
    "        if self.sortedScores[-oldScore] == 1:\n",
    "            del self.sortedScores[-oldScore]\n",
    "        else:\n",
    "            self.sortedScores[-oldScore] -= 1\n",
    "        del self.scores[playerId]\n",
    "\n",
    "# Your Leaderboard object will be instantiated and called as such:\n",
    "# obj = Leaderboard()\n",
    "# obj.addScore(playerId,score)\n",
    "# param_2 = obj.top(K)\n",
    "# obj.reset(playerId)"
   ]
  },
  {
   "cell_type": "code",
   "execution_count": null,
   "metadata": {},
   "outputs": [],
   "source": []
  }
 ],
 "metadata": {
  "interpreter": {
   "hash": "0dec37722eda255af3ca978d4fa44bb649fa9ba4c84e73cb2ab12a24b81d7aa7"
  },
  "kernelspec": {
   "display_name": "Python 3.8.3 ('base')",
   "language": "python",
   "name": "python3"
  },
  "language_info": {
   "codemirror_mode": {
    "name": "ipython",
    "version": 3
   },
   "file_extension": ".py",
   "mimetype": "text/x-python",
   "name": "python",
   "nbconvert_exporter": "python",
   "pygments_lexer": "ipython3",
   "version": "3.8.3"
  },
  "orig_nbformat": 4
 },
 "nbformat": 4,
 "nbformat_minor": 2
}
