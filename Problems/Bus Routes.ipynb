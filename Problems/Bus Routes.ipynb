{
 "metadata": {
  "language_info": {
   "codemirror_mode": {
    "name": "ipython",
    "version": 3
   },
   "file_extension": ".py",
   "mimetype": "text/x-python",
   "name": "python",
   "nbconvert_exporter": "python",
   "pygments_lexer": "ipython3",
   "version": "3.8.3"
  },
  "orig_nbformat": 4,
  "kernelspec": {
   "name": "python3",
   "display_name": "Python 3.8.3 64-bit ('base': conda)"
  },
  "interpreter": {
   "hash": "0dec37722eda255af3ca978d4fa44bb649fa9ba4c84e73cb2ab12a24b81d7aa7"
  }
 },
 "nbformat": 4,
 "nbformat_minor": 2,
 "cells": [
  {
   "source": [
    "## Bus Routes  "
   ],
   "cell_type": "markdown",
   "metadata": {}
  },
  {
   "cell_type": "code",
   "execution_count": 2,
   "metadata": {},
   "outputs": [],
   "source": [
    "from collections import defaultdict"
   ]
  },
  {
   "cell_type": "code",
   "execution_count": 5,
   "metadata": {},
   "outputs": [],
   "source": [
    "def numBusesToDestination(routes, source, target):\n",
    "    \n",
    "    if source == target:\n",
    "        return 0\n",
    "    \n",
    "    routes = list(map(set, routes))\n",
    "    graph = defaultdict(set)\n",
    "    for i, r1 in enumerate(routes):\n",
    "        for j in range(i + 1, len(routes)):\n",
    "            r2 = routes[j]\n",
    "            if any(r in r2 for r in r1):\n",
    "                graph[i].add(j)\n",
    "                graph[j].add(i)\n",
    "\n",
    "    seen, targets = set(), set()\n",
    "    for node, route in enumerate(routes):\n",
    "        if source in route:\n",
    "            seen.add(node)\n",
    "        if target in route:\n",
    "            targets.add(node)\n",
    "\n",
    "    queue = [(node, 1) for node in seen]\n",
    "    for node, depth in queue:\n",
    "        if node in targets:\n",
    "            return depth\n",
    "        for neighbor in graph[node]:\n",
    "            if neighbor not in seen:\n",
    "                seen.add(neighbor)\n",
    "                queue.append((neighbor, depth + 1))\n",
    "\n",
    "    return -1"
   ]
  },
  {
   "cell_type": "code",
   "execution_count": 6,
   "metadata": {},
   "outputs": [
    {
     "output_type": "execute_result",
     "data": {
      "text/plain": [
       "2"
      ]
     },
     "metadata": {},
     "execution_count": 6
    }
   ],
   "source": [
    "numBusesToDestination([[1,2,7],[3,6,7]], 1, 6)"
   ]
  },
  {
   "cell_type": "code",
   "execution_count": null,
   "metadata": {},
   "outputs": [],
   "source": []
  }
 ]
}