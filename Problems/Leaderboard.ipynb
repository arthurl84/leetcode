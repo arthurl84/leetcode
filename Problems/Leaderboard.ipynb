{
 "cells": [
  {
   "cell_type": "markdown",
   "metadata": {},
   "source": [
    "### Leaderboard  "
   ]
  },
  {
   "cell_type": "code",
   "execution_count": 2,
   "metadata": {},
   "outputs": [],
   "source": [
    "from sortedcontainers import SortedDict"
   ]
  },
  {
   "cell_type": "code",
   "execution_count": 3,
   "metadata": {},
   "outputs": [],
   "source": [
    "class Leaderboard:\n",
    "\n",
    "    def __init__(self) -> None:\n",
    "        self.scores = {} # player -> score\n",
    "        self.sortedScores = SortedDict() # score -> num of players having this score, Binary Search Tree\n",
    "\n",
    "    def addScore(self, playerId: int, score: int) -> None:\n",
    "        # time = O(logN) search BST\n",
    "        if playerId not in self.scores:\n",
    "            self.scores[playerId] = score\n",
    "            self.sortedScores[-score] = self.sortedScores.get(-score, 0) + 1\n",
    "        else:\n",
    "            oldScore = self.scores[playerId]\n",
    "            if self.sortedScores[-oldScore] == 1:\n",
    "                del self.sortedScores[-oldScore]\n",
    "            else:\n",
    "                self.sortedScores[-oldScore] -= 1\n",
    "            newScore = oldScore + score\n",
    "            self.scores[playerId] = newScore\n",
    "            self.sortedScores[-newScore] = self.sortedScores.get(-newScore, 0) + 1\n",
    "\n",
    "    def top(self, K: int) -> int:\n",
    "        # time = O(K)\n",
    "        count, total = 0, 0\n",
    "        for score, num_players in self.sortedScores.items():\n",
    "            for _ in range(num_players):\n",
    "                total += -score\n",
    "                count += 1\n",
    "                if count == K:\n",
    "                    break\n",
    "            if count == K:\n",
    "                break\n",
    "        return total\n",
    "\n",
    "    def reset(self, palyerId: int) -> None:\n",
    "        # time = O(logN) search BST\n",
    "        oldScore = self.scores[palyerId]\n",
    "        if self.sortedScores[-oldScore] == 1:\n",
    "            del self.sortedScores[-oldScore]\n",
    "        else:\n",
    "            self.sortedScores[-oldScore] -= 1\n",
    "        del self.scores[palyerId]"
   ]
  },
  {
   "cell_type": "code",
   "execution_count": null,
   "metadata": {},
   "outputs": [],
   "source": []
  }
 ],
 "metadata": {
  "interpreter": {
   "hash": "0dec37722eda255af3ca978d4fa44bb649fa9ba4c84e73cb2ab12a24b81d7aa7"
  },
  "kernelspec": {
   "display_name": "Python 3.8.3 64-bit ('base': conda)",
   "language": "python",
   "name": "python3"
  },
  "language_info": {
   "codemirror_mode": {
    "name": "ipython",
    "version": 3
   },
   "file_extension": ".py",
   "mimetype": "text/x-python",
   "name": "python",
   "nbconvert_exporter": "python",
   "pygments_lexer": "ipython3",
   "version": "3.8.3"
  },
  "orig_nbformat": 4
 },
 "nbformat": 4,
 "nbformat_minor": 2
}
