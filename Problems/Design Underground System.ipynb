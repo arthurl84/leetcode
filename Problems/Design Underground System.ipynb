{
 "cells": [
  {
   "cell_type": "markdown",
   "metadata": {},
   "source": [
    "### Design Underground System  "
   ]
  },
  {
   "cell_type": "code",
   "execution_count": 1,
   "metadata": {},
   "outputs": [],
   "source": [
    "from collections import defaultdict\n",
    "\n",
    "class UndergroundSystem:\n",
    "    # Two hashmaps\n",
    "    # time = O(1) for all operations\n",
    "\n",
    "    def __init__(self) -> None:\n",
    "        self.check_in = {} # hashmap (id -> startStation, checkInTime), space = O(P)\n",
    "        self.journey = defaultdict(lambda: [0, 0]) # hashmap whose key is a lambda function (startStation, endStation -> total travel time, trip count), space = O(S^2)\n",
    "\n",
    "    def checkIn(self, id: int, startStation: str, t: int) -> None:\n",
    "        self.check_in[id] = [startStation, t]\n",
    "\n",
    "    def checkOut(self, id: int, endStation: str, t: int) -> None:\n",
    "        startStation, startTime = self.check_in.pop(id)\n",
    "        self.journey[(startStation, endStation)][0] += (t - startTime) # increase the single ride travel time\n",
    "        self.journey[(startStation, endStation)][1] += 1 # increase the trip count\n",
    "\n",
    "    def getAverageTime(self, startStation: str, endStation: str) -> float:\n",
    "        time, trip = self.journey[(startStation, endStation)]\n",
    "        return time / trip"
   ]
  },
  {
   "cell_type": "code",
   "execution_count": null,
   "metadata": {},
   "outputs": [],
   "source": []
  }
 ],
 "metadata": {
  "interpreter": {
   "hash": "c6e4e9f98eb68ad3b7c296f83d20e6de614cb42e90992a65aa266555a3137d0d"
  },
  "kernelspec": {
   "display_name": "Python 3.9.7 64-bit ('base': conda)",
   "language": "python",
   "name": "python3"
  },
  "language_info": {
   "codemirror_mode": {
    "name": "ipython",
    "version": 3
   },
   "file_extension": ".py",
   "mimetype": "text/x-python",
   "name": "python",
   "nbconvert_exporter": "python",
   "pygments_lexer": "ipython3",
   "version": "3.9.7"
  },
  "orig_nbformat": 4
 },
 "nbformat": 4,
 "nbformat_minor": 2
}
