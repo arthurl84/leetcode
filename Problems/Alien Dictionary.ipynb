{
 "cells": [
  {
   "cell_type": "markdown",
   "metadata": {},
   "source": [
    "## Alien Dictionary  "
   ]
  },
  {
   "cell_type": "code",
   "execution_count": 2,
   "metadata": {},
   "outputs": [],
   "source": [
    "from typing import List\n",
    "\n",
    "def isAlienSorted(words: List[str], order: str) -> bool:\n",
    "    alphabet = {c: i for i, c in enumerate(order)}\n",
    "    words = [[alphabet[c] for c in word] for word in words]\n",
    "    return all(w1 <= w2 for w1, w2 in zip(words, words[1:]))"
   ]
  },
  {
   "cell_type": "code",
   "execution_count": 3,
   "metadata": {},
   "outputs": [],
   "source": [
    "def isAlienSorted2(words: List[str], order: str) -> bool:\n",
    "    alphabet = {c: i for i, c in enumerate(order)}\n",
    "    for i in range(len(words) - 1):\n",
    "        for j in range(len(words[i])):\n",
    "            if j >= len(words[i + 1]):\n",
    "                return False\n",
    "            if words[i][j] != words[i + 1][j]:\n",
    "                if alphabet[words[i][j]] > alphabet[words[i + 1][j]]:\n",
    "                    return False\n",
    "                break\n",
    "    return True"
   ]
  },
  {
   "cell_type": "code",
   "execution_count": 8,
   "metadata": {},
   "outputs": [],
   "source": [
    "def alienOrder(words: List[str]) -> str:\n",
    "    '''\n",
    "    N, C, U = len(words), len(''.join(words)), 26\n",
    "    O(C) + O(U + min(U ^ 2, N - 1))\n",
    "    because N < C, U < C, min(U ^ 2, N) < C\n",
    "    time complexity = O(C + U + min(U ^ 2, N)) -> O(C)\n",
    "    space complexity = O(U + min(U ^ 2, N))\n",
    "    '''\n",
    "    # In dfs, nodes are returned once they either have no outgoing edges left, \n",
    "    # or all their outgoing edges have been visited. \n",
    "    # Therefore, the order in which nodes are returned by dfs will be reversed\n",
    "    \n",
    "    # Step 0: Put all unique letters into the adj list.\n",
    "    reverse_adj_list = {c : [] for word in words for c in word}\n",
    "    \n",
    "    # Step 1: Find all edges and put them in reverse_adj_list.\n",
    "    for first_word, second_word in zip(words, words[1:]):\n",
    "        for c, d in zip(first_word, second_word):\n",
    "            if c != d: \n",
    "                reverse_adj_list[d].append(c)\n",
    "                break\n",
    "        else: # Check that second word isn't a prefix of first word.\n",
    "            if len(second_word) < len(first_word): \n",
    "                return '' # invalid input words, no solution\n",
    "    \n",
    "    # Step 2: Depth-first search.\n",
    "    seen = {} # dictionary with key: node, value: False = grey, True = black.\n",
    "    output = []\n",
    "    \n",
    "    def visit(node):  # Return True iff there are no cycles.\n",
    "        if node in seen:\n",
    "            return seen[node] # If this node was grey (False), a cycle was detected.\n",
    "        seen[node] = False # Mark node as grey.\n",
    "        for next_node in reverse_adj_list[node]:\n",
    "            result = visit(next_node)\n",
    "            if not result: \n",
    "                return False # Cycle was detected lower down.\n",
    "        seen[node] = True # Mark node as black.\n",
    "        output.append(node)\n",
    "        return True\n",
    "\n",
    "    if not all(visit(node) for node in reverse_adj_list):\n",
    "        return '' # Cycle was detected somewhere\n",
    "\n",
    "    return ''.join(output)"
   ]
  },
  {
   "cell_type": "code",
   "execution_count": 9,
   "metadata": {},
   "outputs": [
    {
     "name": "stdout",
     "output_type": "stream",
     "text": [
      "wertf\n"
     ]
    }
   ],
   "source": [
    "print(alienOrder([\"wrt\",\"wrf\",\"er\",\"ett\",\"rftt\"]))"
   ]
  },
  {
   "cell_type": "code",
   "execution_count": null,
   "metadata": {},
   "outputs": [],
   "source": []
  }
 ],
 "metadata": {
  "interpreter": {
   "hash": "0dec37722eda255af3ca978d4fa44bb649fa9ba4c84e73cb2ab12a24b81d7aa7"
  },
  "kernelspec": {
   "display_name": "Python 3.8.3 64-bit ('base': conda)",
   "name": "python3"
  },
  "language_info": {
   "codemirror_mode": {
    "name": "ipython",
    "version": 3
   },
   "file_extension": ".py",
   "mimetype": "text/x-python",
   "name": "python",
   "nbconvert_exporter": "python",
   "pygments_lexer": "ipython3",
   "version": "3.8.3"
  },
  "orig_nbformat": 4
 },
 "nbformat": 4,
 "nbformat_minor": 2
}
