{
 "metadata": {
  "language_info": {
   "codemirror_mode": {
    "name": "ipython",
    "version": 3
   },
   "file_extension": ".py",
   "mimetype": "text/x-python",
   "name": "python",
   "nbconvert_exporter": "python",
   "pygments_lexer": "ipython3",
   "version": "3.8.3"
  },
  "orig_nbformat": 2,
  "kernelspec": {
   "name": "python383jvsc74a57bd00dec37722eda255af3ca978d4fa44bb649fa9ba4c84e73cb2ab12a24b81d7aa7",
   "display_name": "Python 3.8.3 64-bit ('base': conda)"
  }
 },
 "nbformat": 4,
 "nbformat_minor": 2,
 "cells": [
  {
   "source": [
    "## Grumpy Bookstore Owner  \n",
    "\n",
    "Today, the bookstore owner has a store open for customers.length minutes.  Every minute, some number of customers (customers[i]) enter the store, and all those customers leave after the end of that minute.  \n",
    "\n",
    "On some minutes, the bookstore owner is grumpy.  If the bookstore owner is grumpy on the i-th minute, grumpy[i] = 1, otherwise grumpy[i] = 0.  When the bookstore owner is grumpy, the customers of that minute are not satisfied, otherwise they are satisfied.  \n",
    "\n",
    "The bookstore owner knows a secret technique to keep themselves not grumpy for minutes minutes straight, but can only use it once.  \n",
    "\n",
    "Return the maximum number of customers that can be satisfied throughout the day.  \n"
   ],
   "cell_type": "markdown",
   "metadata": {}
  },
  {
   "cell_type": "code",
   "execution_count": 2,
   "metadata": {},
   "outputs": [],
   "source": [
    "class Solution(object):\n",
    "    def maxSatisfied(self, customers, grumpy, minutes):\n",
    "        i = win_of_make_satisfied = satisfied = max_make_satisfied = 0\n",
    "        for c, g in zip(customers, grumpy):\n",
    "            satisfied += (1 - g) * c\n",
    "            win_of_make_satisfied += g * c\n",
    "            if i >= minutes:\n",
    "                win_of_make_satisfied -= grumpy[i - minutes] * customers[i - minutes]\n",
    "            max_make_satisfied = max(win_of_make_satisfied, max_make_satisfied)  \n",
    "            i += 1    \n",
    "        return satisfied + max_make_satisfied"
   ]
  },
  {
   "cell_type": "code",
   "execution_count": 3,
   "metadata": {},
   "outputs": [
    {
     "output_type": "execute_result",
     "data": {
      "text/plain": [
       "16"
      ]
     },
     "metadata": {},
     "execution_count": 3
    }
   ],
   "source": [
    "sol = Solution()\n",
    "sol.maxSatisfied([1,0,1,2,1,1,7,5], [0,1,0,1,0,1,0,1], 3)"
   ]
  },
  {
   "cell_type": "code",
   "execution_count": null,
   "metadata": {},
   "outputs": [],
   "source": []
  }
 ]
}