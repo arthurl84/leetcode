{
 "cells": [
  {
   "cell_type": "markdown",
   "metadata": {},
   "source": [
    "### Employee Free Time  "
   ]
  },
  {
   "cell_type": "code",
   "execution_count": 1,
   "metadata": {},
   "outputs": [],
   "source": [
    "class Interval:\n",
    "    def __init__(self, start: int=None, end: int=None):\n",
    "        self.start = start\n",
    "        self.end = end"
   ]
  },
  {
   "cell_type": "code",
   "execution_count": 2,
   "metadata": {},
   "outputs": [],
   "source": [
    "from typing import List\n",
    "\n",
    "# def employeeFreeTime(schedule):\n",
    "\n",
    "#     res, time_line = [], []\n",
    "#     for e in schedule:\n",
    "#         time_line.extend(e)\n",
    "\n",
    "#     time_line.sort(key=lambda interval: interval.start)\n",
    "\n",
    "#     temp = time_line[0]\n",
    "#     for interval in time_line:\n",
    "#         if temp.end < interval.start:\n",
    "#             res.append(Interval(temp.end, interval.start))\n",
    "#             temp = interval\n",
    "#         else:\n",
    "#             temp = interval if temp.end < interval.end else temp\n",
    "\n",
    "#     return res"
   ]
  },
  {
   "cell_type": "code",
   "execution_count": 4,
   "metadata": {},
   "outputs": [],
   "source": [
    "def employeeFreeTime(schedule):\n",
    "\n",
    "    res = []\n",
    "    schedule.sort(key=lambda interval: interval[0])\n",
    "\n",
    "    temp = schedule[0]\n",
    "    for interval in schedule:\n",
    "        if temp[1] < interval[0]:\n",
    "            res.append([temp[1], interval[0]])\n",
    "            temp = interval\n",
    "        else:\n",
    "            temp = interval if temp[1] < interval[1] else temp\n",
    "\n",
    "    return res"
   ]
  },
  {
   "cell_type": "code",
   "execution_count": 5,
   "metadata": {},
   "outputs": [
    {
     "data": {
      "text/plain": [
       "[[3, 4]]"
      ]
     },
     "execution_count": 5,
     "metadata": {},
     "output_type": "execute_result"
    }
   ],
   "source": [
    "schedule = [[1,2],[5,6],[1,3],[4,10]]\n",
    "employeeFreeTime(schedule)"
   ]
  },
  {
   "cell_type": "code",
   "execution_count": null,
   "metadata": {},
   "outputs": [],
   "source": []
  }
 ],
 "metadata": {
  "interpreter": {
   "hash": "0dec37722eda255af3ca978d4fa44bb649fa9ba4c84e73cb2ab12a24b81d7aa7"
  },
  "kernelspec": {
   "display_name": "Python 3.8.3 ('base')",
   "language": "python",
   "name": "python3"
  },
  "language_info": {
   "codemirror_mode": {
    "name": "ipython",
    "version": 3
   },
   "file_extension": ".py",
   "mimetype": "text/x-python",
   "name": "python",
   "nbconvert_exporter": "python",
   "pygments_lexer": "ipython3",
   "version": "3.8.3"
  },
  "orig_nbformat": 4
 },
 "nbformat": 4,
 "nbformat_minor": 2
}
