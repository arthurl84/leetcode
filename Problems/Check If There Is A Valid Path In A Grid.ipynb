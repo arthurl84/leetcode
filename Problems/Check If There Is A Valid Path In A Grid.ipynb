{
 "metadata": {
  "language_info": {
   "codemirror_mode": {
    "name": "ipython",
    "version": 3
   },
   "file_extension": ".py",
   "mimetype": "text/x-python",
   "name": "python",
   "nbconvert_exporter": "python",
   "pygments_lexer": "ipython3",
   "version": "3.8.3"
  },
  "orig_nbformat": 4,
  "kernelspec": {
   "name": "python3",
   "display_name": "Python 3.8.3 64-bit ('base': conda)"
  },
  "interpreter": {
   "hash": "0dec37722eda255af3ca978d4fa44bb649fa9ba4c84e73cb2ab12a24b81d7aa7"
  }
 },
 "nbformat": 4,
 "nbformat_minor": 2,
 "cells": [
  {
   "source": [
    "## Check if There is a Valid Path in a Grid  \n"
   ],
   "cell_type": "markdown",
   "metadata": {}
  },
  {
   "cell_type": "code",
   "execution_count": 2,
   "metadata": {},
   "outputs": [],
   "source": [
    "class Solution:\n",
    "    def hasValidPath(self, grid):\n",
    "\n",
    "        if not grid:\n",
    "            return True\n",
    "\n",
    "        directions = {1: [(0, -1), (0, 1)],\n",
    "                      2: [(-1, 0), (1, 0)],\n",
    "                      3: [(0 ,-1), (1, 0)],\n",
    "                      4: [(0, 1), (1, 0)],\n",
    "                      5: [(-1, 0), (0, -1)],\n",
    "                      6: [(0, 1), (-1, 0)]}\n",
    "\n",
    "        visited = set()\n",
    "        goal = (len(grid) - 1, len(grid[0]) - 1)\n",
    "\n",
    "        def dfs(i, j):\n",
    "            visited.add((i, j))\n",
    "            if (i, j) == goal:\n",
    "                return True\n",
    "            for d in directions[grid[i][j]]:\n",
    "                ni, nj = i + d[0], j + d[1]\n",
    "                if 0 <= ni < len(grid) and 0 <= nj < len(grid[0]) and (ni, nj) not in visited and (-d[0], -d[1]) in directions[grid[ni][nj]]:\n",
    "                    if dfs(ni, nj):\n",
    "                        return True\n",
    "            return False\n",
    "        \n",
    "        return dfs(0, 0)"
   ]
  },
  {
   "cell_type": "code",
   "execution_count": 3,
   "metadata": {},
   "outputs": [],
   "source": [
    "sol = Solution()"
   ]
  },
  {
   "cell_type": "code",
   "execution_count": 4,
   "metadata": {},
   "outputs": [
    {
     "output_type": "execute_result",
     "data": {
      "text/plain": [
       "True"
      ]
     },
     "metadata": {},
     "execution_count": 4
    }
   ],
   "source": [
    "sol.hasValidPath([[2,4,3],[6,5,2]])"
   ]
  },
  {
   "cell_type": "code",
   "execution_count": 5,
   "metadata": {},
   "outputs": [
    {
     "output_type": "execute_result",
     "data": {
      "text/plain": [
       "False"
      ]
     },
     "metadata": {},
     "execution_count": 5
    }
   ],
   "source": [
    "sol.hasValidPath([[1,2,1],[1,2,1]])"
   ]
  },
  {
   "cell_type": "code",
   "execution_count": null,
   "metadata": {},
   "outputs": [],
   "source": []
  }
 ]
}