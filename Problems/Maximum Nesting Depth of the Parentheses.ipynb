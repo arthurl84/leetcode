{
 "cells": [
  {
   "cell_type": "markdown",
   "metadata": {},
   "source": [
    "### Maximum Nesting Depth of the Parentheses  "
   ]
  },
  {
   "cell_type": "code",
   "execution_count": 10,
   "metadata": {},
   "outputs": [],
   "source": [
    "from typing import List\n",
    "from collections import defaultdict\n",
    "\n",
    "def maxDepth(s: str):\n",
    "\n",
    "    hashmap = defaultdict(list)\n",
    "    curr = max_depth = 0\n",
    "    word = ''\n",
    "    for c in s:\n",
    "        if c in '()':\n",
    "            if word:\n",
    "                hashmap[curr].append(word)\n",
    "                word = ''\n",
    "            if c == '(':\n",
    "                curr += 1\n",
    "                max_depth = max(max_depth, curr)\n",
    "            elif c == ')':\n",
    "                curr -= 1\n",
    "        else:\n",
    "            word += c\n",
    "    if word:\n",
    "        hashmap[curr].append(word)\n",
    "\n",
    "    print(hashmap)\n",
    "    return max_depth, hashmap[max_depth]"
   ]
  },
  {
   "cell_type": "code",
   "execution_count": 11,
   "metadata": {},
   "outputs": [],
   "source": [
    "input = 'a((bc)((de)f(g)))h'"
   ]
  },
  {
   "cell_type": "code",
   "execution_count": 12,
   "metadata": {},
   "outputs": [
    {
     "name": "stdout",
     "output_type": "stream",
     "text": [
      "defaultdict(<class 'list'>, {0: ['a', 'h'], 2: ['bc', 'f'], 3: ['de', 'g']})\n"
     ]
    },
    {
     "data": {
      "text/plain": [
       "(3, ['de', 'g'])"
      ]
     },
     "execution_count": 12,
     "metadata": {},
     "output_type": "execute_result"
    }
   ],
   "source": [
    "maxDepth(input)"
   ]
  },
  {
   "cell_type": "code",
   "execution_count": null,
   "metadata": {},
   "outputs": [],
   "source": []
  }
 ],
 "metadata": {
  "interpreter": {
   "hash": "0dec37722eda255af3ca978d4fa44bb649fa9ba4c84e73cb2ab12a24b81d7aa7"
  },
  "kernelspec": {
   "display_name": "Python 3.8.3 64-bit ('base': conda)",
   "language": "python",
   "name": "python3"
  },
  "language_info": {
   "codemirror_mode": {
    "name": "ipython",
    "version": 3
   },
   "file_extension": ".py",
   "mimetype": "text/x-python",
   "name": "python",
   "nbconvert_exporter": "python",
   "pygments_lexer": "ipython3",
   "version": "3.8.3"
  },
  "orig_nbformat": 4
 },
 "nbformat": 4,
 "nbformat_minor": 2
}
