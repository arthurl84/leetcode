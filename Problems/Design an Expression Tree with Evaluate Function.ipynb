{
 "metadata": {
  "language_info": {
   "codemirror_mode": {
    "name": "ipython",
    "version": 3
   },
   "file_extension": ".py",
   "mimetype": "text/x-python",
   "name": "python",
   "nbconvert_exporter": "python",
   "pygments_lexer": "ipython3",
   "version": "3.8.3"
  },
  "orig_nbformat": 4,
  "kernelspec": {
   "name": "python3",
   "display_name": "Python 3.8.3 64-bit ('base': conda)"
  },
  "interpreter": {
   "hash": "0dec37722eda255af3ca978d4fa44bb649fa9ba4c84e73cb2ab12a24b81d7aa7"
  }
 },
 "nbformat": 4,
 "nbformat_minor": 2,
 "cells": [
  {
   "source": [
    "## Design an Expression Tree with Evaluate Function  "
   ],
   "cell_type": "markdown",
   "metadata": {}
  },
  {
   "cell_type": "code",
   "execution_count": 1,
   "metadata": {},
   "outputs": [],
   "source": [
    "import abc\n",
    "from abc import ABC, abstractmethod"
   ]
  },
  {
   "cell_type": "code",
   "execution_count": 2,
   "metadata": {},
   "outputs": [],
   "source": [
    "class Node(ABC):\n",
    "    @abstractmethod\n",
    "    def evaluate(self) -> int:\n",
    "        pass"
   ]
  },
  {
   "cell_type": "code",
   "execution_count": 3,
   "metadata": {},
   "outputs": [],
   "source": [
    "class Number(Node):\n",
    "    def __init__(self, value):\n",
    "        self._value = value\n",
    "        \n",
    "    def evaluate(self) -> int:\n",
    "        return self._value"
   ]
  },
  {
   "cell_type": "code",
   "execution_count": 4,
   "metadata": {},
   "outputs": [],
   "source": [
    "class Operator(Node):\n",
    "    def __init__(self, left, right):\n",
    "        self._left = left\n",
    "        self._right = right\n",
    "        \n",
    "    def evaluate(self) -> int:\n",
    "        pass"
   ]
  },
  {
   "cell_type": "code",
   "execution_count": 5,
   "metadata": {},
   "outputs": [],
   "source": [
    "class Plus(Operator):\n",
    "    def evaluate(self) -> int:\n",
    "        return self._left.evaluate() + self._right.evaluate()\n",
    "        \n",
    "class Minus(Operator):\n",
    "    def evaluate(self) -> int:\n",
    "        return self._left.evaluate() - self._right.evaluate()\n",
    "    \n",
    "class Mul(Operator):\n",
    "    def evaluate(self) -> int:\n",
    "        return self._left.evaluate() * self._right.evaluate()\n",
    "    \n",
    "class Div(Operator):\n",
    "    def evaluate(self) -> int:\n",
    "        return self._left.evaluate() // self._right.evaluate()"
   ]
  },
  {
   "cell_type": "code",
   "execution_count": 7,
   "metadata": {},
   "outputs": [],
   "source": [
    "class TreeBuilder(object):\n",
    "    def buildTree(self, postfix) -> 'Node':\n",
    "        operators = {'+': Plus, '-': Minus, '*': Mul, '/': Div}\n",
    "        stk = []\n",
    "        for token in postfix:\n",
    "            if token in operators:\n",
    "                R = stk.pop()\n",
    "                L = stk.pop()\n",
    "                stk.append(operators[token](L, R))\n",
    "            else:\n",
    "                stk.append(Number(int(token)))\n",
    "        return stk[0]"
   ]
  },
  {
   "cell_type": "code",
   "execution_count": 8,
   "metadata": {},
   "outputs": [],
   "source": [
    "obj = TreeBuilder()"
   ]
  },
  {
   "cell_type": "code",
   "execution_count": 9,
   "metadata": {},
   "outputs": [],
   "source": [
    "expTree = obj.buildTree([\"3\",\"4\",\"+\",\"2\",\"*\",\"7\",\"/\"])"
   ]
  },
  {
   "cell_type": "code",
   "execution_count": 10,
   "metadata": {},
   "outputs": [],
   "source": [
    "ans = expTree.evaluate()"
   ]
  },
  {
   "cell_type": "code",
   "execution_count": 11,
   "metadata": {},
   "outputs": [
    {
     "output_type": "execute_result",
     "data": {
      "text/plain": [
       "2"
      ]
     },
     "metadata": {},
     "execution_count": 11
    }
   ],
   "source": [
    "ans"
   ]
  },
  {
   "cell_type": "code",
   "execution_count": null,
   "metadata": {},
   "outputs": [],
   "source": []
  }
 ]
}