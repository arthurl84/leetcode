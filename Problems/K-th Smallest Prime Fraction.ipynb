{
 "metadata": {
  "language_info": {
   "codemirror_mode": {
    "name": "ipython",
    "version": 3
   },
   "file_extension": ".py",
   "mimetype": "text/x-python",
   "name": "python",
   "nbconvert_exporter": "python",
   "pygments_lexer": "ipython3",
   "version": "3.8.3"
  },
  "orig_nbformat": 4,
  "kernelspec": {
   "name": "python3",
   "display_name": "Python 3.8.3 64-bit ('base': conda)"
  },
  "interpreter": {
   "hash": "0dec37722eda255af3ca978d4fa44bb649fa9ba4c84e73cb2ab12a24b81d7aa7"
  }
 },
 "nbformat": 4,
 "nbformat_minor": 2,
 "cells": [
  {
   "source": [
    "## K-th Smallest Prime Fraction  "
   ],
   "cell_type": "markdown",
   "metadata": {}
  },
  {
   "cell_type": "code",
   "execution_count": 9,
   "metadata": {},
   "outputs": [],
   "source": [
    "from fractions import Fraction\n",
    "import heapq"
   ]
  },
  {
   "cell_type": "code",
   "execution_count": 18,
   "metadata": {},
   "outputs": [],
   "source": [
    "class Solution:\n",
    "    def kthSmallestPrimeFraction(self, arr, k):\n",
    "\n",
    "        pq = [(arr[0] / float(arr[i]), 0, i) for i in range(len(arr) - 1, 0, -1)]\n",
    "        \n",
    "        for _ in range(k - 1):\n",
    "            frac, i, j = heapq.heappop(pq)\n",
    "            i += 1\n",
    "            if i < j:\n",
    "                heapq.heappush(pq, (arr[i] / float(arr[j]), i, j))\n",
    "                \n",
    "        return arr[pq[0][1]], arr[pq[0][2]]"
   ]
  },
  {
   "cell_type": "code",
   "execution_count": 19,
   "metadata": {},
   "outputs": [],
   "source": [
    "sol = Solution()"
   ]
  },
  {
   "cell_type": "code",
   "execution_count": 20,
   "metadata": {},
   "outputs": [
    {
     "output_type": "execute_result",
     "data": {
      "text/plain": [
       "(2, 13)"
      ]
     },
     "metadata": {},
     "execution_count": 20
    }
   ],
   "source": [
    "sol.kthSmallestPrimeFraction([1,2,3,5,7,11,13,17,19,23], 11)"
   ]
  },
  {
   "cell_type": "code",
   "execution_count": null,
   "metadata": {},
   "outputs": [],
   "source": []
  }
 ]
}