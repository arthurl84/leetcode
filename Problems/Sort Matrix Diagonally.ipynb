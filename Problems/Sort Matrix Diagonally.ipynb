{
 "metadata": {
  "language_info": {
   "codemirror_mode": {
    "name": "ipython",
    "version": 3
   },
   "file_extension": ".py",
   "mimetype": "text/x-python",
   "name": "python",
   "nbconvert_exporter": "python",
   "pygments_lexer": "ipython3",
   "version": "3.8.3"
  },
  "orig_nbformat": 2,
  "kernelspec": {
   "name": "python383jvsc74a57bd00dec37722eda255af3ca978d4fa44bb649fa9ba4c84e73cb2ab12a24b81d7aa7",
   "display_name": "Python 3.8.3 64-bit ('base': conda)"
  }
 },
 "nbformat": 4,
 "nbformat_minor": 2,
 "cells": [
  {
   "source": [
    "## Sort Matrix Diagonally  \n",
    "\n",
    "A matrix diagonal is a diagonal line of cells starting from some cell in either the topmost row or leftmost column and going in the bottom-right direction until reaching the matrix's end. For example, the matrix diagonal starting from mat[2][0], where mat is a 6 x 3 matrix, includes cells mat[2][0], mat[3][1], and mat[4][2].  \n",
    "\n",
    "Given an m x n matrix mat of integers, sort each matrix diagonal in ascending order and return the resulting matrix.  \n"
   ],
   "cell_type": "markdown",
   "metadata": {}
  },
  {
   "cell_type": "code",
   "execution_count": 1,
   "metadata": {},
   "outputs": [],
   "source": [
    "from collections import defaultdict\n",
    "import heapq"
   ]
  },
  {
   "cell_type": "code",
   "execution_count": 4,
   "metadata": {},
   "outputs": [],
   "source": [
    "class Solution(object):\n",
    "    def diagonalSort(self, mat):\n",
    "        m = len(mat)\n",
    "        n = len(mat[0])\n",
    "\n",
    "        diagonals = defaultdict(list)\n",
    "\n",
    "        for row in range(m):\n",
    "            for col in range(n):\n",
    "                diagonals[row - col].append(mat[row][col])\n",
    "\n",
    "        for diagonal in diagonals.values():\n",
    "            heapq.heapify(diagonal)\n",
    "\n",
    "        for row in range(m):\n",
    "            for col in range(n):\n",
    "                val = heapq.heappop(diagonals[row - col])\n",
    "                mat[row][col] = val\n",
    "\n",
    "        return mat"
   ]
  },
  {
   "cell_type": "code",
   "execution_count": 5,
   "metadata": {},
   "outputs": [
    {
     "output_type": "execute_result",
     "data": {
      "text/plain": [
       "[[1, 1, 1, 1], [1, 2, 2, 2], [1, 2, 3, 3]]"
      ]
     },
     "metadata": {},
     "execution_count": 5
    }
   ],
   "source": [
    "sol = Solution()\n",
    "sol.diagonalSort([[3,3,1,1],[2,2,1,2],[1,1,1,2]])"
   ]
  },
  {
   "cell_type": "code",
   "execution_count": null,
   "metadata": {},
   "outputs": [],
   "source": []
  }
 ]
}