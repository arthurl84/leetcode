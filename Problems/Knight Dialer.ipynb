{
 "cells": [
  {
   "cell_type": "markdown",
   "metadata": {},
   "source": [
    "### Knight Dialer  "
   ]
  },
  {
   "cell_type": "code",
   "execution_count": 3,
   "metadata": {},
   "outputs": [],
   "source": [
    "neighbors_map = {\n",
    "    0:(4,6),\n",
    "    1:(6,8),\n",
    "    2:(7,9),\n",
    "    3:(4,8),\n",
    "    4:(0,3,9),\n",
    "    5:(),\n",
    "    6:(0,1,7),\n",
    "    7:(2,6),\n",
    "    8:(1,3),\n",
    "    9:(2,4)\n",
    "}"
   ]
  },
  {
   "cell_type": "code",
   "execution_count": 4,
   "metadata": {},
   "outputs": [],
   "source": [
    "def neighbors(position):\n",
    "    return neighbors_map[position]"
   ]
  },
  {
   "cell_type": "code",
   "execution_count": 5,
   "metadata": {},
   "outputs": [],
   "source": [
    "def count_sequences(start_position, num_hops):\n",
    "    cache = {}\n",
    "\n",
    "    def helper(position, num_hops):\n",
    "        if (position, num_hops) in cache:\n",
    "            return cache[(position, num_hops)]\n",
    "\n",
    "        if num_hops == 0:\n",
    "            return 1\n",
    "        else:\n",
    "            num_sequences = 0\n",
    "            for neighbor in neighbors(position):\n",
    "                num_sequences += helper(neighbor, num_hops - 1)\n",
    "            cache[(position, num_hops)] = num_sequences\n",
    "            return num_sequences\n",
    "\n",
    "    return helper(start_position, num_hops)"
   ]
  },
  {
   "cell_type": "code",
   "execution_count": 8,
   "metadata": {},
   "outputs": [],
   "source": [
    "def count_sequences2(start_position, num_hops):\n",
    "    curr_counts = [1] * 10\n",
    "    curr_num_hops = 1\n",
    "\n",
    "    while curr_num_hops <= num_hops:\n",
    "        next_counts = [0] * 10\n",
    "        curr_num_hops += 1\n",
    "\n",
    "        for position in range(10):\n",
    "            for neighbor in neighbors(position):\n",
    "                next_counts[neighbor] += curr_counts[position]\n",
    "        curr_counts = next_counts\n",
    "\n",
    "    return curr_counts[start_position]"
   ]
  },
  {
   "cell_type": "code",
   "execution_count": 9,
   "metadata": {},
   "outputs": [],
   "source": [
    "def knightDialer(n: int) -> int:\n",
    "    mod = 10**9 + 7\n",
    "\n",
    "    curr_counts = [1] * 10\n",
    "    for _ in range(n - 1):\n",
    "        next_counts = [0] * 10\n",
    "        for position in range(10):\n",
    "            for neighbor in neighbors(position):\n",
    "                next_counts[neighbor] = (next_counts[neighbor] + curr_counts[position]) % mod\n",
    "        curr_counts = next_counts\n",
    "\n",
    "    return sum(curr_counts) % mod"
   ]
  },
  {
   "cell_type": "code",
   "execution_count": null,
   "metadata": {},
   "outputs": [],
   "source": []
  }
 ],
 "metadata": {
  "interpreter": {
   "hash": "0dec37722eda255af3ca978d4fa44bb649fa9ba4c84e73cb2ab12a24b81d7aa7"
  },
  "kernelspec": {
   "display_name": "Python 3.8.3 64-bit ('base': conda)",
   "language": "python",
   "name": "python3"
  },
  "language_info": {
   "codemirror_mode": {
    "name": "ipython",
    "version": 3
   },
   "file_extension": ".py",
   "mimetype": "text/x-python",
   "name": "python",
   "nbconvert_exporter": "python",
   "pygments_lexer": "ipython3",
   "version": "3.8.3"
  },
  "orig_nbformat": 4
 },
 "nbformat": 4,
 "nbformat_minor": 2
}
