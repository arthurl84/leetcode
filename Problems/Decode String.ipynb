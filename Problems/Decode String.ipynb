{
 "cells": [
  {
   "cell_type": "markdown",
   "metadata": {},
   "source": [
    "### Decode String  "
   ]
  },
  {
   "cell_type": "code",
   "execution_count": 4,
   "metadata": {},
   "outputs": [],
   "source": [
    "def decodeString(s: str) -> str:\n",
    "    # using two stacks\n",
    "    # time = O(max(k).n), n = len(s)\n",
    "    # space = O(m + n), m is the num of letters, n is the num of digits in s\n",
    "\n",
    "    countStack, stringStack = [], []\n",
    "    k, currentString = 0, ''\n",
    "\n",
    "    for c in s:\n",
    "        if c.isnumeric():\n",
    "            k = k * 10 + int(c)\n",
    "        elif c == '[':\n",
    "            countStack.append(k)\n",
    "            stringStack.append(currentString)\n",
    "            k, currentString = 0, ''\n",
    "        elif c == ']':\n",
    "            decodedString = stringStack.pop()\n",
    "            decodedString += currentString * countStack.pop()\n",
    "            currentString = decodedString\n",
    "        else:\n",
    "            currentString += c\n",
    "    return currentString"
   ]
  },
  {
   "cell_type": "code",
   "execution_count": 5,
   "metadata": {},
   "outputs": [
    {
     "data": {
      "text/plain": [
       "'aaabcbc'"
      ]
     },
     "execution_count": 5,
     "metadata": {},
     "output_type": "execute_result"
    }
   ],
   "source": [
    "decodeString(\"3[a]2[bc]\")"
   ]
  },
  {
   "cell_type": "code",
   "execution_count": 1,
   "metadata": {},
   "outputs": [],
   "source": [
    "def decodeString2(s: str) -> str:\n",
    "    # using recursion\n",
    "    # time = O(max(k).n)\n",
    "    # space = O(n) used to store the internal call stack for recursion\n",
    "    \n",
    "    def dfs(s, p):\n",
    "        res = ''\n",
    "        i, k = p, 0\n",
    "        while i < len(s):\n",
    "            if s[i].isdigit():\n",
    "                k = k * 10 + int(s[i])\n",
    "            elif s[i] == '[':\n",
    "                decodedString, pos = dfs(s, i + 1)\n",
    "                res += decodedString * k\n",
    "                i, k = pos, 0\n",
    "            elif s[i] == ']':\n",
    "                return res, i\n",
    "            else:\n",
    "                res += s[i]\n",
    "            i += 1\n",
    "        return res, i\n",
    "\n",
    "    return dfs(s, 0)[0]"
   ]
  },
  {
   "cell_type": "code",
   "execution_count": 2,
   "metadata": {},
   "outputs": [
    {
     "data": {
      "text/plain": [
       "'aaabcbc'"
      ]
     },
     "execution_count": 2,
     "metadata": {},
     "output_type": "execute_result"
    }
   ],
   "source": [
    "decodeString2(\"3[a]2[bc]\")"
   ]
  },
  {
   "cell_type": "code",
   "execution_count": 3,
   "metadata": {},
   "outputs": [
    {
     "name": "stdout",
     "output_type": "stream",
     "text": [
      "9\n"
     ]
    }
   ],
   "source": [
    "print(ord('9') - ord('0'))"
   ]
  },
  {
   "cell_type": "code",
   "execution_count": null,
   "metadata": {},
   "outputs": [],
   "source": []
  }
 ],
 "metadata": {
  "interpreter": {
   "hash": "0dec37722eda255af3ca978d4fa44bb649fa9ba4c84e73cb2ab12a24b81d7aa7"
  },
  "kernelspec": {
   "display_name": "Python 3.8.3 64-bit ('base': conda)",
   "language": "python",
   "name": "python3"
  },
  "language_info": {
   "codemirror_mode": {
    "name": "ipython",
    "version": 3
   },
   "file_extension": ".py",
   "mimetype": "text/x-python",
   "name": "python",
   "nbconvert_exporter": "python",
   "pygments_lexer": "ipython3",
   "version": "3.8.3"
  },
  "orig_nbformat": 4
 },
 "nbformat": 4,
 "nbformat_minor": 2
}
