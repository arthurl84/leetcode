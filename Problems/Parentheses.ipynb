{
 "cells": [
  {
   "cell_type": "markdown",
   "metadata": {},
   "source": [
    "## Longest Valid Parentheses  "
   ]
  },
  {
   "cell_type": "code",
   "execution_count": 4,
   "metadata": {},
   "outputs": [],
   "source": [
    "def longestValidParentheses(s: str) -> int:\n",
    "    # using stack\n",
    "\n",
    "    maxlen = 0\n",
    "    stack = [-1]\n",
    "    for idx, ch in enumerate(s):\n",
    "        if ch == '(':\n",
    "            stack.append(idx)\n",
    "        else:\n",
    "            stack.pop()\n",
    "            if not stack:\n",
    "                stack.append(idx)\n",
    "            else:\n",
    "                maxlen = max(maxlen, idx - stack[-1])\n",
    "\n",
    "    return maxlen"
   ]
  },
  {
   "cell_type": "code",
   "execution_count": 5,
   "metadata": {},
   "outputs": [
    {
     "data": {
      "text/plain": [
       "4"
      ]
     },
     "execution_count": 5,
     "metadata": {},
     "output_type": "execute_result"
    }
   ],
   "source": [
    "longestValidParentheses(\")()())\")"
   ]
  },
  {
   "cell_type": "code",
   "execution_count": 6,
   "metadata": {},
   "outputs": [],
   "source": [
    "def longestValidParentheses2(s: str) -> int:\n",
    "    # without extra space, using two counters\n",
    "\n",
    "    maxlen = 0\n",
    "\n",
    "    left = right = 0\n",
    "    for i in range(len(s)):\n",
    "        if s[i] == '(':\n",
    "            left += 1\n",
    "        else:\n",
    "            right += 1\n",
    "        if left == right:\n",
    "            maxlen = max(maxlen, 2 * right)\n",
    "        elif right >= left:\n",
    "            left = right = 0\n",
    "\n",
    "    left = right = 0\n",
    "    for i in range(len(s) - 1, -1, -1):\n",
    "        if s[i] == '(':\n",
    "            left += 1\n",
    "        else:\n",
    "            right += 1\n",
    "        if left == right:\n",
    "            maxlen = max(maxlen, 2 * left)\n",
    "        elif left >= right:\n",
    "            left = right = 0\n",
    "\n",
    "    return maxlen"
   ]
  },
  {
   "cell_type": "code",
   "execution_count": 7,
   "metadata": {},
   "outputs": [
    {
     "data": {
      "text/plain": [
       "4"
      ]
     },
     "execution_count": 7,
     "metadata": {},
     "output_type": "execute_result"
    }
   ],
   "source": [
    "longestValidParentheses2(\")()())\")"
   ]
  },
  {
   "cell_type": "markdown",
   "metadata": {},
   "source": [
    "## Remove Invalid Parentheses  "
   ]
  },
  {
   "cell_type": "code",
   "execution_count": 2,
   "metadata": {},
   "outputs": [],
   "source": [
    "from typing import List\n",
    "\n",
    "def removeInvalidParentheses(s: str) -> List[str]:\n",
    "\n",
    "    left = right = 0\n",
    "    for c in s:\n",
    "        if c == '(':\n",
    "            left += 1\n",
    "        elif c == ')':\n",
    "            if left == 0:\n",
    "                right += 1\n",
    "            else:\n",
    "                left -= 1\n",
    "\n",
    "    result = set()\n",
    "\n",
    "    def backtrack(idx, left_count, right_count, left_rem, right_rem, expr):\n",
    "        if idx == len(s):\n",
    "            if left_rem == 0 and right_rem == 0:\n",
    "                result.add(''.join(expr))\n",
    "        else:\n",
    "            c = s[idx]\n",
    "\n",
    "            if (c == '(' and left_rem > 0) or (c == ')' and right_rem > 0):\n",
    "                backtrack(idx + 1, left_count, right_count, left_rem - (c == '('), right_rem - (c == ')'), expr)\n",
    "\n",
    "            expr.append(c)\n",
    "            if c not in '()':\n",
    "                backtrack(idx + 1, left_count, right_count, left_rem, right_rem, expr)\n",
    "            elif c == '(':\n",
    "                backtrack(idx + 1, left_count + 1, right_count, left_rem, right_rem, expr)\n",
    "            elif c == ')' and left_count > right_count:\n",
    "                backtrack(idx + 1, left_count, right_count + 1, left_rem, right_rem, expr)\n",
    "            expr.pop()\n",
    "\n",
    "    backtrack(0, 0, 0, left, right, [])\n",
    "    return list(result)"
   ]
  },
  {
   "cell_type": "code",
   "execution_count": 3,
   "metadata": {},
   "outputs": [
    {
     "data": {
      "text/plain": [
       "['()()()', '(())()']"
      ]
     },
     "execution_count": 3,
     "metadata": {},
     "output_type": "execute_result"
    }
   ],
   "source": [
    "removeInvalidParentheses(\"()())()\")"
   ]
  },
  {
   "cell_type": "code",
   "execution_count": 4,
   "metadata": {},
   "outputs": [],
   "source": [
    "def minAddToMakeValid(s: str) -> int:\n",
    "    left = right = 0\n",
    "    for ch in s:\n",
    "        if ch == '(':\n",
    "            left += 1\n",
    "        else:\n",
    "            if left == 0:\n",
    "                right += 1\n",
    "            else:\n",
    "                left -= 1\n",
    "    return left + right"
   ]
  },
  {
   "cell_type": "code",
   "execution_count": 5,
   "metadata": {},
   "outputs": [
    {
     "data": {
      "text/plain": [
       "1"
      ]
     },
     "execution_count": 5,
     "metadata": {},
     "output_type": "execute_result"
    }
   ],
   "source": [
    "minAddToMakeValid(\"())\")"
   ]
  },
  {
   "cell_type": "code",
   "execution_count": 6,
   "metadata": {},
   "outputs": [],
   "source": [
    "def minRemoveToMakeValid(s: str) -> str:\n",
    "    # using stack\n",
    "\n",
    "    stack = []\n",
    "    index_to_remove = set()\n",
    "\n",
    "    for i, c in enumerate(s):\n",
    "        if c not in '()':\n",
    "            continue\n",
    "        if c == '(':\n",
    "            stack.append(i)\n",
    "        elif not stack:\n",
    "            index_to_remove.add(i)\n",
    "        else:\n",
    "            stack.pop()\n",
    "\n",
    "    index_to_remove = index_to_remove.union(set(stack))\n",
    "\n",
    "    string_builder = []\n",
    "    for i, c in enumerate(s):\n",
    "        if i not in index_to_remove:\n",
    "            string_builder.append(c)\n",
    "\n",
    "    return ''.join(string_builder)"
   ]
  },
  {
   "cell_type": "code",
   "execution_count": 7,
   "metadata": {},
   "outputs": [
    {
     "data": {
      "text/plain": [
       "'lee(t(c)o)de'"
      ]
     },
     "execution_count": 7,
     "metadata": {},
     "output_type": "execute_result"
    }
   ],
   "source": [
    "minRemoveToMakeValid(\"lee(t(c)o)de)\")"
   ]
  },
  {
   "cell_type": "code",
   "execution_count": null,
   "metadata": {},
   "outputs": [],
   "source": []
  }
 ],
 "metadata": {
  "interpreter": {
   "hash": "0dec37722eda255af3ca978d4fa44bb649fa9ba4c84e73cb2ab12a24b81d7aa7"
  },
  "kernelspec": {
   "display_name": "Python 3.8.3 64-bit ('base': conda)",
   "name": "python3"
  },
  "language_info": {
   "codemirror_mode": {
    "name": "ipython",
    "version": 3
   },
   "file_extension": ".py",
   "mimetype": "text/x-python",
   "name": "python",
   "nbconvert_exporter": "python",
   "pygments_lexer": "ipython3",
   "version": "3.8.3"
  },
  "orig_nbformat": 4
 },
 "nbformat": 4,
 "nbformat_minor": 2
}
