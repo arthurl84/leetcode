{
 "cells": [
  {
   "cell_type": "markdown",
   "metadata": {},
   "source": [
    "### Longest Valid Parentheses  "
   ]
  },
  {
   "cell_type": "code",
   "execution_count": 22,
   "metadata": {},
   "outputs": [],
   "source": [
    "def longestValidParentheses(s: str) -> int:\n",
    "    # using stack\n",
    "    # time = space = O(n)\n",
    "\n",
    "    maxlen = 0\n",
    "    stack = [-1] # store index\n",
    "    for idx, ch in enumerate(s):\n",
    "        if ch == '(':\n",
    "            stack.append(idx)\n",
    "        else: # if ch == ')'\n",
    "            stack.pop() # pop the topmost element\n",
    "            if not stack:\n",
    "                # keep on calculating the lengths of the valid substrings, \n",
    "                # and return the length of the longest valid string at the end. \n",
    "                stack.append(idx)\n",
    "            else:\n",
    "                # subtract the current element's index from the top element of the stack, \n",
    "                # which gives the length of the currently encountered valid string of parentheses\n",
    "                maxlen = max(maxlen, idx - stack[-1])\n",
    "    return maxlen"
   ]
  },
  {
   "cell_type": "code",
   "execution_count": 23,
   "metadata": {},
   "outputs": [
    {
     "data": {
      "text/plain": [
       "4"
      ]
     },
     "execution_count": 23,
     "metadata": {},
     "output_type": "execute_result"
    }
   ],
   "source": [
    "longestValidParentheses(\")()())\")"
   ]
  },
  {
   "cell_type": "code",
   "execution_count": 24,
   "metadata": {},
   "outputs": [],
   "source": [
    "def longestValidParentheses2(s: str) -> int:\n",
    "    # without extra space, using two counters, two passes\n",
    "    # time = O(n), space = O(1)\n",
    "\n",
    "    maxlen = 0\n",
    "    left = right = 0\n",
    "    # from left to right\n",
    "    for i in range(len(s)):\n",
    "        if s[i] == '(':\n",
    "            left += 1\n",
    "        else:\n",
    "            right += 1\n",
    "        if left == right:\n",
    "            maxlen = max(maxlen, 2 * right)\n",
    "        elif right >= left:\n",
    "            left = right = 0\n",
    "\n",
    "    left = right = 0\n",
    "    # from right to left\n",
    "    for i in range(len(s) - 1, -1, -1):\n",
    "        if s[i] == '(':\n",
    "            left += 1\n",
    "        else:\n",
    "            right += 1\n",
    "        if left == right:\n",
    "            maxlen = max(maxlen, 2 * left)\n",
    "        elif left >= right:\n",
    "            left = right = 0\n",
    "\n",
    "    return maxlen"
   ]
  },
  {
   "cell_type": "code",
   "execution_count": 25,
   "metadata": {},
   "outputs": [
    {
     "data": {
      "text/plain": [
       "4"
      ]
     },
     "execution_count": 25,
     "metadata": {},
     "output_type": "execute_result"
    }
   ],
   "source": [
    "longestValidParentheses2(\")()())\")"
   ]
  },
  {
   "cell_type": "markdown",
   "metadata": {},
   "source": [
    "### Remove Invalid Parentheses  "
   ]
  },
  {
   "cell_type": "code",
   "execution_count": 26,
   "metadata": {},
   "outputs": [],
   "source": [
    "from typing import List\n",
    "\n",
    "def removeInvalidParentheses(s: str) -> List[str]:\n",
    "    # Limited backtracking with recursion pruning\n",
    "    # time = O(2^n) in worst case\n",
    "    # space = O(n) for internal recursion stack\n",
    "\n",
    "    left = right = 0 # count misplaced left and right parentheses, this helps pruning the recursion\n",
    "    for c in s:\n",
    "        if c == '(':\n",
    "            left += 1\n",
    "        elif c == ')':\n",
    "            if left == 0:\n",
    "                right += 1\n",
    "            else:\n",
    "                left -= 1\n",
    "\n",
    "    result = set()\n",
    "\n",
    "    def backtrack(idx, left_count, right_count, left_rem, right_rem, expr):\n",
    "        \"\"\"\n",
    "        idx = current processing index\n",
    "        left_count = number of left parentheses that have been added to the expression\n",
    "        right_count = number of right parentheses that have been added to the expression\n",
    "        left_rem = number of left parentheses that remain to be removed\n",
    "        right_rem = number of right parentheses that remain to be removed\n",
    "        \"\"\"\n",
    "        if idx == len(s):\n",
    "            if left_rem == 0 and right_rem == 0: # final valid expression\n",
    "                result.add(''.join(expr))\n",
    "        else:\n",
    "            c = s[idx]\n",
    "\n",
    "            # discard a parenthese\n",
    "            if (c == '(' and left_rem > 0) or (c == ')' and right_rem > 0):\n",
    "                backtrack(idx + 1, left_count, right_count, left_rem - (c == '('), right_rem - (c == ')'), expr)\n",
    "\n",
    "            # consider a character\n",
    "            expr.append(c)\n",
    "            if c not in '()':\n",
    "                backtrack(idx + 1, left_count, right_count, left_rem, right_rem, expr)\n",
    "            elif c == '(':\n",
    "                backtrack(idx + 1, left_count + 1, right_count, left_rem, right_rem, expr)\n",
    "            elif c == ')' and left_count > right_count:\n",
    "                backtrack(idx + 1, left_count, right_count + 1, left_rem, right_rem, expr)\n",
    "            expr.pop() # backtrack\n",
    "\n",
    "    backtrack(0, 0, 0, left, right, [])\n",
    "    return list(result)"
   ]
  },
  {
   "cell_type": "code",
   "execution_count": 27,
   "metadata": {},
   "outputs": [
    {
     "data": {
      "text/plain": [
       "['()()()', '(())()']"
      ]
     },
     "execution_count": 27,
     "metadata": {},
     "output_type": "execute_result"
    }
   ],
   "source": [
    "removeInvalidParentheses(\"()())()\")"
   ]
  },
  {
   "cell_type": "markdown",
   "metadata": {},
   "source": [
    "### Minimum Add to Make Parentheses Valid  "
   ]
  },
  {
   "cell_type": "code",
   "execution_count": 4,
   "metadata": {},
   "outputs": [],
   "source": [
    "def minAddToMakeValid(s: str) -> int:\n",
    "    left = right = 0\n",
    "    for ch in s:\n",
    "        if ch == '(':\n",
    "            left += 1\n",
    "        else:\n",
    "            if left == 0:\n",
    "                right += 1\n",
    "            else:\n",
    "                left -= 1\n",
    "    return left + right"
   ]
  },
  {
   "cell_type": "code",
   "execution_count": 5,
   "metadata": {},
   "outputs": [
    {
     "data": {
      "text/plain": [
       "1"
      ]
     },
     "execution_count": 5,
     "metadata": {},
     "output_type": "execute_result"
    }
   ],
   "source": [
    "minAddToMakeValid(\"())\")"
   ]
  },
  {
   "cell_type": "markdown",
   "metadata": {},
   "source": [
    "### Minimum Remove to Make Valid Parentheses  "
   ]
  },
  {
   "cell_type": "code",
   "execution_count": 19,
   "metadata": {},
   "outputs": [],
   "source": [
    "def minRemoveToMakeValid(s: str) -> str:\n",
    "    # using stack\n",
    "\n",
    "    stack = []\n",
    "    index_to_remove = set()\n",
    "\n",
    "    for i, c in enumerate(s):\n",
    "        if c not in '()':\n",
    "            continue\n",
    "        if c == '(':\n",
    "            stack.append(i)\n",
    "        elif not stack:\n",
    "            index_to_remove.add(i)\n",
    "        else:\n",
    "            stack.pop()\n",
    "\n",
    "    index_to_remove = index_to_remove.union(set(stack))\n",
    "\n",
    "    string_builder = []\n",
    "    for i, c in enumerate(s):\n",
    "        if i not in index_to_remove:\n",
    "            string_builder.append(c)\n",
    "\n",
    "    return ''.join(string_builder)"
   ]
  },
  {
   "cell_type": "code",
   "execution_count": 18,
   "metadata": {},
   "outputs": [],
   "source": [
    "def minRemoveToMakeValid2(s: str) -> str:\n",
    "\n",
    "    open = close = 0\n",
    "    for c in s:\n",
    "        if c == ')':\n",
    "            close += 1\n",
    "\n",
    "    string_builder = []\n",
    "    for c in s:\n",
    "        if c == '(':\n",
    "            if open == close: # no close on right match this open, discard\n",
    "                continue\n",
    "            open += 1 # matched\n",
    "        elif c == ')':\n",
    "            close -= 1\n",
    "            if open == 0: # no open on left match this close, discard\n",
    "                continue\n",
    "            open -= 1 # matched\n",
    "        string_builder.append(c)\n",
    "\n",
    "    return ''.join(string_builder)"
   ]
  },
  {
   "cell_type": "code",
   "execution_count": 20,
   "metadata": {},
   "outputs": [
    {
     "data": {
      "text/plain": [
       "'lee(t(c)o)de'"
      ]
     },
     "execution_count": 20,
     "metadata": {},
     "output_type": "execute_result"
    }
   ],
   "source": [
    "minRemoveToMakeValid(\"lee(t(c)o)de)\")"
   ]
  },
  {
   "cell_type": "code",
   "execution_count": 21,
   "metadata": {},
   "outputs": [
    {
     "data": {
      "text/plain": [
       "'lee(t(c)o)de'"
      ]
     },
     "execution_count": 21,
     "metadata": {},
     "output_type": "execute_result"
    }
   ],
   "source": [
    "minRemoveToMakeValid2(\"lee(t(c)o)de)\")"
   ]
  },
  {
   "cell_type": "markdown",
   "metadata": {},
   "source": [
    "### Valid Parentheses  \n",
    "Given a string s containing just the characters '(', ')', '{', '}', '[' and ']', determine if the input string is valid.  "
   ]
  },
  {
   "cell_type": "code",
   "execution_count": 6,
   "metadata": {},
   "outputs": [],
   "source": [
    "def isValid(s: str) -> bool:\n",
    "\n",
    "    dictionary = {\n",
    "        ')': '(',\n",
    "        ']': '[',\n",
    "        '}': '{'\n",
    "    }\n",
    "\n",
    "    stack = []\n",
    "    for c in s:\n",
    "        if c not in dictionary:\n",
    "            stack.append(c)\n",
    "        else:\n",
    "            if stack and stack[-1] == dictionary[c]:\n",
    "                stack.pop()\n",
    "            else:\n",
    "                return False\n",
    "\n",
    "    return not stack"
   ]
  },
  {
   "cell_type": "code",
   "execution_count": 7,
   "metadata": {},
   "outputs": [
    {
     "data": {
      "text/plain": [
       "True"
      ]
     },
     "execution_count": 7,
     "metadata": {},
     "output_type": "execute_result"
    }
   ],
   "source": [
    "isValid('()[]{}')"
   ]
  },
  {
   "cell_type": "code",
   "execution_count": 8,
   "metadata": {},
   "outputs": [
    {
     "data": {
      "text/plain": [
       "False"
      ]
     },
     "execution_count": 8,
     "metadata": {},
     "output_type": "execute_result"
    }
   ],
   "source": [
    "isValid('(]')"
   ]
  },
  {
   "cell_type": "markdown",
   "metadata": {},
   "source": [
    "### Generate Parentheses  \n",
    "Given n pairs of parentheses, write a function to generate all combinations of well-formed parentheses.  "
   ]
  },
  {
   "cell_type": "code",
   "execution_count": 3,
   "metadata": {},
   "outputs": [],
   "source": [
    "from typing import List\n",
    "\n",
    "def generateParentheses(n: int) -> List[str]:\n",
    "\n",
    "    ans = []\n",
    "\n",
    "    def backtrack(A=[], left=0, right=0):\n",
    "        if len(A) == 2*n:\n",
    "            ans.append(''.join(A))\n",
    "            return\n",
    "        if left < n:\n",
    "            A.append('(')\n",
    "            backtrack(A, left + 1, right)\n",
    "            A.pop()\n",
    "        if left > right:\n",
    "            A.append(')')\n",
    "            backtrack(A, left, right+1)\n",
    "            A.pop()\n",
    "\n",
    "    backtrack()\n",
    "    return ans"
   ]
  },
  {
   "cell_type": "code",
   "execution_count": 4,
   "metadata": {},
   "outputs": [
    {
     "data": {
      "text/plain": [
       "['((()))', '(()())', '(())()', '()(())', '()()()']"
      ]
     },
     "execution_count": 4,
     "metadata": {},
     "output_type": "execute_result"
    }
   ],
   "source": [
    "generateParentheses(3)"
   ]
  },
  {
   "cell_type": "markdown",
   "metadata": {},
   "source": [
    "### Different Ways to Add Parentheses  \n",
    "Given a string expression of numbers and operators, return all possible results from computing all the different possible ways to group numbers and operators. You may return the answer in any order.  \n",
    "expression consists of digits and the operator '+', '-', and '*'.  "
   ]
  },
  {
   "cell_type": "code",
   "execution_count": 9,
   "metadata": {},
   "outputs": [],
   "source": [
    "from typing import List\n",
    "\n",
    "def diffWaysToCompute(expression: str) -> List[int]:\n",
    "    # recursion\n",
    "    # time = Catalan number\n",
    "    return [a + b if c == '+' else a - b if c == '-' else a * b \n",
    "    for i, c in enumerate(expression) if c in '+-*' \n",
    "    for a in diffWaysToCompute(expression[:i]) \n",
    "    for b in diffWaysToCompute(expression[i + 1:])] or [int(expression)]"
   ]
  },
  {
   "cell_type": "code",
   "execution_count": 10,
   "metadata": {},
   "outputs": [
    {
     "data": {
      "text/plain": [
       "[-34, -10, -14, -10, 10]"
      ]
     },
     "execution_count": 10,
     "metadata": {},
     "output_type": "execute_result"
    }
   ],
   "source": [
    "diffWaysToCompute(\"2*3-4*5\")"
   ]
  },
  {
   "cell_type": "code",
   "execution_count": 15,
   "metadata": {},
   "outputs": [],
   "source": [
    "def diffWaysToCompute2(input: str) -> List[int]:\n",
    "    # DFS\n",
    "    m = {}\n",
    "    return dfs(input, m)"
   ]
  },
  {
   "cell_type": "code",
   "execution_count": 16,
   "metadata": {},
   "outputs": [],
   "source": [
    "def dfs(input, m):\n",
    "    if input in m:\n",
    "        return m[input]\n",
    "    if input.isdigit():\n",
    "        m[input] = int(input)\n",
    "        return [int(input)]\n",
    "    \n",
    "    ret = []\n",
    "    for i, c in enumerate(input):\n",
    "        if c in '+-*':\n",
    "            l = diffWaysToCompute2(input[:i])\n",
    "            r = diffWaysToCompute2(input[i + 1:])\n",
    "            ret.extend(eval(str(x) + c + str(y)) for x in l for y in r)\n",
    "    m[input] = ret\n",
    "    return ret"
   ]
  },
  {
   "cell_type": "code",
   "execution_count": 17,
   "metadata": {},
   "outputs": [
    {
     "data": {
      "text/plain": [
       "[-34, -10, -14, -10, 10]"
      ]
     },
     "execution_count": 17,
     "metadata": {},
     "output_type": "execute_result"
    }
   ],
   "source": [
    "diffWaysToCompute2(\"2*3-4*5\")"
   ]
  },
  {
   "cell_type": "code",
   "execution_count": null,
   "metadata": {},
   "outputs": [],
   "source": []
  }
 ],
 "metadata": {
  "interpreter": {
   "hash": "0dec37722eda255af3ca978d4fa44bb649fa9ba4c84e73cb2ab12a24b81d7aa7"
  },
  "kernelspec": {
   "display_name": "Python 3.8.3 64-bit ('base': conda)",
   "name": "python3"
  },
  "language_info": {
   "codemirror_mode": {
    "name": "ipython",
    "version": 3
   },
   "file_extension": ".py",
   "mimetype": "text/x-python",
   "name": "python",
   "nbconvert_exporter": "python",
   "pygments_lexer": "ipython3",
   "version": "3.8.3"
  },
  "orig_nbformat": 4
 },
 "nbformat": 4,
 "nbformat_minor": 2
}
