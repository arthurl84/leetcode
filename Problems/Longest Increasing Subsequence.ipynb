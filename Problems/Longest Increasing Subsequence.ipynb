{
 "cells": [
  {
   "cell_type": "markdown",
   "source": [
    "## Longest Continuous Increasing Subsequence  "
   ],
   "metadata": {}
  },
  {
   "cell_type": "code",
   "execution_count": 1,
   "source": [
    "from typing import List"
   ],
   "outputs": [],
   "metadata": {}
  },
  {
   "cell_type": "code",
   "execution_count": 2,
   "source": [
    "def findLengthOfLCIS(nums: List[int]) -> int:\r\n",
    "    # sliding window\r\n",
    "\r\n",
    "    ans = anchor = 0\r\n",
    "    for i in range(len(nums)):\r\n",
    "        if i and nums[i - 1] >= nums[i]:\r\n",
    "            anchor = i\r\n",
    "        ans = max(ans, i - anchor + 1)\r\n",
    "    return ans"
   ],
   "outputs": [],
   "metadata": {}
  },
  {
   "cell_type": "code",
   "execution_count": 3,
   "source": [
    "nums = [1,3,5,4,7]\r\n",
    "findLengthOfLCIS(nums)"
   ],
   "outputs": [
    {
     "output_type": "execute_result",
     "data": {
      "text/plain": [
       "3"
      ]
     },
     "metadata": {},
     "execution_count": 3
    }
   ],
   "metadata": {}
  },
  {
   "cell_type": "markdown",
   "source": [
    "## Longest Increasing Subsequence  "
   ],
   "metadata": {}
  },
  {
   "cell_type": "code",
   "execution_count": 4,
   "source": [
    "import bisect\r\n",
    "\r\n",
    "def lengthOfLIS(nums: List[int]) -> int:\r\n",
    "    sub = []\r\n",
    "    for num in nums:\r\n",
    "        i = bisect.bisect_left(sub, num)\r\n",
    "        if i == len(sub):\r\n",
    "            sub.append(num)\r\n",
    "        else:\r\n",
    "            sub[i] = num\r\n",
    "    return len(sub)"
   ],
   "outputs": [],
   "metadata": {}
  },
  {
   "cell_type": "code",
   "execution_count": 5,
   "source": [
    "nums = [4,10,4,3,8,9]\r\n",
    "lengthOfLIS(nums)"
   ],
   "outputs": [
    {
     "output_type": "execute_result",
     "data": {
      "text/plain": [
       "3"
      ]
     },
     "metadata": {},
     "execution_count": 5
    }
   ],
   "metadata": {}
  },
  {
   "cell_type": "markdown",
   "source": [
    "## Number of Longest Increasing Subsequennce  "
   ],
   "metadata": {}
  },
  {
   "cell_type": "code",
   "execution_count": 6,
   "source": [
    "def findNumberOfLIS(nums: List[int]) -> int:\r\n",
    "    # length of longest subsequence ending at this index\r\n",
    "    # number of longest subsequence that end at this index\r\n",
    "    dp = [[1, 1] for _ in range(len(nums))]\r\n",
    "    max_for_all = 1\r\n",
    "\r\n",
    "    for i, num in enumerate(nums):\r\n",
    "        max_len, count = 1, 0\r\n",
    "        for j in range(i):\r\n",
    "            if nums[j] < num:\r\n",
    "                if max_len < dp[j][0] + 1:\r\n",
    "                    max_len = dp[j][0] + 1\r\n",
    "                    count = 0\r\n",
    "                if max_len == dp[j][0] + 1:\r\n",
    "                    count += 1\r\n",
    "        dp[i] = [max_len, max(dp[i][1], count)]\r\n",
    "        max_for_all = max(max_for_all, max_len)\r\n",
    "\r\n",
    "    return sum([x[1] for x in dp if x[0] == max_for_all])"
   ],
   "outputs": [],
   "metadata": {}
  },
  {
   "cell_type": "code",
   "execution_count": 7,
   "source": [
    "nums = [1,3,5,4,7]\r\n",
    "findNumberOfLIS(nums)"
   ],
   "outputs": [
    {
     "output_type": "execute_result",
     "data": {
      "text/plain": [
       "2"
      ]
     },
     "metadata": {},
     "execution_count": 7
    }
   ],
   "metadata": {}
  },
  {
   "cell_type": "code",
   "execution_count": null,
   "source": [],
   "outputs": [],
   "metadata": {}
  }
 ],
 "metadata": {
  "orig_nbformat": 4,
  "language_info": {
   "name": "python",
   "version": "3.8.3",
   "mimetype": "text/x-python",
   "codemirror_mode": {
    "name": "ipython",
    "version": 3
   },
   "pygments_lexer": "ipython3",
   "nbconvert_exporter": "python",
   "file_extension": ".py"
  },
  "kernelspec": {
   "name": "python3",
   "display_name": "Python 3.8.3 64-bit ('base': conda)"
  },
  "interpreter": {
   "hash": "0dec37722eda255af3ca978d4fa44bb649fa9ba4c84e73cb2ab12a24b81d7aa7"
  }
 },
 "nbformat": 4,
 "nbformat_minor": 2
}