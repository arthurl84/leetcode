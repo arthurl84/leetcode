{
 "metadata": {
  "language_info": {
   "codemirror_mode": {
    "name": "ipython",
    "version": 3
   },
   "file_extension": ".py",
   "mimetype": "text/x-python",
   "name": "python",
   "nbconvert_exporter": "python",
   "pygments_lexer": "ipython3",
   "version": "3.8.3"
  },
  "orig_nbformat": 4,
  "kernelspec": {
   "name": "python3",
   "display_name": "Python 3.8.3 64-bit ('base': conda)"
  },
  "interpreter": {
   "hash": "0dec37722eda255af3ca978d4fa44bb649fa9ba4c84e73cb2ab12a24b81d7aa7"
  }
 },
 "nbformat": 4,
 "nbformat_minor": 2,
 "cells": [
  {
   "cell_type": "markdown",
   "source": [
    "## The Maze  \n",
    "There is a ball in a maze with empty spaces (represented as 0) and walls (represented as 1). The ball can go through the empty spaces by rolling up, down, left or right, but it won't stop rolling until hitting a wall. When the ball stops, it could choose the next direction.\n",
    "\n",
    "Given the m x n maze, the ball's start position and the destination, where start = [startrow, startcol] and destination = [destinationrow, destinationcol], return true if the ball can stop at the destination, otherwise return false.\n",
    "\n",
    "You may assume that the borders of the maze are all walls (see examples)."
   ],
   "metadata": {}
  },
  {
   "cell_type": "code",
   "execution_count": 9,
   "source": [
    "class Solution:\r\n",
    "    def hasPath(self, maze, start, destination):\r\n",
    "\r\n",
    "        visited = [[False] * len(maze[0]) for _ in range(len(maze))]\r\n",
    "        return self.dfs(maze, start, destination, visited)\r\n",
    "    \r\n",
    "    def dfs(self, maze, start, destination, visited):\r\n",
    "        \r\n",
    "        if visited[start[0]][start[1]]:\r\n",
    "            return False\r\n",
    "        \r\n",
    "        if start[0] == destination[0] and start[1] == destination[1]:\r\n",
    "            return True\r\n",
    "\r\n",
    "        visited[start[0]][start[1]] = True\r\n",
    "        \r\n",
    "        r = start[1] + 1\r\n",
    "        l = start[1] - 1\r\n",
    "        u = start[0] - 1\r\n",
    "        d = start[0] + 1\r\n",
    "\r\n",
    "        while r < len(maze[0]) and maze[start[0]][r] == 0: # right\r\n",
    "            r += 1\r\n",
    "        if self.dfs(maze, [start[0], r - 1], destination, visited):\r\n",
    "            return True\r\n",
    "\r\n",
    "        while l >= 0 and maze[start[0]][l] == 0: # left\r\n",
    "            l -= 1\r\n",
    "        if self.dfs(maze, [start[0], l + 1], destination, visited):\r\n",
    "            return True\r\n",
    "\r\n",
    "        while u >= 0 and maze[u][start[1]] == 0: # up\r\n",
    "            u -= 1\r\n",
    "        if self.dfs(maze, [u + 1, start[1]], destination, visited):\r\n",
    "            return True\r\n",
    "\r\n",
    "        while d < len(maze) and maze[d][start[1]] == 0: # down\r\n",
    "            d += 1\r\n",
    "        if self.dfs(maze, [d - 1, start[1]], destination, visited):\r\n",
    "            return True\r\n",
    "        \r\n",
    "        return False"
   ],
   "outputs": [],
   "metadata": {}
  },
  {
   "cell_type": "code",
   "execution_count": 10,
   "source": [
    "sol = Solution()"
   ],
   "outputs": [],
   "metadata": {}
  },
  {
   "cell_type": "code",
   "execution_count": 11,
   "source": [
    "sol.hasPath([[0,0,1,0,0],[0,0,0,0,0],[0,0,0,1,0],[1,1,0,1,1],[0,0,0,0,0]], [0,4], [4,4])"
   ],
   "outputs": [
    {
     "output_type": "execute_result",
     "data": {
      "text/plain": [
       "True"
      ]
     },
     "metadata": {},
     "execution_count": 11
    }
   ],
   "metadata": {}
  }
 ]
}