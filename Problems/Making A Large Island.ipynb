{
 "cells": [
  {
   "cell_type": "markdown",
   "source": [
    "## Making A Large Island  "
   ],
   "metadata": {}
  },
  {
   "cell_type": "code",
   "execution_count": 14,
   "source": [
    "from typing import List\r\n",
    "\r\n",
    "def largestIsland(grid: List[List[int]]) -> int:\r\n",
    "\r\n",
    "    N= len(grid)\r\n",
    "    dirs = [(1, 0), (0, 1), (-1, 0), (0, -1)]\r\n",
    "\r\n",
    "    def neighbors(r, c):\r\n",
    "        for dr, dc in dirs:\r\n",
    "            nr, nc = r + dr, c + dc\r\n",
    "            if 0 <= nr < N and 0 <= nc < N:\r\n",
    "                yield nr, nc\r\n",
    "\r\n",
    "    def dfs(r, c, idx):\r\n",
    "        ans = 1\r\n",
    "        grid[r][c] = idx\r\n",
    "        for nr, nc in neighbors(r, c):\r\n",
    "            if grid[nr][nc] == 1:\r\n",
    "                ans += dfs(nr, nc, idx)\r\n",
    "        return ans\r\n",
    "\r\n",
    "    area = {}\r\n",
    "    \r\n",
    "    idx = 2\r\n",
    "    for r in range(N):\r\n",
    "        for c in range(N):\r\n",
    "            if grid[r][c] == 1:\r\n",
    "                area[idx] = dfs(r, c, idx)\r\n",
    "                idx += 1\r\n",
    "\r\n",
    "    ans = max(area.values() or [0])\r\n",
    "    for r in range(N):\r\n",
    "        for c in range(N):\r\n",
    "            if grid[r][c] == 0:\r\n",
    "                seen = {grid[nr][nc] for nr, nc in neighbors(r, c) if grid[nr][nc] > 1}\r\n",
    "                ans = max(ans, sum(area[i] for i in seen) + 1)\r\n",
    "\r\n",
    "    return ans"
   ],
   "outputs": [],
   "metadata": {}
  },
  {
   "cell_type": "code",
   "execution_count": 15,
   "source": [
    "grid = [[1,0],[0,1]]"
   ],
   "outputs": [],
   "metadata": {}
  },
  {
   "cell_type": "code",
   "execution_count": 16,
   "source": [
    "largestIsland(grid)"
   ],
   "outputs": [
    {
     "output_type": "execute_result",
     "data": {
      "text/plain": [
       "3"
      ]
     },
     "metadata": {},
     "execution_count": 16
    }
   ],
   "metadata": {}
  },
  {
   "cell_type": "code",
   "execution_count": null,
   "source": [],
   "outputs": [],
   "metadata": {}
  }
 ],
 "metadata": {
  "orig_nbformat": 4,
  "language_info": {
   "name": "python",
   "version": "3.8.3",
   "mimetype": "text/x-python",
   "codemirror_mode": {
    "name": "ipython",
    "version": 3
   },
   "pygments_lexer": "ipython3",
   "nbconvert_exporter": "python",
   "file_extension": ".py"
  },
  "kernelspec": {
   "name": "python3",
   "display_name": "Python 3.8.3 64-bit ('base': conda)"
  },
  "interpreter": {
   "hash": "0dec37722eda255af3ca978d4fa44bb649fa9ba4c84e73cb2ab12a24b81d7aa7"
  }
 },
 "nbformat": 4,
 "nbformat_minor": 2
}