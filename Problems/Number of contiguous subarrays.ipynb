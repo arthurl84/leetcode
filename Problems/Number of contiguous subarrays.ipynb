{
 "cells": [
  {
   "cell_type": "markdown",
   "metadata": {},
   "source": [
    "### Number of contiguous subarrays with at least k duplicate pairs  \n",
    "\n",
    "You are given an array of integers numbers and a positive integer k . your task is to count the number of contiguous subarrays having at least k duplicate pairs, the indices of which are pairwise distinct. more formally , your task is to count the number of contiguous subarrays numbers[i........j] for which there exist 2* k pairwise distinct indices i <= i1, j1,........"
   ]
  },
  {
   "cell_type": "markdown",
   "metadata": {},
   "source": []
  },
  {
   "cell_type": "code",
   "execution_count": null,
   "metadata": {},
   "outputs": [],
   "source": []
  }
 ],
 "metadata": {
  "interpreter": {
   "hash": "0dec37722eda255af3ca978d4fa44bb649fa9ba4c84e73cb2ab12a24b81d7aa7"
  },
  "kernelspec": {
   "display_name": "Python 3.8.3 64-bit ('base': conda)",
   "language": "python",
   "name": "python3"
  },
  "language_info": {
   "name": "python",
   "version": "3.8.3"
  },
  "orig_nbformat": 4
 },
 "nbformat": 4,
 "nbformat_minor": 2
}
