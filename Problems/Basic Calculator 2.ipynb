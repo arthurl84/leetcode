{
 "cells": [
  {
   "cell_type": "markdown",
   "metadata": {},
   "source": [
    "## Basic Calculator II  "
   ]
  },
  {
   "cell_type": "code",
   "execution_count": 1,
   "metadata": {},
   "outputs": [],
   "source": [
    "def calculate(s: str) -> int:\n",
    "    operant = 0\n",
    "    operation = '+'\n",
    "\n",
    "    stack = []\n",
    "    for i, ch in enumerate(s):\n",
    "        if ch.isdigit():\n",
    "            operant = operant * 10 + int(ch)\n",
    "        if not ch.isdigit() and not ch.isspace() or i == len(s) - 1:\n",
    "            if operation == '-':\n",
    "                stack.append(-operant)\n",
    "            elif operation == '+':\n",
    "                stack.append(operant)\n",
    "            elif operation == '*':\n",
    "                stack.append(stack.pop() * operant)\n",
    "            elif operant == '/':\n",
    "                stack.append(int(stack.pop() / operant))\n",
    "            operation = ch\n",
    "            operant = 0\n",
    "    \n",
    "    res = 0\n",
    "    while stack:\n",
    "        res += stack.pop()\n",
    "    return res"
   ]
  },
  {
   "cell_type": "code",
   "execution_count": 2,
   "metadata": {},
   "outputs": [
    {
     "data": {
      "text/plain": [
       "7"
      ]
     },
     "execution_count": 2,
     "metadata": {},
     "output_type": "execute_result"
    }
   ],
   "source": [
    "calculate(\"3+2*2\")"
   ]
  },
  {
   "cell_type": "code",
   "execution_count": 3,
   "metadata": {},
   "outputs": [],
   "source": [
    "def calculate2(s: str) -> int:\n",
    "    if not s:\n",
    "        return 0\n",
    "\n",
    "    curr_num = last_num = res = 0\n",
    "    operation = '+'\n",
    "\n",
    "    for i, ch in enumerate(s):\n",
    "        if ch.isdigit():\n",
    "            curr_num = curr_num * 10 + int(ch)\n",
    "        if not ch.isdigit() and not ch.isspace() or i == len(s) - 1:\n",
    "            if operation in '+-':\n",
    "                res += last_num\n",
    "                last_num = curr_num if operation == '+' else -curr_num\n",
    "            elif operation == '*':\n",
    "                last_num *= curr_num\n",
    "            elif operation == '/':\n",
    "                last_num = int(last_num / curr_num)\n",
    "            operation = ch\n",
    "            curr_num = 0\n",
    "\n",
    "    res += last_num\n",
    "    return res"
   ]
  },
  {
   "cell_type": "code",
   "execution_count": 4,
   "metadata": {},
   "outputs": [
    {
     "data": {
      "text/plain": [
       "7"
      ]
     },
     "execution_count": 4,
     "metadata": {},
     "output_type": "execute_result"
    }
   ],
   "source": [
    "calculate2(\"3+2*2\")"
   ]
  },
  {
   "cell_type": "code",
   "execution_count": null,
   "metadata": {},
   "outputs": [],
   "source": []
  }
 ],
 "metadata": {
  "interpreter": {
   "hash": "0dec37722eda255af3ca978d4fa44bb649fa9ba4c84e73cb2ab12a24b81d7aa7"
  },
  "kernelspec": {
   "display_name": "Python 3.8.3 64-bit ('base': conda)",
   "name": "python3"
  },
  "language_info": {
   "codemirror_mode": {
    "name": "ipython",
    "version": 3
   },
   "file_extension": ".py",
   "mimetype": "text/x-python",
   "name": "python",
   "nbconvert_exporter": "python",
   "pygments_lexer": "ipython3",
   "version": "3.8.3"
  },
  "orig_nbformat": 4
 },
 "nbformat": 4,
 "nbformat_minor": 2
}
