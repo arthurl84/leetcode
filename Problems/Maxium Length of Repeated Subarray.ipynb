{
 "metadata": {
  "language_info": {
   "codemirror_mode": {
    "name": "ipython",
    "version": 3
   },
   "file_extension": ".py",
   "mimetype": "text/x-python",
   "name": "python",
   "nbconvert_exporter": "python",
   "pygments_lexer": "ipython3",
   "version": "3.8.3"
  },
  "orig_nbformat": 4,
  "kernelspec": {
   "name": "python3",
   "display_name": "Python 3.8.3 64-bit ('base': conda)"
  },
  "interpreter": {
   "hash": "0dec37722eda255af3ca978d4fa44bb649fa9ba4c84e73cb2ab12a24b81d7aa7"
  }
 },
 "nbformat": 4,
 "nbformat_minor": 2,
 "cells": [
  {
   "source": [
    "## Maximun Length of Repeated Subarray  \n",
    "\n",
    "Given two integer arrays nums1 and nums2, return the maximun length of a subarray that appears in both arrays  \n"
   ],
   "cell_type": "markdown",
   "metadata": {}
  },
  {
   "cell_type": "code",
   "execution_count": 1,
   "metadata": {},
   "outputs": [],
   "source": [
    "class Solution:\n",
    "    def findLength(self, nums1, nums2):\n",
    "        dp = [[0] * (len(nums2) + 1) for _ in range(len(nums1) + 1)]\n",
    "        for i in range(len(nums1) - 1, -1, -1):\n",
    "            for j in range(len(nums2) - 1, -1, -1):\n",
    "                if nums1[i] == nums2[j]:\n",
    "                    dp[i][j] = dp[i + 1][j + 1] + 1\n",
    "        print(dp)\n",
    "        return max(max(row) for row in dp)\n",
    "\n",
    "    def longestCommonSubsequence(self, text1, text2):\n",
    "        dp = [[0] * (len(text2) + 1) for _ in range(len(text1) + 1)]\n",
    "        for i in range(len(text1) - 1, -1, -1):\n",
    "            for j in range(len(text2) - 1, -1, -1):\n",
    "                if text1[i] == text2[j]:\n",
    "                    dp[i][j] = dp[i + 1][j + 1] + 1\n",
    "                else:\n",
    "                    dp[i][j] = max(dp[i + 1][j], dp[i][j + 1])\n",
    "        print(dp)\n",
    "        return max(max(row) for row in dp)"
   ]
  },
  {
   "cell_type": "code",
   "execution_count": 2,
   "metadata": {},
   "outputs": [],
   "source": [
    "sol = Solution()"
   ]
  },
  {
   "cell_type": "code",
   "execution_count": 3,
   "metadata": {},
   "outputs": [
    {
     "output_type": "stream",
     "name": "stdout",
     "text": [
      "[[0, 0, 1, 0, 0, 0], [0, 1, 0, 0, 0, 0], [3, 0, 0, 0, 0, 0], [0, 2, 0, 0, 0, 0], [0, 0, 1, 0, 0, 0], [0, 0, 0, 0, 0, 0]]\n"
     ]
    },
    {
     "output_type": "execute_result",
     "data": {
      "text/plain": [
       "3"
      ]
     },
     "metadata": {},
     "execution_count": 3
    }
   ],
   "source": [
    "sol.findLength([1,2,3,2,1], [3,2,1,4,7])"
   ]
  },
  {
   "cell_type": "code",
   "execution_count": 4,
   "metadata": {},
   "outputs": [
    {
     "output_type": "stream",
     "name": "stdout",
     "text": [
      "[[2, 2, 2, 2, 2, 2, 2, 1, 1, 1, 0, 0], [2, 2, 2, 2, 2, 2, 2, 1, 1, 1, 0, 0], [2, 2, 2, 2, 2, 2, 2, 1, 1, 1, 0, 0], [2, 2, 2, 2, 2, 2, 2, 1, 1, 1, 0, 0], [2, 2, 2, 2, 2, 2, 2, 1, 0, 0, 0, 0], [1, 1, 1, 1, 1, 1, 1, 1, 0, 0, 0, 0], [1, 0, 0, 0, 0, 0, 0, 0, 0, 0, 0, 0], [0, 0, 0, 0, 0, 0, 0, 0, 0, 0, 0, 0], [0, 0, 0, 0, 0, 0, 0, 0, 0, 0, 0, 0], [0, 0, 0, 0, 0, 0, 0, 0, 0, 0, 0, 0], [0, 0, 0, 0, 0, 0, 0, 0, 0, 0, 0, 0]]\n"
     ]
    },
    {
     "output_type": "execute_result",
     "data": {
      "text/plain": [
       "2"
      ]
     },
     "metadata": {},
     "execution_count": 4
    }
   ],
   "source": [
    "sol.longestCommonSubsequence(\"oxcpqrsvwf\", \"shmtulqrypy\")"
   ]
  },
  {
   "cell_type": "code",
   "execution_count": null,
   "metadata": {},
   "outputs": [],
   "source": []
  }
 ]
}