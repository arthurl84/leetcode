{
 "cells": [
  {
   "cell_type": "markdown",
   "metadata": {},
   "source": [
    "### Labyrinth with Obstacles and Teleports  "
   ]
  },
  {
   "cell_type": "code",
   "execution_count": 3,
   "metadata": {},
   "outputs": [],
   "source": [
    "from typing import List\n",
    "\n",
    "def labyrinthEscape(n: int, m: int, obstacles: List[List[int]], teleports: List[List[int]]) -> int:\n",
    "    \n",
    "    obstacle_cells = set([(x, y) for x, y in obstacles])\n",
    "    teleport_cells = {}\n",
    "    for teleport in teleports:\n",
    "        start = (teleport[0], teleport[1])\n",
    "        end = (teleport[2], teleport[3])\n",
    "        teleport_cells[start] = end\n",
    "\n",
    "    visited = set()\n",
    "    curr_pos = (0, 0)\n",
    "    count = 1\n",
    "\n",
    "    while True:\n",
    "        curr_r, curr_c = curr_pos[0], curr_pos[1]\n",
    "        \n",
    "        if curr_pos == (n - 1, m - 1):\n",
    "            return count\n",
    "        if curr_pos in obstacle_cells:\n",
    "            return -1\n",
    "        if curr_pos in visited:\n",
    "            return -1\n",
    "        if curr_c >= m:\n",
    "            return -1\n",
    "\n",
    "        visited.add(curr_pos)\n",
    "\n",
    "        if curr_pos not in teleport_cells:\n",
    "            curr_pos = (curr_r, curr_c + 1)\n",
    "        else:\n",
    "            curr_pos = teleport_cells[curr_pos]"
   ]
  },
  {
   "cell_type": "code",
   "execution_count": null,
   "metadata": {},
   "outputs": [],
   "source": []
  }
 ],
 "metadata": {
  "interpreter": {
   "hash": "0dec37722eda255af3ca978d4fa44bb649fa9ba4c84e73cb2ab12a24b81d7aa7"
  },
  "kernelspec": {
   "display_name": "Python 3.8.3 64-bit ('base': conda)",
   "language": "python",
   "name": "python3"
  },
  "language_info": {
   "codemirror_mode": {
    "name": "ipython",
    "version": 3
   },
   "file_extension": ".py",
   "mimetype": "text/x-python",
   "name": "python",
   "nbconvert_exporter": "python",
   "pygments_lexer": "ipython3",
   "version": "3.8.3"
  },
  "orig_nbformat": 4
 },
 "nbformat": 4,
 "nbformat_minor": 2
}
