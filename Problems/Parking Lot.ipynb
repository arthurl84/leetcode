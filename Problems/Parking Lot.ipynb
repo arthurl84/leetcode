{
 "cells": [
  {
   "cell_type": "code",
   "execution_count": 1,
   "metadata": {},
   "outputs": [],
   "source": [
    "import enum\n",
    "\n",
    "class Size(enum.Enum):\n",
    "    s = 1\n",
    "    m = 2\n",
    "    l = 3\n",
    "    xl = 4\n",
    "\n",
    "class Color(enum.Enum):\n",
    "    red = 1\n",
    "    green = 2\n",
    "    blue = 3"
   ]
  },
  {
   "cell_type": "code",
   "execution_count": 2,
   "metadata": {},
   "outputs": [],
   "source": [
    "from abc import ABC\n",
    "\n",
    "class Vehicle(ABC):\n",
    "    def __init__(self, license_plate: str, brand: str, color: Color) -> None:\n",
    "        self.license_plate = license_plate\n",
    "        self.brand = brand\n",
    "        self.color = color"
   ]
  },
  {
   "cell_type": "code",
   "execution_count": 3,
   "metadata": {},
   "outputs": [],
   "source": [
    "class Motorcycle(Vehicle):\n",
    "    def __init__(self, license_plate: str, brand: str, color: Color) -> None:\n",
    "        super().__init__(license_plate, brand, color)\n",
    "        self.size = Size.s"
   ]
  },
  {
   "cell_type": "code",
   "execution_count": 4,
   "metadata": {},
   "outputs": [],
   "source": [
    "class Car(Vehicle):\n",
    "    def __init__(self, license_plate: str, brand: str, color: Color) -> None:\n",
    "        super().__init__(license_plate, brand, color)\n",
    "        self.size = Size.m"
   ]
  },
  {
   "cell_type": "code",
   "execution_count": 5,
   "metadata": {},
   "outputs": [],
   "source": [
    "class Truck(Vehicle):\n",
    "    def __init__(self, license_plate: str, brand: str, color: Color) -> None:\n",
    "        super().__init__(license_plate, brand, color)\n",
    "        self.size = Size.l"
   ]
  },
  {
   "cell_type": "code",
   "execution_count": 6,
   "metadata": {},
   "outputs": [],
   "source": [
    "class Bus(Vehicle):\n",
    "    def __init__(self, license_plate: str, brand: str, color: str) -> None:\n",
    "        super().__init__(license_plate, brand, color)\n",
    "        self.size = Size.xl"
   ]
  },
  {
   "cell_type": "code",
   "execution_count": 7,
   "metadata": {},
   "outputs": [],
   "source": [
    "class Spot:\n",
    "    def __init__(self, id: int, size: Size) -> None:\n",
    "        self.id = id\n",
    "        self.size = size"
   ]
  },
  {
   "cell_type": "code",
   "execution_count": 10,
   "metadata": {},
   "outputs": [],
   "source": [
    "class ParkingLot:\n",
    "    def __init__(self, zipcode) -> None:\n",
    "        self.zipcode = zipcode\n",
    "        self.stack_s = [] # spot\n",
    "        self.stack_m = []\n",
    "        self.stack_l = []\n",
    "        self.stack_xl = []\n",
    "        self.dictionary = {} # key = vehicle, value = spot\n",
    "\n",
    "    def place_vehicle(self, vehicle: Vehicle) -> Spot:\n",
    "        if vehicle.size == Size.s and self.stack_s:\n",
    "            return self.stack_s.pop()\n",
    "        elif vehicle.size == Size.m and self.stack_m:\n",
    "            return self.stack_m.pop()\n",
    "        elif vehicle.size == Size.l and self.stack_l:\n",
    "            return self.stack_l.pop()\n",
    "        elif vehicle.size == Size.xl and self.stack_xl:\n",
    "            return self.stack_xl.pop()\n",
    "\n",
    "    def remove_vehicle(self, vehicle: Vehicle) -> Spot:\n",
    "        spot = self.dictionary[vehicle.id]\n",
    "        self.stack_s.append(spot)\n",
    "        return spot"
   ]
  },
  {
   "cell_type": "code",
   "execution_count": null,
   "metadata": {},
   "outputs": [],
   "source": []
  }
 ],
 "metadata": {
  "interpreter": {
   "hash": "0dec37722eda255af3ca978d4fa44bb649fa9ba4c84e73cb2ab12a24b81d7aa7"
  },
  "kernelspec": {
   "display_name": "Python 3.8.3 64-bit ('base': conda)",
   "name": "python3"
  },
  "language_info": {
   "codemirror_mode": {
    "name": "ipython",
    "version": 3
   },
   "file_extension": ".py",
   "mimetype": "text/x-python",
   "name": "python",
   "nbconvert_exporter": "python",
   "pygments_lexer": "ipython3",
   "version": "3.8.3"
  },
  "orig_nbformat": 4
 },
 "nbformat": 4,
 "nbformat_minor": 2
}
