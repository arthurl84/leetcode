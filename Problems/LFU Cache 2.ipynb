{
 "metadata": {
  "language_info": {
   "codemirror_mode": {
    "name": "ipython",
    "version": 3
   },
   "file_extension": ".py",
   "mimetype": "text/x-python",
   "name": "python",
   "nbconvert_exporter": "python",
   "pygments_lexer": "ipython3",
   "version": "3.8.3"
  },
  "orig_nbformat": 4,
  "kernelspec": {
   "name": "python3",
   "display_name": "Python 3.8.3 64-bit ('base': conda)"
  },
  "interpreter": {
   "hash": "0dec37722eda255af3ca978d4fa44bb649fa9ba4c84e73cb2ab12a24b81d7aa7"
  }
 },
 "nbformat": 4,
 "nbformat_minor": 2,
 "cells": [
  {
   "source": [
    "## LFU Cache  \n",
    "Design and implement a data structure for a Least Frequently Used (LFU) cache.  \n",
    "\n",
    "Implement the LFUCache class:  \n",
    "\n",
    "* LFUCache(int capacity) Initializes the object with the capacity of the data structure.  \n",
    "* int get(int key) Gets the value of the key if the key exists in the cache. Otherwise, returns -1.  \n",
    "* void put(int key, int value) Update the value of the key if present, or inserts the key if not already present. When the cache reaches its capacity, it should invalidate and remove the least frequently used key before inserting a new item. For this problem, when there is a tie (i.e., two or more keys with the same frequency), the least recently used key would be invalidated.  \n",
    "\n",
    "To determine the least frequently used key, a use counter is maintained for each key in the cache. The key with the smallest use counter is the least frequently used key.  \n",
    "\n",
    "When a key is first inserted into the cache, its use counter is set to 1 (due to the put operation). The use counter for a key in the cache is incremented either a get or put operation is called on it.  \n",
    "\n",
    "The functions get and put must each run in O(1) average time complexity.  "
   ],
   "cell_type": "markdown",
   "metadata": {}
  },
  {
   "cell_type": "code",
   "execution_count": 1,
   "metadata": {},
   "outputs": [],
   "source": [
    "from collections import defaultdict\n",
    "from collections import OrderedDict"
   ]
  },
  {
   "cell_type": "code",
   "execution_count": 3,
   "metadata": {},
   "outputs": [],
   "source": [
    "class Node:\n",
    "    def __init__(self, key, value, count):\n",
    "        self.key = key\n",
    "        self.value = value\n",
    "        self.count = count"
   ]
  },
  {
   "cell_type": "code",
   "execution_count": 4,
   "metadata": {},
   "outputs": [],
   "source": [
    "class LFUCache:\n",
    "    def __init__(self, capacity):\n",
    "        self.capacity = capacity\n",
    "        self.key2node = {}\n",
    "        self.count2node = defaultdict(OrderedDict)\n",
    "        self.minCount = None\n",
    "\n",
    "    def get(self, key):\n",
    "        if key not in self.key2node:\n",
    "            return -1\n",
    "        \n",
    "        node = self.key2node[key]\n",
    "        del self.count2node[node.count][key]\n",
    "\n",
    "        if not self.count2node[node.count]:\n",
    "            del self.count2node[node.count]\n",
    "\n",
    "        node.count += 1\n",
    "        self.count2node[node.count][key] = node\n",
    "\n",
    "        if not self.count2node[self.minCount]:\n",
    "            self.minCount += 1\n",
    "\n",
    "        return node.value\n",
    "\n",
    "    def put(self, key, value):\n",
    "        if not self.capacity:\n",
    "            return\n",
    "        \n",
    "        if key in self.key2node:\n",
    "            self.key2node[key].value = value\n",
    "            self.get(key)\n",
    "            return\n",
    "\n",
    "        if len(self.key2node) == self.capacity:\n",
    "            k, n = self.count2node[self.minCount].popitem(last=False)\n",
    "            del self.key2node[k]\n",
    "\n",
    "        self.count2node[1][key] = self.key2node[key] = Node(key, value, 1)\n",
    "        self.minCount = 1\n",
    "\n",
    "        return"
   ]
  },
  {
   "cell_type": "code",
   "execution_count": null,
   "metadata": {},
   "outputs": [],
   "source": []
  }
 ]
}