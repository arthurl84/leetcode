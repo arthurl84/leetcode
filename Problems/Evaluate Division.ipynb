{
 "cells": [
  {
   "cell_type": "markdown",
   "metadata": {},
   "source": [
    "### Evaluate Division  "
   ]
  },
  {
   "cell_type": "code",
   "execution_count": 5,
   "metadata": {},
   "outputs": [],
   "source": [
    "from typing import List\n",
    "from collections import defaultdict\n",
    "\n",
    "def calcEquation(equations: List[List[str]], values: List[float], queries: List[List[str]]) -> List[float]:\n",
    "    \n",
    "    graph = defaultdict(defaultdict)\n",
    "    for (dividend, divisor), value in zip(equations, values):\n",
    "        graph[dividend][divisor] = value\n",
    "        graph[divisor][dividend] = 1 / value\n",
    "\n",
    "    def backtrack(curr_node: str, target_node: str, acc_product: float, visited: set):\n",
    "        visited.add(curr_node)\n",
    "        ret = -1.0\n",
    "        neighbors = graph[curr_node]\n",
    "        if target_node in neighbors:\n",
    "            ret = acc_product * neighbors[target_node]\n",
    "        else:\n",
    "            for neighbor, value in neighbors.items():\n",
    "                if neighbor in visited:\n",
    "                    continue\n",
    "                ret = backtrack(neighbor, target_node, acc_product * value, visited)\n",
    "                if ret != -1.0:\n",
    "                    break\n",
    "        visited.remove(curr_node)\n",
    "        return ret\n",
    "\n",
    "    results = []\n",
    "    for dividend, divisor in queries:\n",
    "        if dividend not in graph or divisor not in graph:\n",
    "            ret = -1.0\n",
    "        elif dividend == divisor:\n",
    "            ret = 1.0\n",
    "        else:\n",
    "            visited = set()\n",
    "            ret = backtrack(dividend, divisor, 1, visited)\n",
    "        results.append(ret)\n",
    "\n",
    "    return results"
   ]
  },
  {
   "cell_type": "code",
   "execution_count": 7,
   "metadata": {},
   "outputs": [
    {
     "data": {
      "text/plain": [
       "[6.0, 0.5, -1.0, 1.0, -1.0]"
      ]
     },
     "execution_count": 7,
     "metadata": {},
     "output_type": "execute_result"
    }
   ],
   "source": [
    "calcEquation([[\"a\",\"b\"],[\"b\",\"c\"]], [2.0,3.0], [[\"a\",\"c\"],[\"b\",\"a\"],[\"a\",\"e\"],[\"a\",\"a\"],[\"x\",\"x\"]])"
   ]
  },
  {
   "cell_type": "code",
   "execution_count": null,
   "metadata": {},
   "outputs": [],
   "source": []
  }
 ],
 "metadata": {
  "interpreter": {
   "hash": "0dec37722eda255af3ca978d4fa44bb649fa9ba4c84e73cb2ab12a24b81d7aa7"
  },
  "kernelspec": {
   "display_name": "Python 3.8.3 64-bit ('base': conda)",
   "language": "python",
   "name": "python3"
  },
  "language_info": {
   "codemirror_mode": {
    "name": "ipython",
    "version": 3
   },
   "file_extension": ".py",
   "mimetype": "text/x-python",
   "name": "python",
   "nbconvert_exporter": "python",
   "pygments_lexer": "ipython3",
   "version": "3.8.3"
  },
  "orig_nbformat": 4
 },
 "nbformat": 4,
 "nbformat_minor": 2
}
