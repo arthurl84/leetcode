{
 "metadata": {
  "language_info": {
   "codemirror_mode": {
    "name": "ipython",
    "version": 3
   },
   "file_extension": ".py",
   "mimetype": "text/x-python",
   "name": "python",
   "nbconvert_exporter": "python",
   "pygments_lexer": "ipython3",
   "version": "3.8.3"
  },
  "orig_nbformat": 4,
  "kernelspec": {
   "name": "python3",
   "display_name": "Python 3.8.3 64-bit ('base': conda)"
  },
  "interpreter": {
   "hash": "0dec37722eda255af3ca978d4fa44bb649fa9ba4c84e73cb2ab12a24b81d7aa7"
  }
 },
 "nbformat": 4,
 "nbformat_minor": 2,
 "cells": [
  {
   "source": [
    "## Text Justification  "
   ],
   "cell_type": "markdown",
   "metadata": {}
  },
  {
   "cell_type": "code",
   "execution_count": 2,
   "metadata": {},
   "outputs": [],
   "source": [
    "class Solution:\n",
    "    def fullJustify(self, words, maxWidth):\n",
    "        ans = []\n",
    "        accumulation = pos = prev_pos = 0\n",
    "        for word in words:\n",
    "            accumulation += len(word) + 1\n",
    "            if accumulation - 1 > maxWidth:\n",
    "                ans.append(self.implode(words[prev_pos:pos], maxWidth, False))\n",
    "                accumulation = len(word) + 1\n",
    "                prev_pos = pos\n",
    "            if pos == len(words) - 1:\n",
    "                ans.append(self.implode(words[prev_pos:len(words)], maxWidth, True))\n",
    "            pos += 1\n",
    "        return ans\n",
    "\n",
    "    @staticmethod\n",
    "    def implode(words, maxWidth, is_last):\n",
    "        space_len = maxWidth - sum([len(word) for word in words]) - (len(words) - 1)\n",
    "        if len(words) == 1:\n",
    "            return words[0] + ' ' * space_len\n",
    "        if is_last:\n",
    "            return ' '.join(words) + ' ' * space_len\n",
    "        quotient = space_len // (len(words) - 1)\n",
    "        remainder = space_len %  (len(words) - 1)\n",
    "        for i in range(remainder):\n",
    "            words[i] += ' '\n",
    "        for i in range(len(words) - 1):\n",
    "            words[i] += ' ' * quotient\n",
    "        return ' '.join(words)"
   ]
  },
  {
   "cell_type": "code",
   "execution_count": 3,
   "metadata": {},
   "outputs": [],
   "source": [
    "sol = Solution()"
   ]
  },
  {
   "cell_type": "code",
   "execution_count": 4,
   "metadata": {},
   "outputs": [
    {
     "output_type": "execute_result",
     "data": {
      "text/plain": [
       "['This    is    an', 'example  of text', 'justification.  ']"
      ]
     },
     "metadata": {},
     "execution_count": 4
    }
   ],
   "source": [
    "sol.fullJustify([\"This\", \"is\", \"an\", \"example\", \"of\", \"text\", \"justification.\"], 16)"
   ]
  },
  {
   "cell_type": "code",
   "execution_count": null,
   "metadata": {},
   "outputs": [],
   "source": []
  }
 ]
}