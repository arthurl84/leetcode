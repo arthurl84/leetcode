{
 "cells": [
  {
   "cell_type": "markdown",
   "metadata": {},
   "source": [
    "## Design Search Autocomplete System  "
   ]
  },
  {
   "cell_type": "code",
   "execution_count": 2,
   "metadata": {},
   "outputs": [],
   "source": [
    "from typing import List\n",
    "from collections import defaultdict\n",
    "\n",
    "class AutocompleteSystem:\n",
    "\n",
    "    def __init__(self, sentences: List[str], times: List[int]) -> None:\n",
    "        self.partial = []\n",
    "        self.matches = []\n",
    "\n",
    "        self.counts = defaultdict(int)\n",
    "        for sentence, time in zip(sentences, times):\n",
    "            self.counts[sentence] = time\n",
    "\n",
    "    def input(self, c: str) -> List[str]:\n",
    "        if c == '#':\n",
    "            sentence = ''.join(self.partial)\n",
    "            self.counts[sentence] += 1\n",
    "            self.partial = []\n",
    "            self.matches = []\n",
    "            return []\n",
    "\n",
    "        if not self.partial:\n",
    "            self.matches = [(-count, sentence) for sentence, count in self.counts.items() if sentence[0] == c]\n",
    "            self.matches.sort()\n",
    "            self.matches = [sentence for _, sentence in self.matches]\n",
    "        else:\n",
    "            i = len(self.partial)\n",
    "            self.matches = [sentence for sentence in self.matches if len(sentence) > i and sentence[i] == c]\n",
    "\n",
    "        self.partial.append(c)\n",
    "        return self.matches[:3]"
   ]
  },
  {
   "cell_type": "code",
   "execution_count": null,
   "metadata": {},
   "outputs": [],
   "source": []
  }
 ],
 "metadata": {
  "interpreter": {
   "hash": "0dec37722eda255af3ca978d4fa44bb649fa9ba4c84e73cb2ab12a24b81d7aa7"
  },
  "kernelspec": {
   "display_name": "Python 3.8.3 64-bit ('base': conda)",
   "name": "python3"
  },
  "language_info": {
   "codemirror_mode": {
    "name": "ipython",
    "version": 3
   },
   "file_extension": ".py",
   "mimetype": "text/x-python",
   "name": "python",
   "nbconvert_exporter": "python",
   "pygments_lexer": "ipython3",
   "version": "3.8.3"
  },
  "orig_nbformat": 4
 },
 "nbformat": 4,
 "nbformat_minor": 2
}
