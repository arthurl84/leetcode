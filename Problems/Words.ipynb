{
 "cells": [
  {
   "cell_type": "code",
   "execution_count": 1,
   "metadata": {},
   "outputs": [],
   "source": [
    "from typing import List\n",
    "\n",
    "def wordBreak(s: str, wordDict: List[str]) -> bool:\n",
    "    \n",
    "    wordSet = set(wordDict)\n",
    "    dp = [False] * (len(s) + 1)\n",
    "\n",
    "    dp[0] = True\n",
    "    for i in range(1, len(s) + 1):\n",
    "        for j in range(i):\n",
    "            if dp[j] and s[j:i] in wordSet:\n",
    "                dp[i] = True\n",
    "                break\n",
    "    return dp[len(s)]"
   ]
  },
  {
   "cell_type": "code",
   "execution_count": 4,
   "metadata": {},
   "outputs": [
    {
     "data": {
      "text/plain": [
       "False"
      ]
     },
     "execution_count": 4,
     "metadata": {},
     "output_type": "execute_result"
    }
   ],
   "source": [
    "wordBreak(\"catsandog\", [\"cats\",\"dog\",\"sand\",\"and\",\"cat\"])"
   ]
  },
  {
   "cell_type": "code",
   "execution_count": 2,
   "metadata": {},
   "outputs": [],
   "source": [
    "from typing import List\n",
    "from collections import defaultdict\n",
    "\n",
    "def wordBreak2(s: str, wordDict: List[str]) -> List[str]:\n",
    "\n",
    "    wordSet = set(wordDict)\n",
    "    memo = defaultdict(list)\n",
    "\n",
    "    def _wordBreak(s: str) -> List[List[str]]:\n",
    "        if not s:\n",
    "            return [[]]\n",
    "        if s in memo:\n",
    "            return memo[s]\n",
    "        for endIndex in range(1, len(s) + 1):\n",
    "            word = s[:endIndex]\n",
    "            if word in wordSet:\n",
    "                for subsentence in _wordBreak(s[endIndex:]):\n",
    "                    memo[s].append([word] + subsentence)\n",
    "        return memo[s]\n",
    "\n",
    "    _wordBreak(s)\n",
    "    return [' '.join(words) for words in memo[s]]"
   ]
  },
  {
   "cell_type": "code",
   "execution_count": 3,
   "metadata": {},
   "outputs": [
    {
     "data": {
      "text/plain": [
       "['cat sand dog', 'cats and dog']"
      ]
     },
     "execution_count": 3,
     "metadata": {},
     "output_type": "execute_result"
    }
   ],
   "source": [
    "wordBreak2(\"catsanddog\", [\"cat\",\"cats\",\"and\",\"sand\",\"dog\"])"
   ]
  },
  {
   "cell_type": "code",
   "execution_count": 5,
   "metadata": {},
   "outputs": [],
   "source": [
    "def wordSearch(board: List[List[str]], words: List[str]) -> List[str]:\n",
    "\n",
    "    m, n = len(board), len(board[0])\n",
    "    p = m * n\n",
    "    q = len(max(words, key=len))\n",
    "    # time complexity = O(p (4 * 3 ^ (q - 1)))\n",
    "\n",
    "    WORD_KEY = '$'\n",
    "    neighbors = [(1, 0), (0, 1), (-1, 0), (0, -1)]\n",
    "\n",
    "    trie = {}\n",
    "    # build trie\n",
    "    for word in words:\n",
    "        node = trie\n",
    "        for letter in word:\n",
    "            node = node.setdefault(letter, {})\n",
    "        node[WORD_KEY] = word\n",
    "\n",
    "    matchedWords = []\n",
    "\n",
    "    def backtrack(r, c, parent):\n",
    "        letter = board[r][c]\n",
    "        currNode = parent[letter]\n",
    "        \n",
    "        # we remove the matched word to avoid duplicates,\n",
    "        # as well as avoiding using set() for results.\n",
    "        word_match = currNode.pop(WORD_KEY, False)\n",
    "        if word_match:\n",
    "            matchedWords.append(word_match)\n",
    "            \n",
    "        board[r][c] = '#'\n",
    "        \n",
    "        for rOffset, cOffset in neighbors:\n",
    "            n_r, n_c = r + rOffset, c + cOffset\n",
    "            if n_r < 0 or n_r >= m or n_c < 0 or n_c >= n:\n",
    "                continue\n",
    "            if board[n_r][n_c] not in currNode:\n",
    "                continue\n",
    "            backtrack(n_r, n_c, currNode)\n",
    "        \n",
    "        board[r][c] = letter\n",
    "        \n",
    "        # Optimization: incrementally remove the matched leaf node in Trie.\n",
    "        if not currNode:\n",
    "            parent.pop(letter)\n",
    "\n",
    "    for r in range(m):\n",
    "        for c in range(n):\n",
    "            if board[r][c] in trie:\n",
    "                backtrack(r, c, trie)\n",
    "\n",
    "    return matchedWords"
   ]
  },
  {
   "cell_type": "code",
   "execution_count": 6,
   "metadata": {},
   "outputs": [
    {
     "data": {
      "text/plain": [
       "['oath', 'eat']"
      ]
     },
     "execution_count": 6,
     "metadata": {},
     "output_type": "execute_result"
    }
   ],
   "source": [
    "wordSearch([[\"o\",\"a\",\"a\",\"n\"],[\"e\",\"t\",\"a\",\"e\"],[\"i\",\"h\",\"k\",\"r\"],[\"i\",\"f\",\"l\",\"v\"]], [\"oath\",\"pea\",\"eat\",\"rain\"])"
   ]
  },
  {
   "cell_type": "code",
   "execution_count": null,
   "metadata": {},
   "outputs": [],
   "source": []
  }
 ],
 "metadata": {
  "interpreter": {
   "hash": "0dec37722eda255af3ca978d4fa44bb649fa9ba4c84e73cb2ab12a24b81d7aa7"
  },
  "kernelspec": {
   "display_name": "Python 3.8.3 64-bit ('base': conda)",
   "name": "python3"
  },
  "language_info": {
   "codemirror_mode": {
    "name": "ipython",
    "version": 3
   },
   "file_extension": ".py",
   "mimetype": "text/x-python",
   "name": "python",
   "nbconvert_exporter": "python",
   "pygments_lexer": "ipython3",
   "version": "3.8.3"
  },
  "orig_nbformat": 4
 },
 "nbformat": 4,
 "nbformat_minor": 2
}
