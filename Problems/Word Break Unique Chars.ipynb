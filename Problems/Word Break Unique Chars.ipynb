{
 "cells": [
  {
   "cell_type": "code",
   "execution_count": 7,
   "source": [
    "from collections import defaultdict"
   ],
   "outputs": [],
   "metadata": {}
  },
  {
   "cell_type": "code",
   "execution_count": 6,
   "source": [
    "def isUniqueChars(st):\r\n",
    "    if len(st) > 256:\r\n",
    "        return False\r\n",
    "    char_set = [False] * 128\r\n",
    "    for i in range(len(st)):\r\n",
    "        val = ord(st[i])\r\n",
    "        if char_set[val]:\r\n",
    "            return False\r\n",
    "        char_set[val] = True\r\n",
    "    return True"
   ],
   "outputs": [],
   "metadata": {}
  },
  {
   "cell_type": "code",
   "execution_count": 14,
   "source": [
    "def isUnique(st):\r\n",
    "    if len(st) > 26:\r\n",
    "        return False\r\n",
    "    char_set = [False] * 26\r\n",
    "    for i in range(len(st)):\r\n",
    "        val = ord(st[i]) - ord('a')\r\n",
    "        if char_set[val]:\r\n",
    "            return False\r\n",
    "        char_set[val] = True\r\n",
    "    return True"
   ],
   "outputs": [],
   "metadata": {}
  },
  {
   "cell_type": "code",
   "execution_count": 17,
   "source": [
    "def solution(S):\r\n",
    "\r\n",
    "    memo = defaultdict(list)\r\n",
    "\r\n",
    "    def wordbreak(s):\r\n",
    "        if not s:\r\n",
    "            return [[]]\r\n",
    "        if s in memo:\r\n",
    "            return memo[s]\r\n",
    "        for end in range(1, len(s) + 1):\r\n",
    "            word = s[:end]\r\n",
    "            if isUnique(word):\r\n",
    "                for subsentence in wordbreak(s[end:]):\r\n",
    "                    memo[s].append([word] + subsentence)\r\n",
    "        return memo[s]\r\n",
    "\r\n",
    "    wordbreak(S)\r\n",
    "    print(memo[S])\r\n",
    "    return min(len(words) for words in memo[S])"
   ],
   "outputs": [],
   "metadata": {}
  },
  {
   "cell_type": "code",
   "execution_count": 18,
   "source": [
    "solution('abba')"
   ],
   "outputs": [
    {
     "output_type": "stream",
     "name": "stdout",
     "text": [
      "[['a', 'b', 'b', 'a'], ['a', 'b', 'ba'], ['ab', 'b', 'a'], ['ab', 'ba']]\n"
     ]
    },
    {
     "output_type": "execute_result",
     "data": {
      "text/plain": [
       "2"
      ]
     },
     "metadata": {},
     "execution_count": 18
    }
   ],
   "metadata": {}
  },
  {
   "cell_type": "code",
   "execution_count": null,
   "source": [],
   "outputs": [],
   "metadata": {}
  }
 ],
 "metadata": {
  "orig_nbformat": 4,
  "language_info": {
   "name": "python",
   "version": "3.8.3",
   "mimetype": "text/x-python",
   "codemirror_mode": {
    "name": "ipython",
    "version": 3
   },
   "pygments_lexer": "ipython3",
   "nbconvert_exporter": "python",
   "file_extension": ".py"
  },
  "kernelspec": {
   "name": "python3",
   "display_name": "Python 3.8.3 64-bit ('base': conda)"
  },
  "interpreter": {
   "hash": "0dec37722eda255af3ca978d4fa44bb649fa9ba4c84e73cb2ab12a24b81d7aa7"
  }
 },
 "nbformat": 4,
 "nbformat_minor": 2
}