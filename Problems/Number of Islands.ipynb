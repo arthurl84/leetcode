{
 "metadata": {
  "language_info": {
   "codemirror_mode": {
    "name": "ipython",
    "version": 3
   },
   "file_extension": ".py",
   "mimetype": "text/x-python",
   "name": "python",
   "nbconvert_exporter": "python",
   "pygments_lexer": "ipython3",
   "version": "3.8.3"
  },
  "orig_nbformat": 2,
  "kernelspec": {
   "name": "python383jvsc74a57bd00dec37722eda255af3ca978d4fa44bb649fa9ba4c84e73cb2ab12a24b81d7aa7",
   "display_name": "Python 3.8.3 64-bit ('base': conda)"
  }
 },
 "nbformat": 4,
 "nbformat_minor": 2,
 "cells": [
  {
   "source": [
    "## Number of Islands  \n",
    "\n",
    "Given an m x n 2D binary grid grid which represents a map of '1's (land) and '0's (water), return the number of islands.  \n",
    "\n",
    "An island is surrounded by water and is formed by connecting adjacent lands horizontally or vertically. You may assume all four edges of the grid are all surrounded by water.  \n"
   ],
   "cell_type": "markdown",
   "metadata": {}
  },
  {
   "cell_type": "code",
   "execution_count": 3,
   "metadata": {},
   "outputs": [],
   "source": [
    "class Solution(object):\n",
    "    def dfs(self, grid, r, c):\n",
    "        nr = len(grid)\n",
    "        nc = len(grid[0])\n",
    "\n",
    "        if r < 0 or c < 0 or r >= nr or c >= nc or grid[r][c] == '0':\n",
    "            return\n",
    "\n",
    "        grid[r][c] = '0'\n",
    "        self.dfs(grid, r - 1, c)\n",
    "        self.dfs(grid, r + 1, c)\n",
    "        self.dfs(grid, r, c - 1)\n",
    "        self.dfs(grid, r, c + 1)\n",
    "\n",
    "    def numIslands(self, grid):\n",
    "        if not grid or not grid[0]:\n",
    "            return 0\n",
    "\n",
    "        nr = len(grid)\n",
    "        nc = len(grid[0])\n",
    "\n",
    "        num_islands = 0\n",
    "\n",
    "        for r in range(nr):\n",
    "            for c in range(nc):\n",
    "                if grid[r][c] == '1':\n",
    "                    num_islands += 1\n",
    "                    self.dfs(grid, r, c)\n",
    "\n",
    "        return num_islands"
   ]
  },
  {
   "cell_type": "code",
   "execution_count": 4,
   "metadata": {},
   "outputs": [
    {
     "output_type": "execute_result",
     "data": {
      "text/plain": [
       "3"
      ]
     },
     "metadata": {},
     "execution_count": 4
    }
   ],
   "source": [
    "sol = Solution()\n",
    "sol.numIslands([\n",
    "  [\"1\",\"1\",\"0\",\"0\",\"0\"],\n",
    "  [\"1\",\"1\",\"0\",\"0\",\"0\"],\n",
    "  [\"0\",\"0\",\"1\",\"0\",\"0\"],\n",
    "  [\"0\",\"0\",\"0\",\"1\",\"1\"]\n",
    "])"
   ]
  },
  {
   "cell_type": "code",
   "execution_count": null,
   "metadata": {},
   "outputs": [],
   "source": []
  }
 ]
}