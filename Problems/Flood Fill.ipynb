{
 "cells": [
  {
   "cell_type": "markdown",
   "source": [
    "## Flood Fill  "
   ],
   "metadata": {}
  },
  {
   "cell_type": "code",
   "execution_count": 2,
   "source": [
    "from typing import List\r\n",
    "\r\n",
    "def floodFill(image: List[List[int]], sr: int, sc: int, newColor: int) -> List[List[int]]:\r\n",
    "\r\n",
    "    if not image or not image[0]:\r\n",
    "        return image\r\n",
    "\r\n",
    "    oldColor = image[sr][sc]\r\n",
    "    if newColor == oldColor:\r\n",
    "        return image\r\n",
    "\r\n",
    "    R, C = len(image), len(image)\r\n",
    "\r\n",
    "    def dfs(r, c):\r\n",
    "        if r < 0 or r >= R or c < 0 or c >= C or image[r][c] == newColor:\r\n",
    "            return \r\n",
    "\r\n",
    "        if image[r][c] == oldColor:\r\n",
    "            image[r][c] = newColor\r\n",
    "            dfs(r + 1, c)\r\n",
    "            dfs(r - 1, c)\r\n",
    "            dfs(r, c + 1)\r\n",
    "            dfs(r, c - 1)\r\n",
    "\r\n",
    "    dfs(sr, sc)\r\n",
    "    return image"
   ],
   "outputs": [],
   "metadata": {}
  },
  {
   "cell_type": "code",
   "execution_count": 3,
   "source": [
    "floodFill([[1,1,1],[1,1,0],[1,0,1]], 1, 1, 2)"
   ],
   "outputs": [
    {
     "output_type": "execute_result",
     "data": {
      "text/plain": [
       "[[2, 2, 2], [2, 2, 0], [2, 0, 1]]"
      ]
     },
     "metadata": {},
     "execution_count": 3
    }
   ],
   "metadata": {}
  },
  {
   "cell_type": "code",
   "execution_count": null,
   "source": [],
   "outputs": [],
   "metadata": {}
  }
 ],
 "metadata": {
  "orig_nbformat": 4,
  "language_info": {
   "name": "python",
   "version": "3.8.3",
   "mimetype": "text/x-python",
   "codemirror_mode": {
    "name": "ipython",
    "version": 3
   },
   "pygments_lexer": "ipython3",
   "nbconvert_exporter": "python",
   "file_extension": ".py"
  },
  "kernelspec": {
   "name": "python3",
   "display_name": "Python 3.8.3 64-bit ('base': conda)"
  },
  "interpreter": {
   "hash": "0dec37722eda255af3ca978d4fa44bb649fa9ba4c84e73cb2ab12a24b81d7aa7"
  }
 },
 "nbformat": 4,
 "nbformat_minor": 2
}