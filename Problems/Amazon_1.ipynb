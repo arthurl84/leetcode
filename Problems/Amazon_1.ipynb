{
 "cells": [
  {
   "cell_type": "code",
   "execution_count": 13,
   "source": [
    "from dataclasses import dataclass\r\n",
    "from typing import List\r\n",
    "\r\n",
    "@dataclass\r\n",
    "class Song:\r\n",
    "    id: int\r\n",
    "    rating: int\r\n",
    "    similar: List[Song]"
   ],
   "outputs": [],
   "metadata": {}
  },
  {
   "cell_type": "code",
   "execution_count": 17,
   "source": [
    "from collections import defaultdict\r\n",
    "import heapq\r\n",
    "\r\n",
    "def getRecommendation(seed: Song, k: int):\r\n",
    "\r\n",
    "    ratings = defaultdict(int)\r\n",
    "\r\n",
    "    def getRating(song):\r\n",
    "        if song.id not in ratings:\r\n",
    "            ratings[song.id] = song.rating\r\n",
    "            for s in song.similar:\r\n",
    "                getRating(s)\r\n",
    "\r\n",
    "    # time complexity = O(n * log k), where n = len(ratings)\r\n",
    "    return heapq.nlargest(k, ratings, key=ratings.get)"
   ],
   "outputs": [],
   "metadata": {}
  },
  {
   "cell_type": "code",
   "execution_count": null,
   "source": [],
   "outputs": [],
   "metadata": {}
  }
 ],
 "metadata": {
  "orig_nbformat": 4,
  "language_info": {
   "name": "python",
   "version": "3.8.3",
   "mimetype": "text/x-python",
   "codemirror_mode": {
    "name": "ipython",
    "version": 3
   },
   "pygments_lexer": "ipython3",
   "nbconvert_exporter": "python",
   "file_extension": ".py"
  },
  "kernelspec": {
   "name": "python3",
   "display_name": "Python 3.8.3 64-bit ('base': conda)"
  },
  "interpreter": {
   "hash": "0dec37722eda255af3ca978d4fa44bb649fa9ba4c84e73cb2ab12a24b81d7aa7"
  }
 },
 "nbformat": 4,
 "nbformat_minor": 2
}