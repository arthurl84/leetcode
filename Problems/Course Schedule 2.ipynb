{
 "cells": [
  {
   "cell_type": "markdown",
   "metadata": {},
   "source": [
    "## Course Schedule II  \n",
    "\n",
    "There are a total of numCourses courses you have to take, labeled from 0 to numCourses - 1. You are given an array prerequisites where prerequisites[i] = [ai, bi] indicates that you must take course bi first if you want to take course ai.  \n",
    "\n",
    "For example, the pair [0, 1], indicates that to take course 0 you have to first take course 1.  \n",
    "Return the ordering of courses you should take to finish all courses. If there are many valid answers, return any of them. If it is impossible to finish all courses, return an empty array.  \n"
   ]
  },
  {
   "cell_type": "code",
   "execution_count": 1,
   "metadata": {},
   "outputs": [],
   "source": [
    "from collections import defaultdict"
   ]
  },
  {
   "cell_type": "code",
   "execution_count": 3,
   "metadata": {},
   "outputs": [],
   "source": [
    "class Solution(object):\n",
    "\n",
    "    WHITE = 1\n",
    "    GRAY = 2\n",
    "    BLACK = 3\n",
    "\n",
    "    def findOrder(self, numCourses, prerequisites):\n",
    "\n",
    "        adj_list = defaultdict(list)\n",
    "        for dest, src in prerequisites:\n",
    "            adj_list[src].append(dest)\n",
    "\n",
    "        topological_sorted_order = []\n",
    "        is_possible = True\n",
    "\n",
    "        color = {k: Solution.WHITE for k in range(numCourses)}\n",
    "        def dfs(node):\n",
    "            nonlocal is_possible\n",
    "            if not is_possible:\n",
    "                return\n",
    "\n",
    "            color[node] = Solution.GRAY\n",
    "            if node in adj_list:\n",
    "                for neighbor in adj_list[node]:\n",
    "                    if color[neighbor] == Solution.WHITE:\n",
    "                        dfs(neighbor)\n",
    "                    elif color[neighbor] == Solution.GRAY:\n",
    "                        is_possible = False\n",
    "\n",
    "            color[node] = Solution.BLACK\n",
    "            topological_sorted_order.append(node)\n",
    "\n",
    "        for vertex in range(numCourses):\n",
    "            if color[vertex] == Solution.WHITE:\n",
    "                dfs(vertex)\n",
    "\n",
    "        return topological_sorted_order[::-1] if is_possible else []"
   ]
  },
  {
   "cell_type": "code",
   "execution_count": 4,
   "metadata": {},
   "outputs": [
    {
     "data": {
      "text/plain": [
       "[0, 2, 1, 3]"
      ]
     },
     "execution_count": 4,
     "metadata": {},
     "output_type": "execute_result"
    }
   ],
   "source": [
    "sol = Solution()\n",
    "sol.findOrder(4, [[1,0],[2,0],[3,1],[3,2]])"
   ]
  },
  {
   "cell_type": "code",
   "execution_count": 1,
   "metadata": {},
   "outputs": [],
   "source": [
    "from typing import List\n",
    "from collections import defaultdict, deque\n",
    "\n",
    "def findOrderWithBFS(numCourses: int, prerequisites: List[List[int]]) -> List[int]:\n",
    "    adj_list = defaultdict(list)\n",
    "    indegree = {}\n",
    "    for dest, src in prerequisites:\n",
    "        adj_list[src].append(dest)\n",
    "        # record each node's indegree\n",
    "        indegree[dest] = indegree.get(dest, 0) + 1\n",
    "\n",
    "    zero_indegree_queue = deque([k for k in range(numCourses) if k not in indegree])\n",
    "    topological_sorted_order = []\n",
    "\n",
    "    while zero_indegree_queue:\n",
    "        node = zero_indegree_queue.popleft()\n",
    "        topological_sorted_order.append(node)\n",
    "\n",
    "        if node in adj_list:\n",
    "            for neighbor in adj_list[node]:\n",
    "                indegree[neighbor] -= 1\n",
    "\n",
    "                if indegree[neighbor] == 0:\n",
    "                    zero_indegree_queue.append(neighbor)\n",
    "\n",
    "    return topological_sorted_order if len(topological_sorted_order) == numCourses else []"
   ]
  },
  {
   "cell_type": "code",
   "execution_count": 2,
   "metadata": {},
   "outputs": [
    {
     "data": {
      "text/plain": [
       "[0, 1, 2, 3]"
      ]
     },
     "execution_count": 2,
     "metadata": {},
     "output_type": "execute_result"
    }
   ],
   "source": [
    "findOrderWithBFS(4, [[1,0],[2,0],[3,1],[3,2]])"
   ]
  },
  {
   "cell_type": "code",
   "execution_count": null,
   "metadata": {},
   "outputs": [],
   "source": []
  }
 ],
 "metadata": {
  "interpreter": {
   "hash": "0dec37722eda255af3ca978d4fa44bb649fa9ba4c84e73cb2ab12a24b81d7aa7"
  },
  "kernelspec": {
   "display_name": "Python 3.8.3 64-bit ('base': conda)",
   "name": "python3"
  },
  "language_info": {
   "codemirror_mode": {
    "name": "ipython",
    "version": 3
   },
   "file_extension": ".py",
   "mimetype": "text/x-python",
   "name": "python",
   "nbconvert_exporter": "python",
   "pygments_lexer": "ipython3",
   "version": "3.8.3"
  },
  "orig_nbformat": 2
 },
 "nbformat": 4,
 "nbformat_minor": 2
}
