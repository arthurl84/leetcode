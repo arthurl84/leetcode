{
 "cells": [
  {
   "cell_type": "code",
   "execution_count": 1,
   "source": [
    "from heapq import *"
   ],
   "outputs": [],
   "metadata": {}
  },
  {
   "cell_type": "code",
   "execution_count": 2,
   "source": [
    "class MedianFinder:\r\n",
    "\r\n",
    "    def __init__(self) -> None:\r\n",
    "        # balancing two heaps\r\n",
    "        self.small = [] # max heap, store the smaller half of the numbers, contains negative elements\r\n",
    "        self.large = [] # min heap (Python default), store the larger half of the numbers\r\n",
    "\r\n",
    "    def addNum(self, num: int) -> None:\r\n",
    "        if len(self.small) == len(self.large):\r\n",
    "            tmp = -heappushpop(self.small, -num)\r\n",
    "            heappush(self.large, tmp) # self.large is allowed to have one more element\r\n",
    "        else: # if self.large has one more element than self.small\r\n",
    "            tmp = -heappushpop(self.large, num)\r\n",
    "            heappush(self.small, tmp)\r\n",
    "\r\n",
    "    def findMedian(self) -> float:\r\n",
    "        if len(self.small) == len(self.large):\r\n",
    "            return float(self.large[0] - self.small[0]) / 2.0\r\n",
    "        else:\r\n",
    "            return float(self.large[0])"
   ],
   "outputs": [],
   "metadata": {}
  },
  {
   "cell_type": "code",
   "execution_count": 4,
   "source": [
    "finder = MedianFinder()\r\n",
    "print(finder.addNum(1))\r\n",
    "print(finder.addNum(2))\r\n",
    "print(finder.findMedian())\r\n",
    "print(finder.addNum(3))\r\n",
    "print(finder.findMedian())"
   ],
   "outputs": [
    {
     "output_type": "stream",
     "name": "stdout",
     "text": [
      "None\n",
      "None\n",
      "1.5\n",
      "None\n",
      "2.0\n"
     ]
    }
   ],
   "metadata": {}
  },
  {
   "cell_type": "code",
   "execution_count": 5,
   "source": [
    "from collections import deque"
   ],
   "outputs": [],
   "metadata": {}
  },
  {
   "cell_type": "code",
   "execution_count": 6,
   "source": [
    "class MovingAverage:\r\n",
    "\r\n",
    "    def __init__(self, size: int) -> None:\r\n",
    "        '''\r\n",
    "        initialize the object with the size of the window\r\n",
    "        '''\r\n",
    "        self.data = deque()\r\n",
    "        self.size = size\r\n",
    "        self.count = 0\r\n",
    "        self.sum = 0\r\n",
    "\r\n",
    "    def next(self, val: int) -> float:\r\n",
    "        '''\r\n",
    "        return the moving average of the last size values of the stream\r\n",
    "        '''\r\n",
    "        if self.count == self.size:\r\n",
    "            first = self.data.popleft()\r\n",
    "            self.count -= 1\r\n",
    "            self.sum -= first\r\n",
    "        self.data.append(val)\r\n",
    "        self.count += 1\r\n",
    "        self.sum += val\r\n",
    "        return self.sum / self.count"
   ],
   "outputs": [],
   "metadata": {}
  },
  {
   "cell_type": "code",
   "execution_count": 7,
   "source": [
    "average = MovingAverage(3)\r\n",
    "print(average.next(1))\r\n",
    "print(average.next(10))\r\n",
    "print(average.next(3))\r\n",
    "print(average.next(5))"
   ],
   "outputs": [
    {
     "output_type": "stream",
     "name": "stdout",
     "text": [
      "1.0\n",
      "5.5\n",
      "4.666666666666667\n",
      "6.0\n"
     ]
    }
   ],
   "metadata": {}
  },
  {
   "cell_type": "code",
   "execution_count": null,
   "source": [],
   "outputs": [],
   "metadata": {}
  }
 ],
 "metadata": {
  "orig_nbformat": 4,
  "language_info": {
   "name": "python",
   "version": "3.8.3",
   "mimetype": "text/x-python",
   "codemirror_mode": {
    "name": "ipython",
    "version": 3
   },
   "pygments_lexer": "ipython3",
   "nbconvert_exporter": "python",
   "file_extension": ".py"
  },
  "kernelspec": {
   "name": "python3",
   "display_name": "Python 3.8.3 64-bit ('base': conda)"
  },
  "interpreter": {
   "hash": "0dec37722eda255af3ca978d4fa44bb649fa9ba4c84e73cb2ab12a24b81d7aa7"
  }
 },
 "nbformat": 4,
 "nbformat_minor": 2
}