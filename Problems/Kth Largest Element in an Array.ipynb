{
    "cells": [
        {
            "cell_type": "markdown",
            "source": [
                "## Kth largest element in an array  "
            ],
            "metadata": {}
        },
        {
            "cell_type": "code",
            "execution_count": 2,
            "source": [
                "import random"
            ],
            "outputs": [],
            "metadata": {}
        },
        {
            "cell_type": "code",
            "execution_count": null,
            "source": [
                "def findKthLargest(nums, k):\r\n",
                "\r\n",
                "    k_smallest = len(nums) - k\r\n",
                "\r\n",
                "    def partition(left, right, pivot_index):\r\n",
                "\r\n",
                "        pivot = nums[pivot_index]\r\n",
                "\r\n",
                "        nums[pivot_index], nums[right] = nums[right], nums[pivot_index]\r\n",
                "\r\n",
                "        i = left\r\n",
                "        for j in range(left, right):\r\n",
                "            if nums[j] < pivot:\r\n",
                "                nums[i], nums[j] = nums[j], nums[i]\r\n",
                "                i += 1\r\n",
                "\r\n",
                "        nums[i], nums[right] = nums[right], nums[i]\r\n",
                "        return i\r\n",
                "\r\n",
                "    def select(left, right):\r\n",
                "\r\n",
                "        if left == right:\r\n",
                "            return nums[left]\r\n",
                "\r\n",
                "        pivot_index = random.randint(left, right)\r\n",
                "        pivot_index = partition(left, right, pivot_index)\r\n",
                "\r\n",
                "        if k_smallest > pivot_index:\r\n",
                "            return select(pivot_index + 1, right)\r\n",
                "        elif k_smallest < pivot_index:\r\n",
                "            return select(left, pivot_index - 1)\r\n",
                "        else:\r\n",
                "            return nums[pivot_index]\r\n",
                "\r\n",
                "    return select(0, len(nums) - 1)"
            ],
            "outputs": [],
            "metadata": {}
        },
        {
            "cell_type": "code",
            "execution_count": 4,
            "source": [
                "findKthLargest([3,2,1,5,6,4], 2)"
            ],
            "outputs": [
                {
                    "output_type": "execute_result",
                    "data": {
                        "text/plain": [
                            "5"
                        ]
                    },
                    "metadata": {},
                    "execution_count": 4
                }
            ],
            "metadata": {}
        },
        {
            "cell_type": "code",
            "execution_count": null,
            "source": [],
            "outputs": [],
            "metadata": {}
        }
    ],
    "metadata": {
        "orig_nbformat": 4,
        "language_info": {
            "name": "python",
            "version": "3.8.3",
            "mimetype": "text/x-python",
            "codemirror_mode": {
                "name": "ipython",
                "version": 3
            },
            "pygments_lexer": "ipython3",
            "nbconvert_exporter": "python",
            "file_extension": ".py"
        },
        "kernelspec": {
            "name": "python3",
            "display_name": "Python 3.8.3 64-bit ('base': conda)"
        },
        "interpreter": {
            "hash": "0dec37722eda255af3ca978d4fa44bb649fa9ba4c84e73cb2ab12a24b81d7aa7"
        }
    },
    "nbformat": 4,
    "nbformat_minor": 2
}