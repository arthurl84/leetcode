{
 "cells": [
  {
   "cell_type": "markdown",
   "metadata": {},
   "source": [
    "### Longest Common Prefix  "
   ]
  },
  {
   "cell_type": "code",
   "execution_count": 1,
   "metadata": {},
   "outputs": [],
   "source": [
    "from typing import List\n",
    "\n",
    "def commonPrefix(left: str, right: str) -> str:\n",
    "    minLen = min(len(left), len(right))\n",
    "    for i in range(minLen):\n",
    "        if left[i] != right[i]:\n",
    "            return left[:i]\n",
    "    return left[:minLen]"
   ]
  },
  {
   "cell_type": "code",
   "execution_count": 2,
   "metadata": {},
   "outputs": [],
   "source": [
    "def lcp(strs: List[str], l: int, r: int) -> str:\n",
    "    if l == r:\n",
    "        return strs[l]\n",
    "    else:\n",
    "        mid = (l + r) // 2\n",
    "        lcpLeft = lcp(strs, l, mid)\n",
    "        lcpRight = lcp(strs, mid + 1, r)\n",
    "        return commonPrefix(lcpLeft, lcpRight)"
   ]
  },
  {
   "cell_type": "code",
   "execution_count": 3,
   "metadata": {},
   "outputs": [],
   "source": [
    "def longestCommonPrefix(strs: List[str]) -> str:\n",
    "    if not strs or len(strs) == 0:\n",
    "        return ''\n",
    "\n",
    "    return lcp(strs, 0, len(strs) - 1)"
   ]
  },
  {
   "cell_type": "code",
   "execution_count": 5,
   "metadata": {},
   "outputs": [
    {
     "data": {
      "text/plain": [
       "'fl'"
      ]
     },
     "execution_count": 5,
     "metadata": {},
     "output_type": "execute_result"
    }
   ],
   "source": [
    "longestCommonPrefix([\"flower\",\"flow\",\"flight\"])"
   ]
  },
  {
   "cell_type": "code",
   "execution_count": 3,
   "metadata": {},
   "outputs": [],
   "source": [
    "from typing import List\n",
    "\n",
    "def longestCommonPrefix2(strs: List[str]) -> str:\n",
    "    if not strs or len(strs) == 0:\n",
    "        return ''\n",
    "\n",
    "    def isCommonPrefix(strs: List[str], length: int) -> bool:\n",
    "        str1 = strs[0][:length]\n",
    "        for i in range(1, len(strs)):\n",
    "            if not strs[i].startswith(str1):\n",
    "                return False\n",
    "        return True\n",
    "\n",
    "    minLen = min(map(len, strs))\n",
    "    low, high = 1, minLen\n",
    "    while low <= high:\n",
    "        mid = (low + high) // 2\n",
    "        if isCommonPrefix(strs, mid):\n",
    "            low = mid + 1\n",
    "        else:\n",
    "            high = mid - 1\n",
    "    \n",
    "    return strs[0][:(low + high) // 2]"
   ]
  },
  {
   "cell_type": "code",
   "execution_count": 4,
   "metadata": {},
   "outputs": [
    {
     "data": {
      "text/plain": [
       "'fl'"
      ]
     },
     "execution_count": 4,
     "metadata": {},
     "output_type": "execute_result"
    }
   ],
   "source": [
    "longestCommonPrefix2([\"flower\",\"flow\",\"flight\"])"
   ]
  },
  {
   "cell_type": "code",
   "execution_count": null,
   "metadata": {},
   "outputs": [],
   "source": []
  }
 ],
 "metadata": {
  "interpreter": {
   "hash": "0dec37722eda255af3ca978d4fa44bb649fa9ba4c84e73cb2ab12a24b81d7aa7"
  },
  "kernelspec": {
   "display_name": "Python 3.8.3 64-bit ('base': conda)",
   "language": "python",
   "name": "python3"
  },
  "language_info": {
   "codemirror_mode": {
    "name": "ipython",
    "version": 3
   },
   "file_extension": ".py",
   "mimetype": "text/x-python",
   "name": "python",
   "nbconvert_exporter": "python",
   "pygments_lexer": "ipython3",
   "version": "3.8.3"
  },
  "orig_nbformat": 4
 },
 "nbformat": 4,
 "nbformat_minor": 2
}
