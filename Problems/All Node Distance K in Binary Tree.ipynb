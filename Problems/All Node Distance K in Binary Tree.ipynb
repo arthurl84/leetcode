{
 "cells": [
  {
   "cell_type": "markdown",
   "metadata": {},
   "source": [
    "## All Node Distance K in Binary Tree  "
   ]
  },
  {
   "cell_type": "code",
   "execution_count": 3,
   "metadata": {},
   "outputs": [],
   "source": [
    "from typing import List\n",
    "from collections import deque"
   ]
  },
  {
   "cell_type": "code",
   "execution_count": 2,
   "metadata": {},
   "outputs": [],
   "source": [
    "class TreeNode:\n",
    "    def __init__(self, x):\n",
    "        self.val = x\n",
    "        self.left = None\n",
    "        self.right = None"
   ]
  },
  {
   "cell_type": "code",
   "execution_count": 4,
   "metadata": {},
   "outputs": [],
   "source": [
    "def distanceK(root: TreeNode, target: TreeNode, k: int) -> List[int]:\n",
    "    def dfs(node, par=None):\n",
    "        if node:\n",
    "            node.par = par\n",
    "            dfs(node.left, node)\n",
    "            dfs(node.right, node)\n",
    "\n",
    "    dfs(root)\n",
    "\n",
    "    seen = {target}\n",
    "    queue = deque([(target, 0)])\n",
    "    while queue:\n",
    "        if queue[0][1] == k:\n",
    "            return [node.val for node, d in queue]\n",
    "        node, d = queue.popleft()\n",
    "        for nei in (node.left, node.right, node.par):\n",
    "            if nei and nei not in seen:\n",
    "                seen.add(nei)\n",
    "                queue.append((nei, d + 1))\n",
    "\n",
    "    return []"
   ]
  },
  {
   "cell_type": "code",
   "execution_count": 5,
   "metadata": {},
   "outputs": [],
   "source": [
    "def distanceK2(root: TreeNode, target: TreeNode, k: int) -> List[int]:\n",
    "\n",
    "    ans = []\n",
    "\n",
    "    def subtree_add(node: TreeNode, distance: int) -> None:\n",
    "        \"\"\"\n",
    "        Add all nodes 'k - dist' from the node to answer\n",
    "        \"\"\"\n",
    "        if not node:\n",
    "            return\n",
    "        elif distance == k:\n",
    "            ans.append(node.val)\n",
    "        else:\n",
    "            subtree_add(node.left, distance + 1)\n",
    "            subtree_add(node.right, distance + 1)\n",
    "\n",
    "    def dfs(node: TreeNode) -> int:\n",
    "        \"\"\"\n",
    "        Return distance from node to target if exists, else -1\n",
    "        \n",
    "        \"\"\"\n",
    "        if not node:\n",
    "            return -1\n",
    "        elif node is target:\n",
    "            subtree_add(node, 0)\n",
    "            return 1\n",
    "        else:\n",
    "            L, R = dfs(node.left), dfs(node.right)\n",
    "            if L != -1:\n",
    "                if L == k:\n",
    "                    ans.append(node.val)\n",
    "                subtree_add(node.right, L + 1)\n",
    "                return L + 1\n",
    "            elif R != -1:\n",
    "                if R == k:\n",
    "                    ans.append(node.val)\n",
    "                subtree_add(node.left, R + 1)\n",
    "                return R + 1\n",
    "            else:\n",
    "                return -1\n",
    "\n",
    "    dfs(root)\n",
    "    return ans"
   ]
  },
  {
   "cell_type": "code",
   "execution_count": null,
   "metadata": {},
   "outputs": [],
   "source": []
  }
 ],
 "metadata": {
  "interpreter": {
   "hash": "0dec37722eda255af3ca978d4fa44bb649fa9ba4c84e73cb2ab12a24b81d7aa7"
  },
  "kernelspec": {
   "display_name": "Python 3.8.3 64-bit ('base': conda)",
   "name": "python3"
  },
  "language_info": {
   "codemirror_mode": {
    "name": "ipython",
    "version": 3
   },
   "file_extension": ".py",
   "mimetype": "text/x-python",
   "name": "python",
   "nbconvert_exporter": "python",
   "pygments_lexer": "ipython3",
   "version": "3.8.3"
  },
  "orig_nbformat": 4
 },
 "nbformat": 4,
 "nbformat_minor": 2
}
