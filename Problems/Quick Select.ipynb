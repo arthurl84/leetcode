{
 "cells": [
  {
   "cell_type": "markdown",
   "metadata": {},
   "source": [
    "## Kth Largest Element in an Array  "
   ]
  },
  {
   "cell_type": "code",
   "execution_count": 16,
   "metadata": {},
   "outputs": [],
   "source": [
    "from typing import List\n",
    "import heapq\n",
    "import random\n",
    "\n",
    "def findKthLargest(nums: List[int], k: int) -> int:\n",
    "\n",
    "    # return sorted(nums)[-k] # O(NlogN), O(1)\n",
    "    # return heapq.nlargest(k, nums)[-1] # O(Nlogk), O(k)\n",
    "\n",
    "    # quick select\n",
    "    k_smallest = len(nums) - k\n",
    "\n",
    "    def partition(left: int, right: int, pivot_index: int) -> int:\n",
    "        pivot = nums[pivot_index]\n",
    "        # move pivot to end\n",
    "        nums[pivot_index], nums[right] = nums[right], nums[pivot_index]\n",
    "\n",
    "        i = left # target pivot place\n",
    "        for j in range(left, right):\n",
    "            if nums[j] < pivot:\n",
    "                # move all smaller elements to the left\n",
    "                nums[i], nums[j] = nums[j], nums[i]\n",
    "                i += 1\n",
    "\n",
    "        # move pivot to its final place\n",
    "        nums[i], nums[right] = nums[right], nums[i]\n",
    "        return i\n",
    "\n",
    "    def select(left: int, right: int) -> int:\n",
    "        if left == right:\n",
    "            return nums[left]\n",
    "\n",
    "        pivot_index = random.randint(left, right)\n",
    "        pivot_index = partition(left, right, pivot_index)\n",
    "\n",
    "        if k_smallest > pivot_index:\n",
    "            return select(pivot_index + 1, right)\n",
    "        elif k_smallest < pivot_index:\n",
    "            return select(left, pivot_index - 1)\n",
    "        else:\n",
    "            return nums[pivot_index]\n",
    "\n",
    "    return select(0, len(nums) - 1)"
   ]
  },
  {
   "cell_type": "code",
   "execution_count": 17,
   "metadata": {},
   "outputs": [
    {
     "data": {
      "text/plain": [
       "5"
      ]
     },
     "execution_count": 17,
     "metadata": {},
     "output_type": "execute_result"
    }
   ],
   "source": [
    "findKthLargest([3,2,1,5,6,4], 2)"
   ]
  },
  {
   "cell_type": "code",
   "execution_count": null,
   "metadata": {},
   "outputs": [],
   "source": []
  }
 ],
 "metadata": {
  "interpreter": {
   "hash": "0dec37722eda255af3ca978d4fa44bb649fa9ba4c84e73cb2ab12a24b81d7aa7"
  },
  "kernelspec": {
   "display_name": "Python 3.8.3 64-bit ('base': conda)",
   "name": "python3"
  },
  "language_info": {
   "codemirror_mode": {
    "name": "ipython",
    "version": 3
   },
   "file_extension": ".py",
   "mimetype": "text/x-python",
   "name": "python",
   "nbconvert_exporter": "python",
   "pygments_lexer": "ipython3",
   "version": "3.8.3"
  },
  "orig_nbformat": 4
 },
 "nbformat": 4,
 "nbformat_minor": 2
}
